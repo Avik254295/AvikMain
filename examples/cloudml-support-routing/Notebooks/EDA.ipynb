{
 "cells": [
  {
   "cell_type": "code",
   "execution_count": 1,
   "metadata": {},
   "outputs": [],
   "source": [
    "from google.cloud import bigquery\n",
    "import pandas"
   ]
  },
  {
   "cell_type": "code",
   "execution_count": 2,
   "metadata": {},
   "outputs": [
    {
     "name": "stdout",
     "output_type": "stream",
     "text": [
      "Client creating using default project: ut-goog\n"
     ]
    }
   ],
   "source": [
    "client = bigquery.Client(location=\"US\")\n",
    "print(\"Client creating using default project: {}\".format(client.project))"
   ]
  },
  {
   "cell_type": "markdown",
   "metadata": {},
   "source": [
    "# Looking at the first half of the columns from the dataset."
   ]
  },
  {
   "cell_type": "code",
   "execution_count": 3,
   "metadata": {},
   "outputs": [
    {
     "data": {
      "text/html": [
       "<div>\n",
       "<style scoped>\n",
       "    .dataframe tbody tr th:only-of-type {\n",
       "        vertical-align: middle;\n",
       "    }\n",
       "\n",
       "    .dataframe tbody tr th {\n",
       "        vertical-align: top;\n",
       "    }\n",
       "\n",
       "    .dataframe thead th {\n",
       "        text-align: right;\n",
       "    }\n",
       "</style>\n",
       "<table border=\"1\" class=\"dataframe\">\n",
       "  <thead>\n",
       "    <tr style=\"text-align: right;\">\n",
       "      <th></th>\n",
       "      <th>date_received</th>\n",
       "      <th>product</th>\n",
       "      <th>subproduct</th>\n",
       "      <th>issue</th>\n",
       "      <th>subissue</th>\n",
       "      <th>consumer_complaint_narrative</th>\n",
       "      <th>company_public_response</th>\n",
       "      <th>company_name</th>\n",
       "      <th>state</th>\n",
       "    </tr>\n",
       "  </thead>\n",
       "  <tbody>\n",
       "    <tr>\n",
       "      <th>0</th>\n",
       "      <td>2017-03-26</td>\n",
       "      <td>Credit card</td>\n",
       "      <td>None</td>\n",
       "      <td>Late fee</td>\n",
       "      <td>None</td>\n",
       "      <td>None</td>\n",
       "      <td>None</td>\n",
       "      <td>Alliance Data Card Services</td>\n",
       "      <td>IL</td>\n",
       "    </tr>\n",
       "    <tr>\n",
       "      <th>1</th>\n",
       "      <td>2020-04-29</td>\n",
       "      <td>Credit card or prepaid card</td>\n",
       "      <td>General-purpose prepaid card</td>\n",
       "      <td>Advertising</td>\n",
       "      <td>Confusing or misleading advertising about the ...</td>\n",
       "      <td>None</td>\n",
       "      <td>None</td>\n",
       "      <td>AMERICAN EXPRESS COMPANY</td>\n",
       "      <td>CA</td>\n",
       "    </tr>\n",
       "    <tr>\n",
       "      <th>2</th>\n",
       "      <td>2020-04-17</td>\n",
       "      <td>Credit card or prepaid card</td>\n",
       "      <td>General-purpose prepaid card</td>\n",
       "      <td>Advertising</td>\n",
       "      <td>Confusing or misleading advertising about the ...</td>\n",
       "      <td>None</td>\n",
       "      <td>None</td>\n",
       "      <td>AMERICAN EXPRESS COMPANY</td>\n",
       "      <td>NY</td>\n",
       "    </tr>\n",
       "    <tr>\n",
       "      <th>3</th>\n",
       "      <td>2020-04-10</td>\n",
       "      <td>Credit card or prepaid card</td>\n",
       "      <td>General-purpose prepaid card</td>\n",
       "      <td>Advertising</td>\n",
       "      <td>Changes in terms from what was offered or adve...</td>\n",
       "      <td>None</td>\n",
       "      <td>None</td>\n",
       "      <td>BARCLAYS BANK DELAWARE</td>\n",
       "      <td>NY</td>\n",
       "    </tr>\n",
       "    <tr>\n",
       "      <th>4</th>\n",
       "      <td>2020-04-09</td>\n",
       "      <td>Money transfer, virtual currency, or money ser...</td>\n",
       "      <td>International money transfer</td>\n",
       "      <td>Fraud or scam</td>\n",
       "      <td>None</td>\n",
       "      <td>None</td>\n",
       "      <td>None</td>\n",
       "      <td>BANK OF AMERICA, NATIONAL ASSOCIATION</td>\n",
       "      <td>TX</td>\n",
       "    </tr>\n",
       "    <tr>\n",
       "      <th>...</th>\n",
       "      <td>...</td>\n",
       "      <td>...</td>\n",
       "      <td>...</td>\n",
       "      <td>...</td>\n",
       "      <td>...</td>\n",
       "      <td>...</td>\n",
       "      <td>...</td>\n",
       "      <td>...</td>\n",
       "      <td>...</td>\n",
       "    </tr>\n",
       "    <tr>\n",
       "      <th>1598293</th>\n",
       "      <td>2019-03-08</td>\n",
       "      <td>Credit reporting, credit repair services, or o...</td>\n",
       "      <td>Credit reporting</td>\n",
       "      <td>Incorrect information on your report</td>\n",
       "      <td>Information belongs to someone else</td>\n",
       "      <td>None</td>\n",
       "      <td>Company has responded to the consumer and the ...</td>\n",
       "      <td>TRANSUNION INTERMEDIATE HOLDINGS, INC.</td>\n",
       "      <td>MO</td>\n",
       "    </tr>\n",
       "    <tr>\n",
       "      <th>1598294</th>\n",
       "      <td>2018-12-27</td>\n",
       "      <td>Mortgage</td>\n",
       "      <td>Conventional home mortgage</td>\n",
       "      <td>Trouble during payment process</td>\n",
       "      <td>None</td>\n",
       "      <td>I was a participant in the class settlement wi...</td>\n",
       "      <td>None</td>\n",
       "      <td>Ocwen Financial Corporation</td>\n",
       "      <td>NC</td>\n",
       "    </tr>\n",
       "    <tr>\n",
       "      <th>1598295</th>\n",
       "      <td>2018-12-05</td>\n",
       "      <td>Checking or savings account</td>\n",
       "      <td>Other banking product or service</td>\n",
       "      <td>Managing an account</td>\n",
       "      <td>Problem making or receiving payments</td>\n",
       "      <td>None</td>\n",
       "      <td>Company has responded to the consumer and the ...</td>\n",
       "      <td>WELLS FARGO &amp; COMPANY</td>\n",
       "      <td>NC</td>\n",
       "    </tr>\n",
       "    <tr>\n",
       "      <th>1598296</th>\n",
       "      <td>2017-01-20</td>\n",
       "      <td>Student loan</td>\n",
       "      <td>Federal student loan servicing</td>\n",
       "      <td>Can't repay my loan</td>\n",
       "      <td>Can't temporarily postpone payments</td>\n",
       "      <td>My income sensitive payments were stopped with...</td>\n",
       "      <td>None</td>\n",
       "      <td>Navient Solutions, LLC.</td>\n",
       "      <td>GA</td>\n",
       "    </tr>\n",
       "    <tr>\n",
       "      <th>1598297</th>\n",
       "      <td>2015-05-15</td>\n",
       "      <td>Debt collection</td>\n",
       "      <td>I do not know</td>\n",
       "      <td>Cont'd attempts collect debt not owed</td>\n",
       "      <td>Debt is not mine</td>\n",
       "      <td>my work phone ( XXXX ) XXXX has been called fo...</td>\n",
       "      <td>None</td>\n",
       "      <td>BALANCED HEALTHCARE RECEIVABLES, LLC</td>\n",
       "      <td>NY</td>\n",
       "    </tr>\n",
       "  </tbody>\n",
       "</table>\n",
       "<p>1598298 rows × 9 columns</p>\n",
       "</div>"
      ],
      "text/plain": [
       "        date_received                                            product  \\\n",
       "0          2017-03-26                                        Credit card   \n",
       "1          2020-04-29                        Credit card or prepaid card   \n",
       "2          2020-04-17                        Credit card or prepaid card   \n",
       "3          2020-04-10                        Credit card or prepaid card   \n",
       "4          2020-04-09  Money transfer, virtual currency, or money ser...   \n",
       "...               ...                                                ...   \n",
       "1598293    2019-03-08  Credit reporting, credit repair services, or o...   \n",
       "1598294    2018-12-27                                           Mortgage   \n",
       "1598295    2018-12-05                        Checking or savings account   \n",
       "1598296    2017-01-20                                       Student loan   \n",
       "1598297    2015-05-15                                    Debt collection   \n",
       "\n",
       "                               subproduct  \\\n",
       "0                                    None   \n",
       "1            General-purpose prepaid card   \n",
       "2            General-purpose prepaid card   \n",
       "3            General-purpose prepaid card   \n",
       "4            International money transfer   \n",
       "...                                   ...   \n",
       "1598293                  Credit reporting   \n",
       "1598294        Conventional home mortgage   \n",
       "1598295  Other banking product or service   \n",
       "1598296    Federal student loan servicing   \n",
       "1598297                     I do not know   \n",
       "\n",
       "                                         issue  \\\n",
       "0                                     Late fee   \n",
       "1                                  Advertising   \n",
       "2                                  Advertising   \n",
       "3                                  Advertising   \n",
       "4                                Fraud or scam   \n",
       "...                                        ...   \n",
       "1598293   Incorrect information on your report   \n",
       "1598294         Trouble during payment process   \n",
       "1598295                    Managing an account   \n",
       "1598296                    Can't repay my loan   \n",
       "1598297  Cont'd attempts collect debt not owed   \n",
       "\n",
       "                                                  subissue  \\\n",
       "0                                                     None   \n",
       "1        Confusing or misleading advertising about the ...   \n",
       "2        Confusing or misleading advertising about the ...   \n",
       "3        Changes in terms from what was offered or adve...   \n",
       "4                                                     None   \n",
       "...                                                    ...   \n",
       "1598293                Information belongs to someone else   \n",
       "1598294                                               None   \n",
       "1598295               Problem making or receiving payments   \n",
       "1598296                Can't temporarily postpone payments   \n",
       "1598297                                   Debt is not mine   \n",
       "\n",
       "                              consumer_complaint_narrative  \\\n",
       "0                                                     None   \n",
       "1                                                     None   \n",
       "2                                                     None   \n",
       "3                                                     None   \n",
       "4                                                     None   \n",
       "...                                                    ...   \n",
       "1598293                                               None   \n",
       "1598294  I was a participant in the class settlement wi...   \n",
       "1598295                                               None   \n",
       "1598296  My income sensitive payments were stopped with...   \n",
       "1598297  my work phone ( XXXX ) XXXX has been called fo...   \n",
       "\n",
       "                                   company_public_response  \\\n",
       "0                                                     None   \n",
       "1                                                     None   \n",
       "2                                                     None   \n",
       "3                                                     None   \n",
       "4                                                     None   \n",
       "...                                                    ...   \n",
       "1598293  Company has responded to the consumer and the ...   \n",
       "1598294                                               None   \n",
       "1598295  Company has responded to the consumer and the ...   \n",
       "1598296                                               None   \n",
       "1598297                                               None   \n",
       "\n",
       "                                   company_name state  \n",
       "0                   Alliance Data Card Services    IL  \n",
       "1                      AMERICAN EXPRESS COMPANY    CA  \n",
       "2                      AMERICAN EXPRESS COMPANY    NY  \n",
       "3                        BARCLAYS BANK DELAWARE    NY  \n",
       "4         BANK OF AMERICA, NATIONAL ASSOCIATION    TX  \n",
       "...                                         ...   ...  \n",
       "1598293  TRANSUNION INTERMEDIATE HOLDINGS, INC.    MO  \n",
       "1598294             Ocwen Financial Corporation    NC  \n",
       "1598295                   WELLS FARGO & COMPANY    NC  \n",
       "1598296                 Navient Solutions, LLC.    GA  \n",
       "1598297    BALANCED HEALTHCARE RECEIVABLES, LLC    NY  \n",
       "\n",
       "[1598298 rows x 9 columns]"
      ]
     },
     "execution_count": 3,
     "metadata": {},
     "output_type": "execute_result"
    }
   ],
   "source": [
    "query = \"\"\"\n",
    "    SELECT \n",
    "        date_received, \n",
    "        product, subproduct, \n",
    "        issue, subissue, \n",
    "        consumer_complaint_narrative, \n",
    "        company_public_response, \n",
    "        company_name, \n",
    "        state \n",
    "    FROM \n",
    "        `bigquery-public-data.cfpb_complaints.complaint_database`\n",
    "\"\"\"\n",
    "query_job = client.query(\n",
    "    query,\n",
    "    # Location must match that of the dataset(s) referenced in the query.\n",
    "    location=\"US\",\n",
    ")  # API request - starts the query\n",
    "\n",
    "complaints_df = query_job.to_dataframe()\n",
    "complaints_df"
   ]
  },
  {
   "cell_type": "markdown",
   "metadata": {},
   "source": [
    "# Looking at null values by column\n",
    "Percentage of missing values by columns"
   ]
  },
  {
   "cell_type": "code",
   "execution_count": 4,
   "metadata": {},
   "outputs": [
    {
     "data": {
      "text/plain": [
       "consumer_complaint_narrative    66.817953\n",
       "company_public_response         61.611352\n",
       "subissue                        35.563393\n",
       "subproduct                      14.713464\n",
       "state                            1.696304\n",
       "company_name                     0.000000\n",
       "issue                            0.000000\n",
       "product                          0.000000\n",
       "date_received                    0.000000\n",
       "dtype: float64"
      ]
     },
     "execution_count": 4,
     "metadata": {},
     "output_type": "execute_result"
    }
   ],
   "source": [
    "(complaints_df.isnull().sum()/len(complaints_df)*100).sort_values(ascending=False)"
   ]
  },
  {
   "cell_type": "markdown",
   "metadata": {},
   "source": [
    "### Can see that the narrative is the highest missing. "
   ]
  },
  {
   "cell_type": "code",
   "execution_count": 5,
   "metadata": {},
   "outputs": [
    {
     "data": {
      "text/plain": [
       "consumer_complaint_narrative     530348\n",
       "company_public_response          613565\n",
       "subissue                        1029889\n",
       "subproduct                      1363133\n",
       "state                           1571186\n",
       "date_received                   1598298\n",
       "product                         1598298\n",
       "issue                           1598298\n",
       "company_name                    1598298\n",
       "dtype: int64"
      ]
     },
     "execution_count": 5,
     "metadata": {},
     "output_type": "execute_result"
    }
   ],
   "source": [
    "(len(complaints_df)-complaints_df.isnull().sum()).sort_values()"
   ]
  },
  {
   "cell_type": "markdown",
   "metadata": {},
   "source": [
    "### We have half a million complaint narratives that we can use the NLP API on."
   ]
  },
  {
   "cell_type": "code",
   "execution_count": 6,
   "metadata": {},
   "outputs": [
    {
     "data": {
      "text/plain": [
       "date_received                   object\n",
       "product                         object\n",
       "subproduct                      object\n",
       "issue                           object\n",
       "subissue                        object\n",
       "consumer_complaint_narrative    object\n",
       "company_public_response         object\n",
       "company_name                    object\n",
       "state                           object\n",
       "dtype: object"
      ]
     },
     "execution_count": 6,
     "metadata": {},
     "output_type": "execute_result"
    }
   ],
   "source": [
    "complaints_df.dtypes"
   ]
  },
  {
   "cell_type": "markdown",
   "metadata": {},
   "source": [
    "### Looking at Products and Subproducts"
   ]
  },
  {
   "cell_type": "code",
   "execution_count": 7,
   "metadata": {},
   "outputs": [
    {
     "data": {
      "text/html": [
       "<div>\n",
       "<style scoped>\n",
       "    .dataframe tbody tr th:only-of-type {\n",
       "        vertical-align: middle;\n",
       "    }\n",
       "\n",
       "    .dataframe tbody tr th {\n",
       "        vertical-align: top;\n",
       "    }\n",
       "\n",
       "    .dataframe thead th {\n",
       "        text-align: right;\n",
       "    }\n",
       "</style>\n",
       "<table border=\"1\" class=\"dataframe\">\n",
       "  <thead>\n",
       "    <tr style=\"text-align: right;\">\n",
       "      <th></th>\n",
       "      <th>product</th>\n",
       "      <th>total</th>\n",
       "    </tr>\n",
       "  </thead>\n",
       "  <tbody>\n",
       "    <tr>\n",
       "      <th>0</th>\n",
       "      <td>Credit reporting, credit repair services, or o...</td>\n",
       "      <td>164924</td>\n",
       "    </tr>\n",
       "    <tr>\n",
       "      <th>1</th>\n",
       "      <td>Debt collection</td>\n",
       "      <td>113278</td>\n",
       "    </tr>\n",
       "    <tr>\n",
       "      <th>2</th>\n",
       "      <td>Mortgage</td>\n",
       "      <td>64542</td>\n",
       "    </tr>\n",
       "    <tr>\n",
       "      <th>3</th>\n",
       "      <td>Credit card or prepaid card</td>\n",
       "      <td>36067</td>\n",
       "    </tr>\n",
       "    <tr>\n",
       "      <th>4</th>\n",
       "      <td>Credit reporting</td>\n",
       "      <td>31588</td>\n",
       "    </tr>\n",
       "    <tr>\n",
       "      <th>5</th>\n",
       "      <td>Student loan</td>\n",
       "      <td>25987</td>\n",
       "    </tr>\n",
       "    <tr>\n",
       "      <th>6</th>\n",
       "      <td>Checking or savings account</td>\n",
       "      <td>21151</td>\n",
       "    </tr>\n",
       "    <tr>\n",
       "      <th>7</th>\n",
       "      <td>Credit card</td>\n",
       "      <td>18838</td>\n",
       "    </tr>\n",
       "    <tr>\n",
       "      <th>8</th>\n",
       "      <td>Bank account or service</td>\n",
       "      <td>14885</td>\n",
       "    </tr>\n",
       "    <tr>\n",
       "      <th>9</th>\n",
       "      <td>Consumer Loan</td>\n",
       "      <td>9473</td>\n",
       "    </tr>\n",
       "    <tr>\n",
       "      <th>10</th>\n",
       "      <td>Vehicle loan or lease</td>\n",
       "      <td>8955</td>\n",
       "    </tr>\n",
       "    <tr>\n",
       "      <th>11</th>\n",
       "      <td>Money transfer, virtual currency, or money ser...</td>\n",
       "      <td>8584</td>\n",
       "    </tr>\n",
       "    <tr>\n",
       "      <th>12</th>\n",
       "      <td>Payday loan, title loan, or personal loan</td>\n",
       "      <td>7075</td>\n",
       "    </tr>\n",
       "    <tr>\n",
       "      <th>13</th>\n",
       "      <td>Payday loan</td>\n",
       "      <td>1746</td>\n",
       "    </tr>\n",
       "    <tr>\n",
       "      <th>14</th>\n",
       "      <td>Money transfers</td>\n",
       "      <td>1497</td>\n",
       "    </tr>\n",
       "    <tr>\n",
       "      <th>15</th>\n",
       "      <td>Prepaid card</td>\n",
       "      <td>1450</td>\n",
       "    </tr>\n",
       "    <tr>\n",
       "      <th>16</th>\n",
       "      <td>Other financial service</td>\n",
       "      <td>292</td>\n",
       "    </tr>\n",
       "    <tr>\n",
       "      <th>17</th>\n",
       "      <td>Virtual currency</td>\n",
       "      <td>16</td>\n",
       "    </tr>\n",
       "  </tbody>\n",
       "</table>\n",
       "</div>"
      ],
      "text/plain": [
       "                                              product   total\n",
       "0   Credit reporting, credit repair services, or o...  164924\n",
       "1                                     Debt collection  113278\n",
       "2                                            Mortgage   64542\n",
       "3                         Credit card or prepaid card   36067\n",
       "4                                    Credit reporting   31588\n",
       "5                                        Student loan   25987\n",
       "6                         Checking or savings account   21151\n",
       "7                                         Credit card   18838\n",
       "8                             Bank account or service   14885\n",
       "9                                       Consumer Loan    9473\n",
       "10                              Vehicle loan or lease    8955\n",
       "11  Money transfer, virtual currency, or money ser...    8584\n",
       "12          Payday loan, title loan, or personal loan    7075\n",
       "13                                        Payday loan    1746\n",
       "14                                    Money transfers    1497\n",
       "15                                       Prepaid card    1450\n",
       "16                            Other financial service     292\n",
       "17                                   Virtual currency      16"
      ]
     },
     "execution_count": 7,
     "metadata": {},
     "output_type": "execute_result"
    }
   ],
   "source": [
    "query = \"\"\"\n",
    "    SELECT \n",
    "        product, COUNT(complaint_id) as total\n",
    "    FROM \n",
    "        `bigquery-public-data.cfpb_complaints.complaint_database`\n",
    "    WHERE\n",
    "        consumer_complaint_narrative IS NOT NULL\n",
    "    GROUP BY\n",
    "        product\n",
    "    ORDER BY\n",
    "        total DESC\n",
    "\"\"\"\n",
    "query_job = client.query(\n",
    "    query,\n",
    "    # Location must match that of the dataset(s) referenced in the query.\n",
    "    location=\"US\",\n",
    ")  # API request - starts the query\n",
    "\n",
    "products_df = query_job.to_dataframe()\n",
    "products_df"
   ]
  },
  {
   "cell_type": "code",
   "execution_count": 8,
   "metadata": {},
   "outputs": [
    {
     "data": {
      "text/plain": [
       "<matplotlib.axes._subplots.AxesSubplot at 0x7f7967d7a630>"
      ]
     },
     "execution_count": 8,
     "metadata": {},
     "output_type": "execute_result"
    },
    {
     "data": {
      "image/png": "[encoded data removed]",
      "text/plain": [
       "<Figure size 432x288 with 1 Axes>"
      ]
     },
     "metadata": {
      "needs_background": "light"
     },
     "output_type": "display_data"
    }
   ],
   "source": [
    "products_df.plot(kind=\"bar\",x='product')"
   ]
  },
  {
   "cell_type": "code",
   "execution_count": 9,
   "metadata": {},
   "outputs": [
    {
     "data": {
      "text/html": [
       "<div>\n",
       "<style scoped>\n",
       "    .dataframe tbody tr th:only-of-type {\n",
       "        vertical-align: middle;\n",
       "    }\n",
       "\n",
       "    .dataframe tbody tr th {\n",
       "        vertical-align: top;\n",
       "    }\n",
       "\n",
       "    .dataframe thead th {\n",
       "        text-align: right;\n",
       "    }\n",
       "</style>\n",
       "<table border=\"1\" class=\"dataframe\">\n",
       "  <thead>\n",
       "    <tr style=\"text-align: right;\">\n",
       "      <th></th>\n",
       "      <th>product</th>\n",
       "      <th>total</th>\n",
       "    </tr>\n",
       "  </thead>\n",
       "  <tbody>\n",
       "    <tr>\n",
       "      <th>0</th>\n",
       "      <td>Credit reporting, credit repair services, or o...</td>\n",
       "      <td>164924</td>\n",
       "    </tr>\n",
       "    <tr>\n",
       "      <th>1</th>\n",
       "      <td>Debt collection</td>\n",
       "      <td>113278</td>\n",
       "    </tr>\n",
       "    <tr>\n",
       "      <th>2</th>\n",
       "      <td>Mortgage</td>\n",
       "      <td>64542</td>\n",
       "    </tr>\n",
       "    <tr>\n",
       "      <th>3</th>\n",
       "      <td>Credit card or prepaid card</td>\n",
       "      <td>36067</td>\n",
       "    </tr>\n",
       "    <tr>\n",
       "      <th>4</th>\n",
       "      <td>Credit reporting</td>\n",
       "      <td>31588</td>\n",
       "    </tr>\n",
       "    <tr>\n",
       "      <th>5</th>\n",
       "      <td>Student loan</td>\n",
       "      <td>25987</td>\n",
       "    </tr>\n",
       "    <tr>\n",
       "      <th>6</th>\n",
       "      <td>Checking or savings account</td>\n",
       "      <td>21151</td>\n",
       "    </tr>\n",
       "    <tr>\n",
       "      <th>7</th>\n",
       "      <td>Credit card</td>\n",
       "      <td>18838</td>\n",
       "    </tr>\n",
       "    <tr>\n",
       "      <th>8</th>\n",
       "      <td>Bank account or service</td>\n",
       "      <td>14885</td>\n",
       "    </tr>\n",
       "    <tr>\n",
       "      <th>9</th>\n",
       "      <td>Consumer Loan</td>\n",
       "      <td>9473</td>\n",
       "    </tr>\n",
       "    <tr>\n",
       "      <th>10</th>\n",
       "      <td>Vehicle loan or lease</td>\n",
       "      <td>8955</td>\n",
       "    </tr>\n",
       "    <tr>\n",
       "      <th>11</th>\n",
       "      <td>Money transfer, virtual currency, or money ser...</td>\n",
       "      <td>8584</td>\n",
       "    </tr>\n",
       "    <tr>\n",
       "      <th>12</th>\n",
       "      <td>Payday loan, title loan, or personal loan</td>\n",
       "      <td>7075</td>\n",
       "    </tr>\n",
       "    <tr>\n",
       "      <th>13</th>\n",
       "      <td>Payday loan</td>\n",
       "      <td>1746</td>\n",
       "    </tr>\n",
       "    <tr>\n",
       "      <th>14</th>\n",
       "      <td>Money transfers</td>\n",
       "      <td>1497</td>\n",
       "    </tr>\n",
       "    <tr>\n",
       "      <th>15</th>\n",
       "      <td>Prepaid card</td>\n",
       "      <td>1450</td>\n",
       "    </tr>\n",
       "    <tr>\n",
       "      <th>16</th>\n",
       "      <td>Other financial service</td>\n",
       "      <td>292</td>\n",
       "    </tr>\n",
       "    <tr>\n",
       "      <th>17</th>\n",
       "      <td>Virtual currency</td>\n",
       "      <td>16</td>\n",
       "    </tr>\n",
       "  </tbody>\n",
       "</table>\n",
       "</div>"
      ],
      "text/plain": [
       "                                              product   total\n",
       "0   Credit reporting, credit repair services, or o...  164924\n",
       "1                                     Debt collection  113278\n",
       "2                                            Mortgage   64542\n",
       "3                         Credit card or prepaid card   36067\n",
       "4                                    Credit reporting   31588\n",
       "5                                        Student loan   25987\n",
       "6                         Checking or savings account   21151\n",
       "7                                         Credit card   18838\n",
       "8                             Bank account or service   14885\n",
       "9                                       Consumer Loan    9473\n",
       "10                              Vehicle loan or lease    8955\n",
       "11  Money transfer, virtual currency, or money ser...    8584\n",
       "12          Payday loan, title loan, or personal loan    7075\n",
       "13                                        Payday loan    1746\n",
       "14                                    Money transfers    1497\n",
       "15                                       Prepaid card    1450\n",
       "16                            Other financial service     292\n",
       "17                                   Virtual currency      16"
      ]
     },
     "execution_count": 9,
     "metadata": {},
     "output_type": "execute_result"
    }
   ],
   "source": [
    "products_df"
   ]
  },
  {
   "cell_type": "markdown",
   "metadata": {},
   "source": [
    "Most have to do with credit and debt. Also, notice that a lot of the labels are very similar (i.e. \"credit card\", \"prepaid card\", \"credit card or prepaid card\"). Might have to find a way to wrap these up."
   ]
  },
  {
   "cell_type": "markdown",
   "metadata": {},
   "source": [
    "### Look at and maybe combine some of the products?\n",
    "### Could the different product labels be due to different companies? or maybe they changed over time with the form?"
   ]
  },
  {
   "cell_type": "code",
   "execution_count": 10,
   "metadata": {},
   "outputs": [],
   "source": [
    "query = \"\"\"\n",
    "    SELECT \n",
    "        company_name, product, COUNT(complaint_id) as total\n",
    "    FROM \n",
    "        `bigquery-public-data.cfpb_complaints.complaint_database`\n",
    "    WHERE\n",
    "        consumer_complaint_narrative IS NOT NULL\n",
    "    GROUP BY\n",
    "        company_name, product\n",
    "    ORDER BY\n",
    "        total DESC\n",
    "\"\"\"\n",
    "query_job = client.query(\n",
    "    query,\n",
    "    # Location must match that of the dataset(s) referenced in the query.\n",
    "    location=\"US\",\n",
    ")  # API request - starts the query\n",
    "\n",
    "products_company_df = query_job.to_dataframe()"
   ]
  },
  {
   "cell_type": "code",
   "execution_count": 11,
   "metadata": {},
   "outputs": [
    {
     "data": {
      "text/html": [
       "<div>\n",
       "<style scoped>\n",
       "    .dataframe tbody tr th:only-of-type {\n",
       "        vertical-align: middle;\n",
       "    }\n",
       "\n",
       "    .dataframe tbody tr th {\n",
       "        vertical-align: top;\n",
       "    }\n",
       "\n",
       "    .dataframe thead th {\n",
       "        text-align: right;\n",
       "    }\n",
       "</style>\n",
       "<table border=\"1\" class=\"dataframe\">\n",
       "  <thead>\n",
       "    <tr style=\"text-align: right;\">\n",
       "      <th></th>\n",
       "      <th>company_name</th>\n",
       "      <th>product</th>\n",
       "      <th>total</th>\n",
       "    </tr>\n",
       "  </thead>\n",
       "  <tbody>\n",
       "    <tr>\n",
       "      <th>0</th>\n",
       "      <td>EQUIFAX, INC.</td>\n",
       "      <td>Credit reporting, credit repair services, or o...</td>\n",
       "      <td>45325</td>\n",
       "    </tr>\n",
       "    <tr>\n",
       "      <th>1</th>\n",
       "      <td>Experian Information Solutions Inc.</td>\n",
       "      <td>Credit reporting, credit repair services, or o...</td>\n",
       "      <td>41296</td>\n",
       "    </tr>\n",
       "    <tr>\n",
       "      <th>2</th>\n",
       "      <td>TRANSUNION INTERMEDIATE HOLDINGS, INC.</td>\n",
       "      <td>Credit reporting, credit repair services, or o...</td>\n",
       "      <td>39645</td>\n",
       "    </tr>\n",
       "    <tr>\n",
       "      <th>3</th>\n",
       "      <td>Navient Solutions, LLC.</td>\n",
       "      <td>Student loan</td>\n",
       "      <td>12645</td>\n",
       "    </tr>\n",
       "    <tr>\n",
       "      <th>4</th>\n",
       "      <td>EQUIFAX, INC.</td>\n",
       "      <td>Credit reporting</td>\n",
       "      <td>11370</td>\n",
       "    </tr>\n",
       "    <tr>\n",
       "      <th>5</th>\n",
       "      <td>Experian Information Solutions Inc.</td>\n",
       "      <td>Credit reporting</td>\n",
       "      <td>9248</td>\n",
       "    </tr>\n",
       "    <tr>\n",
       "      <th>6</th>\n",
       "      <td>TRANSUNION INTERMEDIATE HOLDINGS, INC.</td>\n",
       "      <td>Credit reporting</td>\n",
       "      <td>9105</td>\n",
       "    </tr>\n",
       "    <tr>\n",
       "      <th>7</th>\n",
       "      <td>WELLS FARGO &amp; COMPANY</td>\n",
       "      <td>Mortgage</td>\n",
       "      <td>6451</td>\n",
       "    </tr>\n",
       "    <tr>\n",
       "      <th>8</th>\n",
       "      <td>CITIBANK, N.A.</td>\n",
       "      <td>Credit card or prepaid card</td>\n",
       "      <td>5845</td>\n",
       "    </tr>\n",
       "    <tr>\n",
       "      <th>9</th>\n",
       "      <td>Ocwen Financial Corporation</td>\n",
       "      <td>Mortgage</td>\n",
       "      <td>5166</td>\n",
       "    </tr>\n",
       "  </tbody>\n",
       "</table>\n",
       "</div>"
      ],
      "text/plain": [
       "                             company_name  \\\n",
       "0                           EQUIFAX, INC.   \n",
       "1     Experian Information Solutions Inc.   \n",
       "2  TRANSUNION INTERMEDIATE HOLDINGS, INC.   \n",
       "3                 Navient Solutions, LLC.   \n",
       "4                           EQUIFAX, INC.   \n",
       "5     Experian Information Solutions Inc.   \n",
       "6  TRANSUNION INTERMEDIATE HOLDINGS, INC.   \n",
       "7                   WELLS FARGO & COMPANY   \n",
       "8                          CITIBANK, N.A.   \n",
       "9             Ocwen Financial Corporation   \n",
       "\n",
       "                                             product  total  \n",
       "0  Credit reporting, credit repair services, or o...  45325  \n",
       "1  Credit reporting, credit repair services, or o...  41296  \n",
       "2  Credit reporting, credit repair services, or o...  39645  \n",
       "3                                       Student loan  12645  \n",
       "4                                   Credit reporting  11370  \n",
       "5                                   Credit reporting   9248  \n",
       "6                                   Credit reporting   9105  \n",
       "7                                           Mortgage   6451  \n",
       "8                        Credit card or prepaid card   5845  \n",
       "9                                           Mortgage   5166  "
      ]
     },
     "execution_count": 11,
     "metadata": {},
     "output_type": "execute_result"
    }
   ],
   "source": [
    "products_company_df[:10]"
   ]
  },
  {
   "cell_type": "code",
   "execution_count": 12,
   "metadata": {},
   "outputs": [
    {
     "data": {
      "text/html": [
       "<div>\n",
       "<style scoped>\n",
       "    .dataframe tbody tr th:only-of-type {\n",
       "        vertical-align: middle;\n",
       "    }\n",
       "\n",
       "    .dataframe tbody tr th {\n",
       "        vertical-align: top;\n",
       "    }\n",
       "\n",
       "    .dataframe thead th {\n",
       "        text-align: right;\n",
       "    }\n",
       "</style>\n",
       "<table border=\"1\" class=\"dataframe\">\n",
       "  <thead>\n",
       "    <tr style=\"text-align: right;\">\n",
       "      <th></th>\n",
       "      <th>company_name</th>\n",
       "      <th>product</th>\n",
       "      <th>total</th>\n",
       "    </tr>\n",
       "  </thead>\n",
       "  <tbody>\n",
       "    <tr>\n",
       "      <th>0</th>\n",
       "      <td>EQUIFAX, INC.</td>\n",
       "      <td>Credit reporting, credit repair services, or o...</td>\n",
       "      <td>45325</td>\n",
       "    </tr>\n",
       "    <tr>\n",
       "      <th>4</th>\n",
       "      <td>EQUIFAX, INC.</td>\n",
       "      <td>Credit reporting</td>\n",
       "      <td>11370</td>\n",
       "    </tr>\n",
       "    <tr>\n",
       "      <th>88</th>\n",
       "      <td>EQUIFAX, INC.</td>\n",
       "      <td>Debt collection</td>\n",
       "      <td>827</td>\n",
       "    </tr>\n",
       "    <tr>\n",
       "      <th>552</th>\n",
       "      <td>EQUIFAX, INC.</td>\n",
       "      <td>Credit card or prepaid card</td>\n",
       "      <td>92</td>\n",
       "    </tr>\n",
       "    <tr>\n",
       "      <th>1456</th>\n",
       "      <td>EQUIFAX, INC.</td>\n",
       "      <td>Mortgage</td>\n",
       "      <td>25</td>\n",
       "    </tr>\n",
       "    <tr>\n",
       "      <th>1520</th>\n",
       "      <td>EQUIFAX, INC.</td>\n",
       "      <td>Consumer Loan</td>\n",
       "      <td>23</td>\n",
       "    </tr>\n",
       "    <tr>\n",
       "      <th>1805</th>\n",
       "      <td>EQUIFAX, INC.</td>\n",
       "      <td>Student loan</td>\n",
       "      <td>18</td>\n",
       "    </tr>\n",
       "    <tr>\n",
       "      <th>1853</th>\n",
       "      <td>EQUIFAX, INC.</td>\n",
       "      <td>Vehicle loan or lease</td>\n",
       "      <td>17</td>\n",
       "    </tr>\n",
       "    <tr>\n",
       "      <th>2336</th>\n",
       "      <td>EQUIFAX, INC.</td>\n",
       "      <td>Credit card</td>\n",
       "      <td>11</td>\n",
       "    </tr>\n",
       "    <tr>\n",
       "      <th>3288</th>\n",
       "      <td>EQUIFAX, INC.</td>\n",
       "      <td>Payday loan, title loan, or personal loan</td>\n",
       "      <td>6</td>\n",
       "    </tr>\n",
       "    <tr>\n",
       "      <th>3852</th>\n",
       "      <td>EQUIFAX, INC.</td>\n",
       "      <td>Money transfer, virtual currency, or money ser...</td>\n",
       "      <td>4</td>\n",
       "    </tr>\n",
       "    <tr>\n",
       "      <th>4358</th>\n",
       "      <td>EQUIFAX, INC.</td>\n",
       "      <td>Checking or savings account</td>\n",
       "      <td>3</td>\n",
       "    </tr>\n",
       "    <tr>\n",
       "      <th>6035</th>\n",
       "      <td>EQUIFAX, INC.</td>\n",
       "      <td>Bank account or service</td>\n",
       "      <td>2</td>\n",
       "    </tr>\n",
       "    <tr>\n",
       "      <th>6916</th>\n",
       "      <td>EQUIFAX, INC.</td>\n",
       "      <td>Other financial service</td>\n",
       "      <td>1</td>\n",
       "    </tr>\n",
       "  </tbody>\n",
       "</table>\n",
       "</div>"
      ],
      "text/plain": [
       "       company_name                                            product  total\n",
       "0     EQUIFAX, INC.  Credit reporting, credit repair services, or o...  45325\n",
       "4     EQUIFAX, INC.                                   Credit reporting  11370\n",
       "88    EQUIFAX, INC.                                    Debt collection    827\n",
       "552   EQUIFAX, INC.                        Credit card or prepaid card     92\n",
       "1456  EQUIFAX, INC.                                           Mortgage     25\n",
       "1520  EQUIFAX, INC.                                      Consumer Loan     23\n",
       "1805  EQUIFAX, INC.                                       Student loan     18\n",
       "1853  EQUIFAX, INC.                              Vehicle loan or lease     17\n",
       "2336  EQUIFAX, INC.                                        Credit card     11\n",
       "3288  EQUIFAX, INC.          Payday loan, title loan, or personal loan      6\n",
       "3852  EQUIFAX, INC.  Money transfer, virtual currency, or money ser...      4\n",
       "4358  EQUIFAX, INC.                        Checking or savings account      3\n",
       "6035  EQUIFAX, INC.                            Bank account or service      2\n",
       "6916  EQUIFAX, INC.                            Other financial service      1"
      ]
     },
     "execution_count": 12,
     "metadata": {},
     "output_type": "execute_result"
    }
   ],
   "source": [
    "products_company_df[products_company_df['company_name']=='EQUIFAX, INC.']"
   ]
  },
  {
   "cell_type": "code",
   "execution_count": 13,
   "metadata": {},
   "outputs": [
    {
     "data": {
      "text/plain": [
       "<matplotlib.axes._subplots.AxesSubplot at 0x7f7920548390>"
      ]
     },
     "execution_count": 13,
     "metadata": {},
     "output_type": "execute_result"
    },
    {
     "data": {
      "image/png": "[encoded data removed]",
      "text/plain": [
       "<Figure size 432x288 with 1 Axes>"
      ]
     },
     "metadata": {
      "needs_background": "light"
     },
     "output_type": "display_data"
    }
   ],
   "source": [
    "products_company_df[:10].plot(kind='bar',x='product')"
   ]
  },
  {
   "cell_type": "markdown",
   "metadata": {},
   "source": [
    "Most complaints for the companies seem to be about credit cards or credit. Looks like the differing labels for the categories are not company related. This makes sense since the complaints go through the CFPB and thus are probably standardized. The differing labels may be due to the complaint form changing overtime. "
   ]
  },
  {
   "cell_type": "markdown",
   "metadata": {},
   "source": [
    "### Lets look at subproducts to see if there is a reason for the different product types"
   ]
  },
  {
   "cell_type": "code",
   "execution_count": 14,
   "metadata": {},
   "outputs": [
    {
     "data": {
      "text/html": [
       "<div>\n",
       "<style scoped>\n",
       "    .dataframe tbody tr th:only-of-type {\n",
       "        vertical-align: middle;\n",
       "    }\n",
       "\n",
       "    .dataframe tbody tr th {\n",
       "        vertical-align: top;\n",
       "    }\n",
       "\n",
       "    .dataframe thead th {\n",
       "        text-align: right;\n",
       "    }\n",
       "</style>\n",
       "<table border=\"1\" class=\"dataframe\">\n",
       "  <thead>\n",
       "    <tr style=\"text-align: right;\">\n",
       "      <th></th>\n",
       "      <th>subproduct</th>\n",
       "      <th>total</th>\n",
       "    </tr>\n",
       "  </thead>\n",
       "  <tbody>\n",
       "    <tr>\n",
       "      <th>0</th>\n",
       "      <td>Credit reporting</td>\n",
       "      <td>161366</td>\n",
       "    </tr>\n",
       "    <tr>\n",
       "      <th>1</th>\n",
       "      <td>None</td>\n",
       "      <td>52172</td>\n",
       "    </tr>\n",
       "    <tr>\n",
       "      <th>2</th>\n",
       "      <td>Checking account</td>\n",
       "      <td>27677</td>\n",
       "    </tr>\n",
       "    <tr>\n",
       "      <th>3</th>\n",
       "      <td>General-purpose credit card or charge card</td>\n",
       "      <td>27508</td>\n",
       "    </tr>\n",
       "    <tr>\n",
       "      <th>4</th>\n",
       "      <td>I do not know</td>\n",
       "      <td>22272</td>\n",
       "    </tr>\n",
       "    <tr>\n",
       "      <th>...</th>\n",
       "      <td>...</td>\n",
       "      <td>...</td>\n",
       "    </tr>\n",
       "    <tr>\n",
       "      <th>71</th>\n",
       "      <td>Credit repair</td>\n",
       "      <td>39</td>\n",
       "    </tr>\n",
       "    <tr>\n",
       "      <th>72</th>\n",
       "      <td>Traveler’s/Cashier’s checks</td>\n",
       "      <td>22</td>\n",
       "    </tr>\n",
       "    <tr>\n",
       "      <th>73</th>\n",
       "      <td>Transit card</td>\n",
       "      <td>19</td>\n",
       "    </tr>\n",
       "    <tr>\n",
       "      <th>74</th>\n",
       "      <td>Student prepaid card</td>\n",
       "      <td>4</td>\n",
       "    </tr>\n",
       "    <tr>\n",
       "      <th>75</th>\n",
       "      <td>Electronic Benefit Transfer / EBT card</td>\n",
       "      <td>3</td>\n",
       "    </tr>\n",
       "  </tbody>\n",
       "</table>\n",
       "<p>76 rows × 2 columns</p>\n",
       "</div>"
      ],
      "text/plain": [
       "                                    subproduct   total\n",
       "0                             Credit reporting  161366\n",
       "1                                         None   52172\n",
       "2                             Checking account   27677\n",
       "3   General-purpose credit card or charge card   27508\n",
       "4                                I do not know   22272\n",
       "..                                         ...     ...\n",
       "71                               Credit repair      39\n",
       "72                 Traveler’s/Cashier’s checks      22\n",
       "73                                Transit card      19\n",
       "74                        Student prepaid card       4\n",
       "75      Electronic Benefit Transfer / EBT card       3\n",
       "\n",
       "[76 rows x 2 columns]"
      ]
     },
     "execution_count": 14,
     "metadata": {},
     "output_type": "execute_result"
    }
   ],
   "source": [
    "query = \"\"\"\n",
    "    SELECT \n",
    "        subproduct, COUNT(complaint_id) as total\n",
    "    FROM \n",
    "        `bigquery-public-data.cfpb_complaints.complaint_database`\n",
    "    WHERE\n",
    "        consumer_complaint_narrative IS NOT NULL\n",
    "    GROUP BY\n",
    "        subproduct\n",
    "    ORDER BY\n",
    "        total DESC\n",
    "\"\"\"\n",
    "query_job = client.query(\n",
    "    query,\n",
    "    # Location must match that of the dataset(s) referenced in the query.\n",
    "    location=\"US\",\n",
    ")  # API request - starts the query\n",
    "\n",
    "subproducts_df = query_job.to_dataframe()\n",
    "subproducts_df"
   ]
  },
  {
   "cell_type": "code",
   "execution_count": 15,
   "metadata": {},
   "outputs": [
    {
     "data": {
      "text/html": [
       "<div>\n",
       "<style scoped>\n",
       "    .dataframe tbody tr th:only-of-type {\n",
       "        vertical-align: middle;\n",
       "    }\n",
       "\n",
       "    .dataframe tbody tr th {\n",
       "        vertical-align: top;\n",
       "    }\n",
       "\n",
       "    .dataframe thead th {\n",
       "        text-align: right;\n",
       "    }\n",
       "</style>\n",
       "<table border=\"1\" class=\"dataframe\">\n",
       "  <thead>\n",
       "    <tr style=\"text-align: right;\">\n",
       "      <th></th>\n",
       "      <th>product</th>\n",
       "      <th>subproduct</th>\n",
       "      <th>total</th>\n",
       "    </tr>\n",
       "  </thead>\n",
       "  <tbody>\n",
       "    <tr>\n",
       "      <th>0</th>\n",
       "      <td>Credit reporting, credit repair services, or o...</td>\n",
       "      <td>Credit reporting</td>\n",
       "      <td>161366</td>\n",
       "    </tr>\n",
       "    <tr>\n",
       "      <th>1</th>\n",
       "      <td>Credit reporting</td>\n",
       "      <td>None</td>\n",
       "      <td>31588</td>\n",
       "    </tr>\n",
       "    <tr>\n",
       "      <th>2</th>\n",
       "      <td>Credit card or prepaid card</td>\n",
       "      <td>General-purpose credit card or charge card</td>\n",
       "      <td>27508</td>\n",
       "    </tr>\n",
       "    <tr>\n",
       "      <th>3</th>\n",
       "      <td>Debt collection</td>\n",
       "      <td>I do not know</td>\n",
       "      <td>22272</td>\n",
       "    </tr>\n",
       "    <tr>\n",
       "      <th>4</th>\n",
       "      <td>Debt collection</td>\n",
       "      <td>Other debt</td>\n",
       "      <td>20703</td>\n",
       "    </tr>\n",
       "    <tr>\n",
       "      <th>5</th>\n",
       "      <td>Mortgage</td>\n",
       "      <td>Conventional home mortgage</td>\n",
       "      <td>19159</td>\n",
       "    </tr>\n",
       "    <tr>\n",
       "      <th>6</th>\n",
       "      <td>Credit card</td>\n",
       "      <td>None</td>\n",
       "      <td>18838</td>\n",
       "    </tr>\n",
       "    <tr>\n",
       "      <th>7</th>\n",
       "      <td>Checking or savings account</td>\n",
       "      <td>Checking account</td>\n",
       "      <td>17564</td>\n",
       "    </tr>\n",
       "    <tr>\n",
       "      <th>8</th>\n",
       "      <td>Debt collection</td>\n",
       "      <td>Credit card debt</td>\n",
       "      <td>16249</td>\n",
       "    </tr>\n",
       "    <tr>\n",
       "      <th>9</th>\n",
       "      <td>Student loan</td>\n",
       "      <td>Federal student loan servicing</td>\n",
       "      <td>15023</td>\n",
       "    </tr>\n",
       "    <tr>\n",
       "      <th>10</th>\n",
       "      <td>Mortgage</td>\n",
       "      <td>Conventional fixed mortgage</td>\n",
       "      <td>14562</td>\n",
       "    </tr>\n",
       "    <tr>\n",
       "      <th>11</th>\n",
       "      <td>Debt collection</td>\n",
       "      <td>Medical debt</td>\n",
       "      <td>12470</td>\n",
       "    </tr>\n",
       "    <tr>\n",
       "      <th>12</th>\n",
       "      <td>Debt collection</td>\n",
       "      <td>Other (i.e. phone, health club, etc.)</td>\n",
       "      <td>12389</td>\n",
       "    </tr>\n",
       "    <tr>\n",
       "      <th>13</th>\n",
       "      <td>Mortgage</td>\n",
       "      <td>FHA mortgage</td>\n",
       "      <td>12035</td>\n",
       "    </tr>\n",
       "    <tr>\n",
       "      <th>14</th>\n",
       "      <td>Bank account or service</td>\n",
       "      <td>Checking account</td>\n",
       "      <td>10113</td>\n",
       "    </tr>\n",
       "    <tr>\n",
       "      <th>15</th>\n",
       "      <td>Debt collection</td>\n",
       "      <td>Credit card</td>\n",
       "      <td>7520</td>\n",
       "    </tr>\n",
       "    <tr>\n",
       "      <th>16</th>\n",
       "      <td>Vehicle loan or lease</td>\n",
       "      <td>Loan</td>\n",
       "      <td>7331</td>\n",
       "    </tr>\n",
       "    <tr>\n",
       "      <th>17</th>\n",
       "      <td>Debt collection</td>\n",
       "      <td>Medical</td>\n",
       "      <td>6990</td>\n",
       "    </tr>\n",
       "    <tr>\n",
       "      <th>18</th>\n",
       "      <td>Credit card or prepaid card</td>\n",
       "      <td>Store credit card</td>\n",
       "      <td>6318</td>\n",
       "    </tr>\n",
       "    <tr>\n",
       "      <th>19</th>\n",
       "      <td>Student loan</td>\n",
       "      <td>Non-federal student loan</td>\n",
       "      <td>5753</td>\n",
       "    </tr>\n",
       "  </tbody>\n",
       "</table>\n",
       "</div>"
      ],
      "text/plain": [
       "                                              product  \\\n",
       "0   Credit reporting, credit repair services, or o...   \n",
       "1                                    Credit reporting   \n",
       "2                         Credit card or prepaid card   \n",
       "3                                     Debt collection   \n",
       "4                                     Debt collection   \n",
       "5                                            Mortgage   \n",
       "6                                         Credit card   \n",
       "7                         Checking or savings account   \n",
       "8                                     Debt collection   \n",
       "9                                        Student loan   \n",
       "10                                           Mortgage   \n",
       "11                                    Debt collection   \n",
       "12                                    Debt collection   \n",
       "13                                           Mortgage   \n",
       "14                            Bank account or service   \n",
       "15                                    Debt collection   \n",
       "16                              Vehicle loan or lease   \n",
       "17                                    Debt collection   \n",
       "18                        Credit card or prepaid card   \n",
       "19                                       Student loan   \n",
       "\n",
       "                                    subproduct   total  \n",
       "0                             Credit reporting  161366  \n",
       "1                                         None   31588  \n",
       "2   General-purpose credit card or charge card   27508  \n",
       "3                                I do not know   22272  \n",
       "4                                   Other debt   20703  \n",
       "5                   Conventional home mortgage   19159  \n",
       "6                                         None   18838  \n",
       "7                             Checking account   17564  \n",
       "8                             Credit card debt   16249  \n",
       "9               Federal student loan servicing   15023  \n",
       "10                 Conventional fixed mortgage   14562  \n",
       "11                                Medical debt   12470  \n",
       "12       Other (i.e. phone, health club, etc.)   12389  \n",
       "13                                FHA mortgage   12035  \n",
       "14                            Checking account   10113  \n",
       "15                                 Credit card    7520  \n",
       "16                                        Loan    7331  \n",
       "17                                     Medical    6990  \n",
       "18                           Store credit card    6318  \n",
       "19                    Non-federal student loan    5753  "
      ]
     },
     "execution_count": 15,
     "metadata": {},
     "output_type": "execute_result"
    }
   ],
   "source": [
    "query = \"\"\"\n",
    "    SELECT \n",
    "        product, subproduct, COUNT(complaint_id) as total\n",
    "    FROM \n",
    "        `bigquery-public-data.cfpb_complaints.complaint_database`\n",
    "    WHERE\n",
    "        consumer_complaint_narrative IS NOT NULL\n",
    "    GROUP BY\n",
    "        product, subproduct\n",
    "    ORDER BY\n",
    "        total DESC\n",
    "\"\"\"\n",
    "query_job = client.query(\n",
    "    query,\n",
    "    # Location must match that of the dataset(s) referenced in the query.\n",
    "    location=\"US\",\n",
    ")  # API request - starts the query\n",
    "\n",
    "products3_df = query_job.to_dataframe()\n",
    "products3_df[:20]"
   ]
  },
  {
   "cell_type": "markdown",
   "metadata": {},
   "source": [
    "Notice row 3, \"I do not know\". What does this mean? \n",
    "\n",
    "Also, looks like we can combine some subproducts, i.e. \"credit card debt\" and \"credit card or medical debt\" and \"medical\". Or at the at least look into why they are all seperated."
   ]
  },
  {
   "cell_type": "code",
   "execution_count": 16,
   "metadata": {},
   "outputs": [
    {
     "data": {
      "text/html": [
       "<div>\n",
       "<style scoped>\n",
       "    .dataframe tbody tr th:only-of-type {\n",
       "        vertical-align: middle;\n",
       "    }\n",
       "\n",
       "    .dataframe tbody tr th {\n",
       "        vertical-align: top;\n",
       "    }\n",
       "\n",
       "    .dataframe thead th {\n",
       "        text-align: right;\n",
       "    }\n",
       "</style>\n",
       "<table border=\"1\" class=\"dataframe\">\n",
       "  <thead>\n",
       "    <tr style=\"text-align: right;\">\n",
       "      <th></th>\n",
       "      <th>product</th>\n",
       "      <th>subproduct</th>\n",
       "      <th>total</th>\n",
       "    </tr>\n",
       "  </thead>\n",
       "  <tbody>\n",
       "    <tr>\n",
       "      <th>2</th>\n",
       "      <td>Credit card or prepaid card</td>\n",
       "      <td>General-purpose credit card or charge card</td>\n",
       "      <td>27508</td>\n",
       "    </tr>\n",
       "    <tr>\n",
       "      <th>18</th>\n",
       "      <td>Credit card or prepaid card</td>\n",
       "      <td>Store credit card</td>\n",
       "      <td>6318</td>\n",
       "    </tr>\n",
       "    <tr>\n",
       "      <th>44</th>\n",
       "      <td>Credit card or prepaid card</td>\n",
       "      <td>General-purpose prepaid card</td>\n",
       "      <td>1482</td>\n",
       "    </tr>\n",
       "    <tr>\n",
       "      <th>61</th>\n",
       "      <td>Credit card or prepaid card</td>\n",
       "      <td>Government benefit card</td>\n",
       "      <td>449</td>\n",
       "    </tr>\n",
       "    <tr>\n",
       "      <th>67</th>\n",
       "      <td>Credit card or prepaid card</td>\n",
       "      <td>Gift card</td>\n",
       "      <td>162</td>\n",
       "    </tr>\n",
       "    <tr>\n",
       "      <th>71</th>\n",
       "      <td>Credit card or prepaid card</td>\n",
       "      <td>Payroll card</td>\n",
       "      <td>144</td>\n",
       "    </tr>\n",
       "    <tr>\n",
       "      <th>94</th>\n",
       "      <td>Credit card or prepaid card</td>\n",
       "      <td>Student prepaid card</td>\n",
       "      <td>4</td>\n",
       "    </tr>\n",
       "  </tbody>\n",
       "</table>\n",
       "</div>"
      ],
      "text/plain": [
       "                        product                                  subproduct  \\\n",
       "2   Credit card or prepaid card  General-purpose credit card or charge card   \n",
       "18  Credit card or prepaid card                           Store credit card   \n",
       "44  Credit card or prepaid card                General-purpose prepaid card   \n",
       "61  Credit card or prepaid card                     Government benefit card   \n",
       "67  Credit card or prepaid card                                   Gift card   \n",
       "71  Credit card or prepaid card                                Payroll card   \n",
       "94  Credit card or prepaid card                        Student prepaid card   \n",
       "\n",
       "    total  \n",
       "2   27508  \n",
       "18   6318  \n",
       "44   1482  \n",
       "61    449  \n",
       "67    162  \n",
       "71    144  \n",
       "94      4  "
      ]
     },
     "execution_count": 16,
     "metadata": {},
     "output_type": "execute_result"
    }
   ],
   "source": [
    "products3_df[products3_df['product'] == 'Credit card or prepaid card']"
   ]
  },
  {
   "cell_type": "markdown",
   "metadata": {},
   "source": [
    "The just credit card product has no subproduct but the one that combines credit card and prepaid card does. Do they mean different things?"
   ]
  },
  {
   "cell_type": "markdown",
   "metadata": {},
   "source": [
    "# Looking at issues and subissues"
   ]
  },
  {
   "cell_type": "code",
   "execution_count": 17,
   "metadata": {},
   "outputs": [
    {
     "data": {
      "text/html": [
       "<div>\n",
       "<style scoped>\n",
       "    .dataframe tbody tr th:only-of-type {\n",
       "        vertical-align: middle;\n",
       "    }\n",
       "\n",
       "    .dataframe tbody tr th {\n",
       "        vertical-align: top;\n",
       "    }\n",
       "\n",
       "    .dataframe thead th {\n",
       "        text-align: right;\n",
       "    }\n",
       "</style>\n",
       "<table border=\"1\" class=\"dataframe\">\n",
       "  <thead>\n",
       "    <tr style=\"text-align: right;\">\n",
       "      <th></th>\n",
       "      <th>issue</th>\n",
       "      <th>total</th>\n",
       "    </tr>\n",
       "  </thead>\n",
       "  <tbody>\n",
       "    <tr>\n",
       "      <th>0</th>\n",
       "      <td>Incorrect information on your report</td>\n",
       "      <td>92790</td>\n",
       "    </tr>\n",
       "    <tr>\n",
       "      <th>1</th>\n",
       "      <td>Problem with a credit reporting company's inve...</td>\n",
       "      <td>44416</td>\n",
       "    </tr>\n",
       "    <tr>\n",
       "      <th>2</th>\n",
       "      <td>Attempts to collect debt not owed</td>\n",
       "      <td>32080</td>\n",
       "    </tr>\n",
       "    <tr>\n",
       "      <th>3</th>\n",
       "      <td>Improper use of your report</td>\n",
       "      <td>21861</td>\n",
       "    </tr>\n",
       "    <tr>\n",
       "      <th>4</th>\n",
       "      <td>Incorrect information on credit report</td>\n",
       "      <td>21217</td>\n",
       "    </tr>\n",
       "    <tr>\n",
       "      <th>5</th>\n",
       "      <td>Cont'd attempts collect debt not owed</td>\n",
       "      <td>17434</td>\n",
       "    </tr>\n",
       "    <tr>\n",
       "      <th>6</th>\n",
       "      <td>Trouble during payment process</td>\n",
       "      <td>14970</td>\n",
       "    </tr>\n",
       "    <tr>\n",
       "      <th>7</th>\n",
       "      <td>Loan servicing, payments, escrow account</td>\n",
       "      <td>14722</td>\n",
       "    </tr>\n",
       "    <tr>\n",
       "      <th>8</th>\n",
       "      <td>Communication tactics</td>\n",
       "      <td>14479</td>\n",
       "    </tr>\n",
       "    <tr>\n",
       "      <th>9</th>\n",
       "      <td>Written notification about debt</td>\n",
       "      <td>13723</td>\n",
       "    </tr>\n",
       "  </tbody>\n",
       "</table>\n",
       "</div>"
      ],
      "text/plain": [
       "                                               issue  total\n",
       "0               Incorrect information on your report  92790\n",
       "1  Problem with a credit reporting company's inve...  44416\n",
       "2                  Attempts to collect debt not owed  32080\n",
       "3                        Improper use of your report  21861\n",
       "4             Incorrect information on credit report  21217\n",
       "5              Cont'd attempts collect debt not owed  17434\n",
       "6                     Trouble during payment process  14970\n",
       "7           Loan servicing, payments, escrow account  14722\n",
       "8                              Communication tactics  14479\n",
       "9                    Written notification about debt  13723"
      ]
     },
     "execution_count": 17,
     "metadata": {},
     "output_type": "execute_result"
    }
   ],
   "source": [
    "query = \"\"\"\n",
    "    SELECT \n",
    "        issue, COUNT(complaint_id) as total\n",
    "    FROM \n",
    "        `bigquery-public-data.cfpb_complaints.complaint_database`\n",
    "    WHERE\n",
    "        consumer_complaint_narrative IS NOT NULL\n",
    "    GROUP BY\n",
    "        issue\n",
    "    ORDER BY\n",
    "        total DESC\n",
    "\"\"\"\n",
    "query_job = client.query(\n",
    "    query,\n",
    "    # Location must match that of the dataset(s) referenced in the query.\n",
    "    location=\"US\",\n",
    ")  # API request - starts the query\n",
    "\n",
    "issue_df = query_job.to_dataframe()\n",
    "issue_df[:10]"
   ]
  },
  {
   "cell_type": "markdown",
   "metadata": {},
   "source": [
    "Can see some looks repetitive."
   ]
  },
  {
   "cell_type": "code",
   "execution_count": 18,
   "metadata": {},
   "outputs": [
    {
     "data": {
      "text/html": [
       "<div>\n",
       "<style scoped>\n",
       "    .dataframe tbody tr th:only-of-type {\n",
       "        vertical-align: middle;\n",
       "    }\n",
       "\n",
       "    .dataframe tbody tr th {\n",
       "        vertical-align: top;\n",
       "    }\n",
       "\n",
       "    .dataframe thead th {\n",
       "        text-align: right;\n",
       "    }\n",
       "</style>\n",
       "<table border=\"1\" class=\"dataframe\">\n",
       "  <thead>\n",
       "    <tr style=\"text-align: right;\">\n",
       "      <th></th>\n",
       "      <th>company_name</th>\n",
       "      <th>issue</th>\n",
       "      <th>total</th>\n",
       "    </tr>\n",
       "  </thead>\n",
       "  <tbody>\n",
       "    <tr>\n",
       "      <th>0</th>\n",
       "      <td>Experian Information Solutions Inc.</td>\n",
       "      <td>Incorrect information on your report</td>\n",
       "      <td>23565</td>\n",
       "    </tr>\n",
       "    <tr>\n",
       "      <th>1</th>\n",
       "      <td>EQUIFAX, INC.</td>\n",
       "      <td>Incorrect information on your report</td>\n",
       "      <td>22901</td>\n",
       "    </tr>\n",
       "    <tr>\n",
       "      <th>2</th>\n",
       "      <td>TRANSUNION INTERMEDIATE HOLDINGS, INC.</td>\n",
       "      <td>Incorrect information on your report</td>\n",
       "      <td>22482</td>\n",
       "    </tr>\n",
       "    <tr>\n",
       "      <th>3</th>\n",
       "      <td>EQUIFAX, INC.</td>\n",
       "      <td>Problem with a credit reporting company's inve...</td>\n",
       "      <td>11923</td>\n",
       "    </tr>\n",
       "    <tr>\n",
       "      <th>4</th>\n",
       "      <td>Experian Information Solutions Inc.</td>\n",
       "      <td>Problem with a credit reporting company's inve...</td>\n",
       "      <td>11625</td>\n",
       "    </tr>\n",
       "    <tr>\n",
       "      <th>5</th>\n",
       "      <td>TRANSUNION INTERMEDIATE HOLDINGS, INC.</td>\n",
       "      <td>Problem with a credit reporting company's inve...</td>\n",
       "      <td>11053</td>\n",
       "    </tr>\n",
       "    <tr>\n",
       "      <th>6</th>\n",
       "      <td>EQUIFAX, INC.</td>\n",
       "      <td>Incorrect information on credit report</td>\n",
       "      <td>7630</td>\n",
       "    </tr>\n",
       "    <tr>\n",
       "      <th>7</th>\n",
       "      <td>EQUIFAX, INC.</td>\n",
       "      <td>Improper use of your report</td>\n",
       "      <td>6796</td>\n",
       "    </tr>\n",
       "    <tr>\n",
       "      <th>8</th>\n",
       "      <td>TRANSUNION INTERMEDIATE HOLDINGS, INC.</td>\n",
       "      <td>Incorrect information on credit report</td>\n",
       "      <td>6427</td>\n",
       "    </tr>\n",
       "    <tr>\n",
       "      <th>9</th>\n",
       "      <td>Experian Information Solutions Inc.</td>\n",
       "      <td>Incorrect information on credit report</td>\n",
       "      <td>5765</td>\n",
       "    </tr>\n",
       "  </tbody>\n",
       "</table>\n",
       "</div>"
      ],
      "text/plain": [
       "                             company_name  \\\n",
       "0     Experian Information Solutions Inc.   \n",
       "1                           EQUIFAX, INC.   \n",
       "2  TRANSUNION INTERMEDIATE HOLDINGS, INC.   \n",
       "3                           EQUIFAX, INC.   \n",
       "4     Experian Information Solutions Inc.   \n",
       "5  TRANSUNION INTERMEDIATE HOLDINGS, INC.   \n",
       "6                           EQUIFAX, INC.   \n",
       "7                           EQUIFAX, INC.   \n",
       "8  TRANSUNION INTERMEDIATE HOLDINGS, INC.   \n",
       "9     Experian Information Solutions Inc.   \n",
       "\n",
       "                                               issue  total  \n",
       "0               Incorrect information on your report  23565  \n",
       "1               Incorrect information on your report  22901  \n",
       "2               Incorrect information on your report  22482  \n",
       "3  Problem with a credit reporting company's inve...  11923  \n",
       "4  Problem with a credit reporting company's inve...  11625  \n",
       "5  Problem with a credit reporting company's inve...  11053  \n",
       "6             Incorrect information on credit report   7630  \n",
       "7                        Improper use of your report   6796  \n",
       "8             Incorrect information on credit report   6427  \n",
       "9             Incorrect information on credit report   5765  "
      ]
     },
     "execution_count": 18,
     "metadata": {},
     "output_type": "execute_result"
    }
   ],
   "source": [
    "query = \"\"\"\n",
    "    SELECT \n",
    "        company_name, issue, COUNT(complaint_id) as total\n",
    "    FROM \n",
    "        `bigquery-public-data.cfpb_complaints.complaint_database`\n",
    "    WHERE\n",
    "        consumer_complaint_narrative IS NOT NULL\n",
    "    GROUP BY\n",
    "        company_name, issue\n",
    "    ORDER BY\n",
    "        total DESC\n",
    "\"\"\"\n",
    "query_job = client.query(\n",
    "    query,\n",
    "    # Location must match that of the dataset(s) referenced in the query.\n",
    "    location=\"US\",\n",
    ")  # API request - starts the query\n",
    "\n",
    "issue2_df = query_job.to_dataframe()\n",
    "issue2_df[:10]"
   ]
  },
  {
   "cell_type": "code",
   "execution_count": 19,
   "metadata": {},
   "outputs": [
    {
     "data": {
      "text/html": [
       "<div>\n",
       "<style scoped>\n",
       "    .dataframe tbody tr th:only-of-type {\n",
       "        vertical-align: middle;\n",
       "    }\n",
       "\n",
       "    .dataframe tbody tr th {\n",
       "        vertical-align: top;\n",
       "    }\n",
       "\n",
       "    .dataframe thead th {\n",
       "        text-align: right;\n",
       "    }\n",
       "</style>\n",
       "<table border=\"1\" class=\"dataframe\">\n",
       "  <thead>\n",
       "    <tr style=\"text-align: right;\">\n",
       "      <th></th>\n",
       "      <th>subissue</th>\n",
       "      <th>total</th>\n",
       "    </tr>\n",
       "  </thead>\n",
       "  <tbody>\n",
       "    <tr>\n",
       "      <th>0</th>\n",
       "      <td>None</td>\n",
       "      <td>132915</td>\n",
       "    </tr>\n",
       "    <tr>\n",
       "      <th>1</th>\n",
       "      <td>Information belongs to someone else</td>\n",
       "      <td>41521</td>\n",
       "    </tr>\n",
       "    <tr>\n",
       "      <th>2</th>\n",
       "      <td>Their investigation did not fix an error on yo...</td>\n",
       "      <td>31530</td>\n",
       "    </tr>\n",
       "    <tr>\n",
       "      <th>3</th>\n",
       "      <td>Account status incorrect</td>\n",
       "      <td>17788</td>\n",
       "    </tr>\n",
       "    <tr>\n",
       "      <th>4</th>\n",
       "      <td>Account information incorrect</td>\n",
       "      <td>16854</td>\n",
       "    </tr>\n",
       "    <tr>\n",
       "      <th>5</th>\n",
       "      <td>Debt is not yours</td>\n",
       "      <td>16390</td>\n",
       "    </tr>\n",
       "    <tr>\n",
       "      <th>6</th>\n",
       "      <td>Credit inquiries on your report that you don't...</td>\n",
       "      <td>14282</td>\n",
       "    </tr>\n",
       "    <tr>\n",
       "      <th>7</th>\n",
       "      <td>Debt was paid</td>\n",
       "      <td>11819</td>\n",
       "    </tr>\n",
       "    <tr>\n",
       "      <th>8</th>\n",
       "      <td>Debt is not mine</td>\n",
       "      <td>10105</td>\n",
       "    </tr>\n",
       "    <tr>\n",
       "      <th>9</th>\n",
       "      <td>Attempted to collect wrong amount</td>\n",
       "      <td>8785</td>\n",
       "    </tr>\n",
       "  </tbody>\n",
       "</table>\n",
       "</div>"
      ],
      "text/plain": [
       "                                            subissue   total\n",
       "0                                               None  132915\n",
       "1                Information belongs to someone else   41521\n",
       "2  Their investigation did not fix an error on yo...   31530\n",
       "3                           Account status incorrect   17788\n",
       "4                      Account information incorrect   16854\n",
       "5                                  Debt is not yours   16390\n",
       "6  Credit inquiries on your report that you don't...   14282\n",
       "7                                      Debt was paid   11819\n",
       "8                                   Debt is not mine   10105\n",
       "9                  Attempted to collect wrong amount    8785"
      ]
     },
     "execution_count": 19,
     "metadata": {},
     "output_type": "execute_result"
    }
   ],
   "source": [
    "query = \"\"\"\n",
    "    SELECT \n",
    "        subissue, COUNT(complaint_id) as total\n",
    "    FROM \n",
    "        `bigquery-public-data.cfpb_complaints.complaint_database`\n",
    "    WHERE\n",
    "        consumer_complaint_narrative IS NOT NULL\n",
    "    GROUP BY\n",
    "        subissue\n",
    "    ORDER BY\n",
    "        total DESC\n",
    "\"\"\"\n",
    "query_job = client.query(\n",
    "    query,\n",
    "    # Location must match that of the dataset(s) referenced in the query.\n",
    "    location=\"US\",\n",
    ")  # API request - starts the query\n",
    "\n",
    "subissue_df = query_job.to_dataframe()\n",
    "subissue_df[:10]"
   ]
  },
  {
   "cell_type": "markdown",
   "metadata": {},
   "source": [
    "debt is not mine and debt is not yours seem to be the same thing?"
   ]
  },
  {
   "cell_type": "code",
   "execution_count": 20,
   "metadata": {},
   "outputs": [
    {
     "data": {
      "text/html": [
       "<div>\n",
       "<style scoped>\n",
       "    .dataframe tbody tr th:only-of-type {\n",
       "        vertical-align: middle;\n",
       "    }\n",
       "\n",
       "    .dataframe tbody tr th {\n",
       "        vertical-align: top;\n",
       "    }\n",
       "\n",
       "    .dataframe thead th {\n",
       "        text-align: right;\n",
       "    }\n",
       "</style>\n",
       "<table border=\"1\" class=\"dataframe\">\n",
       "  <thead>\n",
       "    <tr style=\"text-align: right;\">\n",
       "      <th></th>\n",
       "      <th>issue</th>\n",
       "      <th>subissue</th>\n",
       "      <th>total</th>\n",
       "    </tr>\n",
       "  </thead>\n",
       "  <tbody>\n",
       "    <tr>\n",
       "      <th>0</th>\n",
       "      <td>Incorrect information on your report</td>\n",
       "      <td>Information belongs to someone else</td>\n",
       "      <td>41521</td>\n",
       "    </tr>\n",
       "    <tr>\n",
       "      <th>1</th>\n",
       "      <td>Problem with a credit reporting company's inve...</td>\n",
       "      <td>Their investigation did not fix an error on yo...</td>\n",
       "      <td>31368</td>\n",
       "    </tr>\n",
       "    <tr>\n",
       "      <th>2</th>\n",
       "      <td>Incorrect information on your report</td>\n",
       "      <td>Account status incorrect</td>\n",
       "      <td>17788</td>\n",
       "    </tr>\n",
       "    <tr>\n",
       "      <th>3</th>\n",
       "      <td>Incorrect information on your report</td>\n",
       "      <td>Account information incorrect</td>\n",
       "      <td>16854</td>\n",
       "    </tr>\n",
       "    <tr>\n",
       "      <th>4</th>\n",
       "      <td>Attempts to collect debt not owed</td>\n",
       "      <td>Debt is not yours</td>\n",
       "      <td>16390</td>\n",
       "    </tr>\n",
       "    <tr>\n",
       "      <th>5</th>\n",
       "      <td>Trouble during payment process</td>\n",
       "      <td>None</td>\n",
       "      <td>14970</td>\n",
       "    </tr>\n",
       "    <tr>\n",
       "      <th>6</th>\n",
       "      <td>Loan servicing, payments, escrow account</td>\n",
       "      <td>None</td>\n",
       "      <td>14722</td>\n",
       "    </tr>\n",
       "    <tr>\n",
       "      <th>7</th>\n",
       "      <td>Improper use of your report</td>\n",
       "      <td>Credit inquiries on your report that you don't...</td>\n",
       "      <td>14282</td>\n",
       "    </tr>\n",
       "    <tr>\n",
       "      <th>8</th>\n",
       "      <td>Loan modification,collection,foreclosure</td>\n",
       "      <td>None</td>\n",
       "      <td>10789</td>\n",
       "    </tr>\n",
       "    <tr>\n",
       "      <th>9</th>\n",
       "      <td>Cont'd attempts collect debt not owed</td>\n",
       "      <td>Debt is not mine</td>\n",
       "      <td>10105</td>\n",
       "    </tr>\n",
       "    <tr>\n",
       "      <th>10</th>\n",
       "      <td>Struggling to pay mortgage</td>\n",
       "      <td>None</td>\n",
       "      <td>9245</td>\n",
       "    </tr>\n",
       "    <tr>\n",
       "      <th>11</th>\n",
       "      <td>False statements or representation</td>\n",
       "      <td>Attempted to collect wrong amount</td>\n",
       "      <td>8785</td>\n",
       "    </tr>\n",
       "    <tr>\n",
       "      <th>12</th>\n",
       "      <td>Written notification about debt</td>\n",
       "      <td>Didn't receive enough information to verify debt</td>\n",
       "      <td>8485</td>\n",
       "    </tr>\n",
       "    <tr>\n",
       "      <th>13</th>\n",
       "      <td>Communication tactics</td>\n",
       "      <td>Frequent or repeated calls</td>\n",
       "      <td>7930</td>\n",
       "    </tr>\n",
       "    <tr>\n",
       "      <th>14</th>\n",
       "      <td>Attempts to collect debt not owed</td>\n",
       "      <td>Debt was paid</td>\n",
       "      <td>7135</td>\n",
       "    </tr>\n",
       "  </tbody>\n",
       "</table>\n",
       "</div>"
      ],
      "text/plain": [
       "                                                issue  \\\n",
       "0                Incorrect information on your report   \n",
       "1   Problem with a credit reporting company's inve...   \n",
       "2                Incorrect information on your report   \n",
       "3                Incorrect information on your report   \n",
       "4                   Attempts to collect debt not owed   \n",
       "5                      Trouble during payment process   \n",
       "6            Loan servicing, payments, escrow account   \n",
       "7                         Improper use of your report   \n",
       "8            Loan modification,collection,foreclosure   \n",
       "9               Cont'd attempts collect debt not owed   \n",
       "10                         Struggling to pay mortgage   \n",
       "11                 False statements or representation   \n",
       "12                    Written notification about debt   \n",
       "13                              Communication tactics   \n",
       "14                  Attempts to collect debt not owed   \n",
       "\n",
       "                                             subissue  total  \n",
       "0                 Information belongs to someone else  41521  \n",
       "1   Their investigation did not fix an error on yo...  31368  \n",
       "2                            Account status incorrect  17788  \n",
       "3                       Account information incorrect  16854  \n",
       "4                                   Debt is not yours  16390  \n",
       "5                                                None  14970  \n",
       "6                                                None  14722  \n",
       "7   Credit inquiries on your report that you don't...  14282  \n",
       "8                                                None  10789  \n",
       "9                                    Debt is not mine  10105  \n",
       "10                                               None   9245  \n",
       "11                  Attempted to collect wrong amount   8785  \n",
       "12   Didn't receive enough information to verify debt   8485  \n",
       "13                         Frequent or repeated calls   7930  \n",
       "14                                      Debt was paid   7135  "
      ]
     },
     "execution_count": 20,
     "metadata": {},
     "output_type": "execute_result"
    }
   ],
   "source": [
    "query = \"\"\"\n",
    "    SELECT \n",
    "        issue, subissue, COUNT(complaint_id) as total\n",
    "    FROM \n",
    "        `bigquery-public-data.cfpb_complaints.complaint_database`\n",
    "    WHERE\n",
    "        consumer_complaint_narrative IS NOT NULL\n",
    "    GROUP BY\n",
    "        issue, subissue\n",
    "    ORDER BY\n",
    "        total DESC\n",
    "\"\"\"\n",
    "query_job = client.query(\n",
    "    query,\n",
    "    # Location must match that of the dataset(s) referenced in the query.\n",
    "    location=\"US\",\n",
    ")  # API request - starts the query\n",
    "\n",
    "subissue2_df = query_job.to_dataframe()\n",
    "subissue2_df[:15]"
   ]
  },
  {
   "cell_type": "markdown",
   "metadata": {},
   "source": [
    "# Looking At Which Companies Had The Most Complaints"
   ]
  },
  {
   "cell_type": "code",
   "execution_count": 21,
   "metadata": {},
   "outputs": [
    {
     "data": {
      "text/html": [
       "<div>\n",
       "<style scoped>\n",
       "    .dataframe tbody tr th:only-of-type {\n",
       "        vertical-align: middle;\n",
       "    }\n",
       "\n",
       "    .dataframe tbody tr th {\n",
       "        vertical-align: top;\n",
       "    }\n",
       "\n",
       "    .dataframe thead th {\n",
       "        text-align: right;\n",
       "    }\n",
       "</style>\n",
       "<table border=\"1\" class=\"dataframe\">\n",
       "  <thead>\n",
       "    <tr style=\"text-align: right;\">\n",
       "      <th></th>\n",
       "      <th>company_name</th>\n",
       "      <th>total</th>\n",
       "    </tr>\n",
       "  </thead>\n",
       "  <tbody>\n",
       "    <tr>\n",
       "      <th>0</th>\n",
       "      <td>EQUIFAX, INC.</td>\n",
       "      <td>57724</td>\n",
       "    </tr>\n",
       "    <tr>\n",
       "      <th>1</th>\n",
       "      <td>Experian Information Solutions Inc.</td>\n",
       "      <td>51387</td>\n",
       "    </tr>\n",
       "    <tr>\n",
       "      <th>2</th>\n",
       "      <td>TRANSUNION INTERMEDIATE HOLDINGS, INC.</td>\n",
       "      <td>49583</td>\n",
       "    </tr>\n",
       "    <tr>\n",
       "      <th>3</th>\n",
       "      <td>CITIBANK, N.A.</td>\n",
       "      <td>17620</td>\n",
       "    </tr>\n",
       "    <tr>\n",
       "      <th>4</th>\n",
       "      <td>WELLS FARGO &amp; COMPANY</td>\n",
       "      <td>17107</td>\n",
       "    </tr>\n",
       "    <tr>\n",
       "      <th>...</th>\n",
       "      <td>...</td>\n",
       "      <td>...</td>\n",
       "    </tr>\n",
       "    <tr>\n",
       "      <th>4527</th>\n",
       "      <td>Perennial Funding LLC</td>\n",
       "      <td>1</td>\n",
       "    </tr>\n",
       "    <tr>\n",
       "      <th>4528</th>\n",
       "      <td>Aswad &amp; Ingraham, LLP</td>\n",
       "      <td>1</td>\n",
       "    </tr>\n",
       "    <tr>\n",
       "      <th>4529</th>\n",
       "      <td>Sands Recovery Group</td>\n",
       "      <td>1</td>\n",
       "    </tr>\n",
       "    <tr>\n",
       "      <th>4530</th>\n",
       "      <td>Concorde Land Title Services, Inc.</td>\n",
       "      <td>1</td>\n",
       "    </tr>\n",
       "    <tr>\n",
       "      <th>4531</th>\n",
       "      <td>The Law Offices of Jennifer McCoy, PC</td>\n",
       "      <td>1</td>\n",
       "    </tr>\n",
       "  </tbody>\n",
       "</table>\n",
       "<p>4532 rows × 2 columns</p>\n",
       "</div>"
      ],
      "text/plain": [
       "                                company_name  total\n",
       "0                              EQUIFAX, INC.  57724\n",
       "1        Experian Information Solutions Inc.  51387\n",
       "2     TRANSUNION INTERMEDIATE HOLDINGS, INC.  49583\n",
       "3                             CITIBANK, N.A.  17620\n",
       "4                      WELLS FARGO & COMPANY  17107\n",
       "...                                      ...    ...\n",
       "4527                   Perennial Funding LLC      1\n",
       "4528                   Aswad & Ingraham, LLP      1\n",
       "4529                    Sands Recovery Group      1\n",
       "4530      Concorde Land Title Services, Inc.      1\n",
       "4531   The Law Offices of Jennifer McCoy, PC      1\n",
       "\n",
       "[4532 rows x 2 columns]"
      ]
     },
     "execution_count": 21,
     "metadata": {},
     "output_type": "execute_result"
    }
   ],
   "source": [
    "query = \"\"\"\n",
    "    SELECT \n",
    "        company_name, COUNT(complaint_id) as total\n",
    "    FROM \n",
    "        `bigquery-public-data.cfpb_complaints.complaint_database`\n",
    "    WHERE\n",
    "        consumer_complaint_narrative IS NOT NULL\n",
    "    GROUP BY\n",
    "        company_name\n",
    "    ORDER BY\n",
    "        total DESC\n",
    "\"\"\"\n",
    "query_job = client.query(\n",
    "    query,\n",
    "    # Location must match that of the dataset(s) referenced in the query.\n",
    "    location=\"US\",\n",
    ")  # API request - starts the query\n",
    "\n",
    "companies_df = query_job.to_dataframe()\n",
    "companies_df"
   ]
  },
  {
   "cell_type": "code",
   "execution_count": 22,
   "metadata": {},
   "outputs": [
    {
     "data": {
      "text/html": [
       "<div>\n",
       "<style scoped>\n",
       "    .dataframe tbody tr th:only-of-type {\n",
       "        vertical-align: middle;\n",
       "    }\n",
       "\n",
       "    .dataframe tbody tr th {\n",
       "        vertical-align: top;\n",
       "    }\n",
       "\n",
       "    .dataframe thead th {\n",
       "        text-align: right;\n",
       "    }\n",
       "</style>\n",
       "<table border=\"1\" class=\"dataframe\">\n",
       "  <thead>\n",
       "    <tr style=\"text-align: right;\">\n",
       "      <th></th>\n",
       "      <th>company_name</th>\n",
       "      <th>total</th>\n",
       "      <th>percentage</th>\n",
       "    </tr>\n",
       "  </thead>\n",
       "  <tbody>\n",
       "    <tr>\n",
       "      <th>0</th>\n",
       "      <td>EQUIFAX, INC.</td>\n",
       "      <td>57724</td>\n",
       "      <td>3.853253</td>\n",
       "    </tr>\n",
       "    <tr>\n",
       "      <th>1</th>\n",
       "      <td>Experian Information Solutions Inc.</td>\n",
       "      <td>51387</td>\n",
       "      <td>3.430239</td>\n",
       "    </tr>\n",
       "    <tr>\n",
       "      <th>2</th>\n",
       "      <td>TRANSUNION INTERMEDIATE HOLDINGS, INC.</td>\n",
       "      <td>49583</td>\n",
       "      <td>3.309816</td>\n",
       "    </tr>\n",
       "    <tr>\n",
       "      <th>3</th>\n",
       "      <td>CITIBANK, N.A.</td>\n",
       "      <td>17620</td>\n",
       "      <td>1.176189</td>\n",
       "    </tr>\n",
       "    <tr>\n",
       "      <th>4</th>\n",
       "      <td>WELLS FARGO &amp; COMPANY</td>\n",
       "      <td>17107</td>\n",
       "      <td>1.141944</td>\n",
       "    </tr>\n",
       "    <tr>\n",
       "      <th>...</th>\n",
       "      <td>...</td>\n",
       "      <td>...</td>\n",
       "      <td>...</td>\n",
       "    </tr>\n",
       "    <tr>\n",
       "      <th>4527</th>\n",
       "      <td>Perennial Funding LLC</td>\n",
       "      <td>1</td>\n",
       "      <td>0.000067</td>\n",
       "    </tr>\n",
       "    <tr>\n",
       "      <th>4528</th>\n",
       "      <td>Aswad &amp; Ingraham, LLP</td>\n",
       "      <td>1</td>\n",
       "      <td>0.000067</td>\n",
       "    </tr>\n",
       "    <tr>\n",
       "      <th>4529</th>\n",
       "      <td>Sands Recovery Group</td>\n",
       "      <td>1</td>\n",
       "      <td>0.000067</td>\n",
       "    </tr>\n",
       "    <tr>\n",
       "      <th>4530</th>\n",
       "      <td>Concorde Land Title Services, Inc.</td>\n",
       "      <td>1</td>\n",
       "      <td>0.000067</td>\n",
       "    </tr>\n",
       "    <tr>\n",
       "      <th>4531</th>\n",
       "      <td>The Law Offices of Jennifer McCoy, PC</td>\n",
       "      <td>1</td>\n",
       "      <td>0.000067</td>\n",
       "    </tr>\n",
       "  </tbody>\n",
       "</table>\n",
       "<p>4532 rows × 3 columns</p>\n",
       "</div>"
      ],
      "text/plain": [
       "                                company_name  total  percentage\n",
       "0                              EQUIFAX, INC.  57724    3.853253\n",
       "1        Experian Information Solutions Inc.  51387    3.430239\n",
       "2     TRANSUNION INTERMEDIATE HOLDINGS, INC.  49583    3.309816\n",
       "3                             CITIBANK, N.A.  17620    1.176189\n",
       "4                      WELLS FARGO & COMPANY  17107    1.141944\n",
       "...                                      ...    ...         ...\n",
       "4527                   Perennial Funding LLC      1    0.000067\n",
       "4528                   Aswad & Ingraham, LLP      1    0.000067\n",
       "4529                    Sands Recovery Group      1    0.000067\n",
       "4530      Concorde Land Title Services, Inc.      1    0.000067\n",
       "4531   The Law Offices of Jennifer McCoy, PC      1    0.000067\n",
       "\n",
       "[4532 rows x 3 columns]"
      ]
     },
     "execution_count": 22,
     "metadata": {},
     "output_type": "execute_result"
    }
   ],
   "source": [
    "query = \"\"\"\n",
    "    SELECT \n",
    "        company_name, COUNT(complaint_id) as total, (COUNT(complaint_id)/1498059)*100 as percentage\n",
    "    FROM \n",
    "        `bigquery-public-data.cfpb_complaints.complaint_database`\n",
    "    WHERE\n",
    "        consumer_complaint_narrative IS NOT NULL\n",
    "    GROUP BY\n",
    "        company_name\n",
    "    ORDER BY\n",
    "        total DESC\n",
    "\"\"\"\n",
    "query_job = client.query(\n",
    "    query,\n",
    "    # Location must match that of the dataset(s) referenced in the query.\n",
    "    location=\"US\",\n",
    ")  # API request - starts the query\n",
    "\n",
    "companies_df2 = query_job.to_dataframe()\n",
    "companies_df2"
   ]
  },
  {
   "cell_type": "code",
   "execution_count": 23,
   "metadata": {},
   "outputs": [
    {
     "data": {
      "text/plain": [
       "<matplotlib.axes._subplots.AxesSubplot at 0x7f7920515dd8>"
      ]
     },
     "execution_count": 23,
     "metadata": {},
     "output_type": "execute_result"
    },
    {
     "data": {
      "image/png": "[encoded data removed]",
      "text/plain": [
       "<Figure size 432x288 with 1 Axes>"
      ]
     },
     "metadata": {
      "needs_background": "light"
     },
     "output_type": "display_data"
    }
   ],
   "source": [
    "companies_df2[:10].plot(kind='bar', x='company_name',y='total')"
   ]
  },
  {
   "cell_type": "markdown",
   "metadata": {},
   "source": [
    "# Checking if companies have different spellings"
   ]
  },
  {
   "cell_type": "code",
   "execution_count": 24,
   "metadata": {},
   "outputs": [
    {
     "data": {
      "text/html": [
       "<div>\n",
       "<style scoped>\n",
       "    .dataframe tbody tr th:only-of-type {\n",
       "        vertical-align: middle;\n",
       "    }\n",
       "\n",
       "    .dataframe tbody tr th {\n",
       "        vertical-align: top;\n",
       "    }\n",
       "\n",
       "    .dataframe thead th {\n",
       "        text-align: right;\n",
       "    }\n",
       "</style>\n",
       "<table border=\"1\" class=\"dataframe\">\n",
       "  <thead>\n",
       "    <tr style=\"text-align: right;\">\n",
       "      <th></th>\n",
       "      <th>company_name</th>\n",
       "    </tr>\n",
       "  </thead>\n",
       "  <tbody>\n",
       "    <tr>\n",
       "      <th>0</th>\n",
       "      <td>C &amp; A Mortgage Services of Florence, Inc.</td>\n",
       "    </tr>\n",
       "    <tr>\n",
       "      <th>1</th>\n",
       "      <td>C &amp; E Financial Group, Inc.</td>\n",
       "    </tr>\n",
       "    <tr>\n",
       "      <th>2</th>\n",
       "      <td>C &amp; M Associates Group, Inc.</td>\n",
       "    </tr>\n",
       "    <tr>\n",
       "      <th>3</th>\n",
       "      <td>C &amp; S Auto Enterprises, Inc</td>\n",
       "    </tr>\n",
       "    <tr>\n",
       "      <th>4</th>\n",
       "      <td>C B Merchant Services</td>\n",
       "    </tr>\n",
       "    <tr>\n",
       "      <th>5</th>\n",
       "      <td>C&amp;F MORTGAGE CORPORATION</td>\n",
       "    </tr>\n",
       "    <tr>\n",
       "      <th>6</th>\n",
       "      <td>C&amp;H INVESTMENTS, INC.</td>\n",
       "    </tr>\n",
       "    <tr>\n",
       "      <th>7</th>\n",
       "      <td>C. Edwin Walker Attorney at Law</td>\n",
       "    </tr>\n",
       "    <tr>\n",
       "      <th>8</th>\n",
       "      <td>C.Tech Collections, Inc.</td>\n",
       "    </tr>\n",
       "    <tr>\n",
       "      <th>9</th>\n",
       "      <td>C/C Financial</td>\n",
       "    </tr>\n",
       "    <tr>\n",
       "      <th>10</th>\n",
       "      <td>C2 Financial Corporation</td>\n",
       "    </tr>\n",
       "    <tr>\n",
       "      <th>11</th>\n",
       "      <td>CAB Receivables, Inc.</td>\n",
       "    </tr>\n",
       "    <tr>\n",
       "      <th>12</th>\n",
       "      <td>CAC Financial Corp</td>\n",
       "    </tr>\n",
       "    <tr>\n",
       "      <th>13</th>\n",
       "      <td>CADENCE BANCORPORATION</td>\n",
       "    </tr>\n",
       "    <tr>\n",
       "      <th>14</th>\n",
       "      <td>CAINE &amp; WEINER COMPANY, INC.</td>\n",
       "    </tr>\n",
       "    <tr>\n",
       "      <th>15</th>\n",
       "      <td>CALCON MUTUAL MORTGAGE LLC DBA ONETRUST HOME L...</td>\n",
       "    </tr>\n",
       "    <tr>\n",
       "      <th>16</th>\n",
       "      <td>CALIFORNIA RECOVERY BUREAU, INC</td>\n",
       "    </tr>\n",
       "    <tr>\n",
       "      <th>17</th>\n",
       "      <td>CALM, Inc.</td>\n",
       "    </tr>\n",
       "    <tr>\n",
       "      <th>18</th>\n",
       "      <td>CALVARY PORTFOLIO</td>\n",
       "    </tr>\n",
       "    <tr>\n",
       "      <th>19</th>\n",
       "      <td>CAPITAL CENTER LLC</td>\n",
       "    </tr>\n",
       "    <tr>\n",
       "      <th>20</th>\n",
       "      <td>CAPITAL ONE FINANCIAL CORPORATION</td>\n",
       "    </tr>\n",
       "    <tr>\n",
       "      <th>21</th>\n",
       "      <td>CAPITAL RESOURCE MANAGEMENT, INC.</td>\n",
       "    </tr>\n",
       "    <tr>\n",
       "      <th>22</th>\n",
       "      <td>CAPITOL TITLE INSURANCE AGENCY, INC.</td>\n",
       "    </tr>\n",
       "    <tr>\n",
       "      <th>23</th>\n",
       "      <td>CARD Corporation</td>\n",
       "    </tr>\n",
       "    <tr>\n",
       "      <th>24</th>\n",
       "      <td>CARDINAL FINANCIAL COMPANY</td>\n",
       "    </tr>\n",
       "    <tr>\n",
       "      <th>25</th>\n",
       "      <td>CARDPLATFORMS LLC</td>\n",
       "    </tr>\n",
       "    <tr>\n",
       "      <th>26</th>\n",
       "      <td>CARMEL FINANCIAL CORPORATION, INC.</td>\n",
       "    </tr>\n",
       "    <tr>\n",
       "      <th>27</th>\n",
       "      <td>CARRINGTON MORTGAGE SERVICES, LLC</td>\n",
       "    </tr>\n",
       "    <tr>\n",
       "      <th>28</th>\n",
       "      <td>CARS Acquisition, LLC</td>\n",
       "    </tr>\n",
       "    <tr>\n",
       "      <th>29</th>\n",
       "      <td>CARTER-JONES COLLECTION SERVICE, INC</td>\n",
       "    </tr>\n",
       "  </tbody>\n",
       "</table>\n",
       "</div>"
      ],
      "text/plain": [
       "                                         company_name\n",
       "0           C & A Mortgage Services of Florence, Inc.\n",
       "1                         C & E Financial Group, Inc.\n",
       "2                        C & M Associates Group, Inc.\n",
       "3                         C & S Auto Enterprises, Inc\n",
       "4                               C B Merchant Services\n",
       "5                            C&F MORTGAGE CORPORATION\n",
       "6                               C&H INVESTMENTS, INC.\n",
       "7                     C. Edwin Walker Attorney at Law\n",
       "8                            C.Tech Collections, Inc.\n",
       "9                                       C/C Financial\n",
       "10                           C2 Financial Corporation\n",
       "11                              CAB Receivables, Inc.\n",
       "12                                 CAC Financial Corp\n",
       "13                             CADENCE BANCORPORATION\n",
       "14                       CAINE & WEINER COMPANY, INC.\n",
       "15  CALCON MUTUAL MORTGAGE LLC DBA ONETRUST HOME L...\n",
       "16                    CALIFORNIA RECOVERY BUREAU, INC\n",
       "17                                         CALM, Inc.\n",
       "18                                  CALVARY PORTFOLIO\n",
       "19                                 CAPITAL CENTER LLC\n",
       "20                  CAPITAL ONE FINANCIAL CORPORATION\n",
       "21                  CAPITAL RESOURCE MANAGEMENT, INC.\n",
       "22               CAPITOL TITLE INSURANCE AGENCY, INC.\n",
       "23                                   CARD Corporation\n",
       "24                         CARDINAL FINANCIAL COMPANY\n",
       "25                                  CARDPLATFORMS LLC\n",
       "26                 CARMEL FINANCIAL CORPORATION, INC.\n",
       "27                  CARRINGTON MORTGAGE SERVICES, LLC\n",
       "28                              CARS Acquisition, LLC\n",
       "29               CARTER-JONES COLLECTION SERVICE, INC"
      ]
     },
     "execution_count": 24,
     "metadata": {},
     "output_type": "execute_result"
    }
   ],
   "source": [
    "query = \"\"\"\n",
    "    SELECT \n",
    "        DISTINCT(company_name)\n",
    "    FROM \n",
    "        `bigquery-public-data.cfpb_complaints.complaint_database`\n",
    "    WHERE\n",
    "        company_name LIKE \"C%\"\n",
    "    ORDER BY company_name\n",
    "\"\"\"\n",
    "query_job = client.query(\n",
    "    query,\n",
    "    # Location must match that of the dataset(s) referenced in the query.\n",
    "    location=\"US\",\n",
    ")  # API request - starts the query\n",
    "\n",
    "companies_df3 = query_job.to_dataframe()\n",
    "companies_df3[:30]"
   ]
  },
  {
   "cell_type": "markdown",
   "metadata": {},
   "source": [
    "Doesn't look like there are different named spellings but more analysis could be performed."
   ]
  },
  {
   "cell_type": "markdown",
   "metadata": {},
   "source": [
    "# Looking at the states sorted by most complaints"
   ]
  },
  {
   "cell_type": "code",
   "execution_count": 25,
   "metadata": {},
   "outputs": [
    {
     "data": {
      "text/html": [
       "<div>\n",
       "<style scoped>\n",
       "    .dataframe tbody tr th:only-of-type {\n",
       "        vertical-align: middle;\n",
       "    }\n",
       "\n",
       "    .dataframe tbody tr th {\n",
       "        vertical-align: top;\n",
       "    }\n",
       "\n",
       "    .dataframe thead th {\n",
       "        text-align: right;\n",
       "    }\n",
       "</style>\n",
       "<table border=\"1\" class=\"dataframe\">\n",
       "  <thead>\n",
       "    <tr style=\"text-align: right;\">\n",
       "      <th></th>\n",
       "      <th>state</th>\n",
       "      <th>total</th>\n",
       "    </tr>\n",
       "  </thead>\n",
       "  <tbody>\n",
       "    <tr>\n",
       "      <th>0</th>\n",
       "      <td>CA</td>\n",
       "      <td>70791</td>\n",
       "    </tr>\n",
       "    <tr>\n",
       "      <th>1</th>\n",
       "      <td>FL</td>\n",
       "      <td>54600</td>\n",
       "    </tr>\n",
       "    <tr>\n",
       "      <th>2</th>\n",
       "      <td>TX</td>\n",
       "      <td>49684</td>\n",
       "    </tr>\n",
       "    <tr>\n",
       "      <th>3</th>\n",
       "      <td>GA</td>\n",
       "      <td>32305</td>\n",
       "    </tr>\n",
       "    <tr>\n",
       "      <th>4</th>\n",
       "      <td>NY</td>\n",
       "      <td>30344</td>\n",
       "    </tr>\n",
       "    <tr>\n",
       "      <th>...</th>\n",
       "      <td>...</td>\n",
       "      <td>...</td>\n",
       "    </tr>\n",
       "    <tr>\n",
       "      <th>59</th>\n",
       "      <td>AA</td>\n",
       "      <td>11</td>\n",
       "    </tr>\n",
       "    <tr>\n",
       "      <th>60</th>\n",
       "      <td>AS</td>\n",
       "      <td>8</td>\n",
       "    </tr>\n",
       "    <tr>\n",
       "      <th>61</th>\n",
       "      <td>MP</td>\n",
       "      <td>7</td>\n",
       "    </tr>\n",
       "    <tr>\n",
       "      <th>62</th>\n",
       "      <td>MH</td>\n",
       "      <td>3</td>\n",
       "    </tr>\n",
       "    <tr>\n",
       "      <th>63</th>\n",
       "      <td>PW</td>\n",
       "      <td>1</td>\n",
       "    </tr>\n",
       "  </tbody>\n",
       "</table>\n",
       "<p>64 rows × 2 columns</p>\n",
       "</div>"
      ],
      "text/plain": [
       "   state  total\n",
       "0     CA  70791\n",
       "1     FL  54600\n",
       "2     TX  49684\n",
       "3     GA  32305\n",
       "4     NY  30344\n",
       "..   ...    ...\n",
       "59    AA     11\n",
       "60    AS      8\n",
       "61    MP      7\n",
       "62    MH      3\n",
       "63    PW      1\n",
       "\n",
       "[64 rows x 2 columns]"
      ]
     },
     "execution_count": 25,
     "metadata": {},
     "output_type": "execute_result"
    }
   ],
   "source": [
    "query = \"\"\"\n",
    "    SELECT \n",
    "        state, COUNT(complaint_id) as total\n",
    "    FROM \n",
    "        `bigquery-public-data.cfpb_complaints.complaint_database`\n",
    "    WHERE\n",
    "        consumer_complaint_narrative IS NOT NULL\n",
    "    GROUP BY\n",
    "        state\n",
    "    ORDER BY\n",
    "        total DESC\n",
    "\"\"\"\n",
    "query_job = client.query(\n",
    "    query,\n",
    "    # Location must match that of the dataset(s) referenced in the query.\n",
    "    location=\"US\",\n",
    ")  # API request - starts the query\n",
    "\n",
    "state_df = query_job.to_dataframe()\n",
    "state_df"
   ]
  },
  {
   "cell_type": "markdown",
   "metadata": {},
   "source": [
    "Looks like the data includes US territories as well. For example, \"AS\" means American Samoa."
   ]
  },
  {
   "cell_type": "code",
   "execution_count": 26,
   "metadata": {},
   "outputs": [
    {
     "data": {
      "text/plain": [
       "<matplotlib.axes._subplots.AxesSubplot at 0x7f792038c278>"
      ]
     },
     "execution_count": 26,
     "metadata": {},
     "output_type": "execute_result"
    },
    {
     "data": {
      "image/png": "[encoded data removed]",
      "text/plain": [
       "<Figure size 432x288 with 1 Axes>"
      ]
     },
     "metadata": {
      "needs_background": "light"
     },
     "output_type": "display_data"
    }
   ],
   "source": [
    "state_df[:10].plot(kind='bar', x='state')"
   ]
  },
  {
   "cell_type": "markdown",
   "metadata": {},
   "source": [
    "Complaints by state seemed to be correlated by population size."
   ]
  },
  {
   "cell_type": "markdown",
   "metadata": {},
   "source": [
    "# Resolution\n",
    "\n",
    "Here we will look at how the company publicly responded to the complaint."
   ]
  },
  {
   "cell_type": "code",
   "execution_count": 27,
   "metadata": {},
   "outputs": [
    {
     "data": {
      "text/html": [
       "<div>\n",
       "<style scoped>\n",
       "    .dataframe tbody tr th:only-of-type {\n",
       "        vertical-align: middle;\n",
       "    }\n",
       "\n",
       "    .dataframe tbody tr th {\n",
       "        vertical-align: top;\n",
       "    }\n",
       "\n",
       "    .dataframe thead th {\n",
       "        text-align: right;\n",
       "    }\n",
       "</style>\n",
       "<table border=\"1\" class=\"dataframe\">\n",
       "  <thead>\n",
       "    <tr style=\"text-align: right;\">\n",
       "      <th></th>\n",
       "      <th>company_public_response</th>\n",
       "      <th>total</th>\n",
       "    </tr>\n",
       "  </thead>\n",
       "  <tbody>\n",
       "    <tr>\n",
       "      <th>0</th>\n",
       "      <td>None</td>\n",
       "      <td>270096</td>\n",
       "    </tr>\n",
       "    <tr>\n",
       "      <th>1</th>\n",
       "      <td>Company has responded to the consumer and the ...</td>\n",
       "      <td>190286</td>\n",
       "    </tr>\n",
       "    <tr>\n",
       "      <th>2</th>\n",
       "      <td>Company believes it acted appropriately as aut...</td>\n",
       "      <td>35668</td>\n",
       "    </tr>\n",
       "    <tr>\n",
       "      <th>3</th>\n",
       "      <td>Company chooses not to provide a public response</td>\n",
       "      <td>19818</td>\n",
       "    </tr>\n",
       "    <tr>\n",
       "      <th>4</th>\n",
       "      <td>Company believes the complaint is the result o...</td>\n",
       "      <td>3409</td>\n",
       "    </tr>\n",
       "    <tr>\n",
       "      <th>5</th>\n",
       "      <td>Company disputes the facts presented in the co...</td>\n",
       "      <td>3315</td>\n",
       "    </tr>\n",
       "    <tr>\n",
       "      <th>6</th>\n",
       "      <td>Company believes complaint caused principally ...</td>\n",
       "      <td>2368</td>\n",
       "    </tr>\n",
       "    <tr>\n",
       "      <th>7</th>\n",
       "      <td>Company believes complaint is the result of an...</td>\n",
       "      <td>2359</td>\n",
       "    </tr>\n",
       "    <tr>\n",
       "      <th>8</th>\n",
       "      <td>Company believes complaint represents an oppor...</td>\n",
       "      <td>1783</td>\n",
       "    </tr>\n",
       "    <tr>\n",
       "      <th>9</th>\n",
       "      <td>Company can't verify or dispute the facts in t...</td>\n",
       "      <td>1207</td>\n",
       "    </tr>\n",
       "  </tbody>\n",
       "</table>\n",
       "</div>"
      ],
      "text/plain": [
       "                             company_public_response   total\n",
       "0                                               None  270096\n",
       "1  Company has responded to the consumer and the ...  190286\n",
       "2  Company believes it acted appropriately as aut...   35668\n",
       "3   Company chooses not to provide a public response   19818\n",
       "4  Company believes the complaint is the result o...    3409\n",
       "5  Company disputes the facts presented in the co...    3315\n",
       "6  Company believes complaint caused principally ...    2368\n",
       "7  Company believes complaint is the result of an...    2359\n",
       "8  Company believes complaint represents an oppor...    1783\n",
       "9  Company can't verify or dispute the facts in t...    1207"
      ]
     },
     "execution_count": 27,
     "metadata": {},
     "output_type": "execute_result"
    }
   ],
   "source": [
    "query = \"\"\"\n",
    "    SELECT \n",
    "        company_public_response, COUNT(complaint_id) as total\n",
    "    FROM \n",
    "        `bigquery-public-data.cfpb_complaints.complaint_database`\n",
    "    WHERE\n",
    "        consumer_complaint_narrative IS NOT NULL\n",
    "    GROUP BY\n",
    "        company_public_response\n",
    "    ORDER BY\n",
    "        total DESC\n",
    "\"\"\"\n",
    "query_job = client.query(\n",
    "    query,\n",
    "    # Location must match that of the dataset(s) referenced in the query.\n",
    "    location=\"US\",\n",
    ")  # API request - starts the query\n",
    "\n",
    "response_df = query_job.to_dataframe()\n",
    "response_df[:10]"
   ]
  },
  {
   "cell_type": "code",
   "execution_count": 28,
   "metadata": {},
   "outputs": [
    {
     "data": {
      "text/plain": [
       "'Company believes it acted appropriately as authorized by contract or law'"
      ]
     },
     "execution_count": 28,
     "metadata": {},
     "output_type": "execute_result"
    }
   ],
   "source": [
    "response_df['company_public_response'][2]"
   ]
  },
  {
   "cell_type": "markdown",
   "metadata": {},
   "source": [
    "Most companies chose to have no response. We might also need to look into the difference between what the difference between \"None\" and the \"Company chooses not to provied a public response\"."
   ]
  },
  {
   "cell_type": "markdown",
   "metadata": {},
   "source": [
    "### Maybe there is a trend or pattern that indicates some companies are more prone to certain public reponses over others?"
   ]
  },
  {
   "cell_type": "code",
   "execution_count": 29,
   "metadata": {},
   "outputs": [
    {
     "data": {
      "text/html": [
       "<div>\n",
       "<style scoped>\n",
       "    .dataframe tbody tr th:only-of-type {\n",
       "        vertical-align: middle;\n",
       "    }\n",
       "\n",
       "    .dataframe tbody tr th {\n",
       "        vertical-align: top;\n",
       "    }\n",
       "\n",
       "    .dataframe thead th {\n",
       "        text-align: right;\n",
       "    }\n",
       "</style>\n",
       "<table border=\"1\" class=\"dataframe\">\n",
       "  <thead>\n",
       "    <tr style=\"text-align: right;\">\n",
       "      <th></th>\n",
       "      <th>company_name</th>\n",
       "      <th>company_public_response</th>\n",
       "      <th>total</th>\n",
       "    </tr>\n",
       "  </thead>\n",
       "  <tbody>\n",
       "    <tr>\n",
       "      <th>0</th>\n",
       "      <td>EQUIFAX, INC.</td>\n",
       "      <td>None</td>\n",
       "      <td>57724</td>\n",
       "    </tr>\n",
       "    <tr>\n",
       "      <th>1</th>\n",
       "      <td>Experian Information Solutions Inc.</td>\n",
       "      <td>Company has responded to the consumer and the ...</td>\n",
       "      <td>47839</td>\n",
       "    </tr>\n",
       "    <tr>\n",
       "      <th>2</th>\n",
       "      <td>TRANSUNION INTERMEDIATE HOLDINGS, INC.</td>\n",
       "      <td>Company has responded to the consumer and the ...</td>\n",
       "      <td>45895</td>\n",
       "    </tr>\n",
       "    <tr>\n",
       "      <th>3</th>\n",
       "      <td>JPMORGAN CHASE &amp; CO.</td>\n",
       "      <td>None</td>\n",
       "      <td>16528</td>\n",
       "    </tr>\n",
       "    <tr>\n",
       "      <th>4</th>\n",
       "      <td>CITIBANK, N.A.</td>\n",
       "      <td>Company has responded to the consumer and the ...</td>\n",
       "      <td>15093</td>\n",
       "    </tr>\n",
       "    <tr>\n",
       "      <th>5</th>\n",
       "      <td>CAPITAL ONE FINANCIAL CORPORATION</td>\n",
       "      <td>None</td>\n",
       "      <td>14310</td>\n",
       "    </tr>\n",
       "    <tr>\n",
       "      <th>6</th>\n",
       "      <td>Navient Solutions, LLC.</td>\n",
       "      <td>None</td>\n",
       "      <td>14256</td>\n",
       "    </tr>\n",
       "    <tr>\n",
       "      <th>7</th>\n",
       "      <td>WELLS FARGO &amp; COMPANY</td>\n",
       "      <td>Company has responded to the consumer and the ...</td>\n",
       "      <td>13999</td>\n",
       "    </tr>\n",
       "    <tr>\n",
       "      <th>8</th>\n",
       "      <td>BANK OF AMERICA, NATIONAL ASSOCIATION</td>\n",
       "      <td>Company has responded to the consumer and the ...</td>\n",
       "      <td>13528</td>\n",
       "    </tr>\n",
       "    <tr>\n",
       "      <th>9</th>\n",
       "      <td>SYNCHRONY FINANCIAL</td>\n",
       "      <td>Company has responded to the consumer and the ...</td>\n",
       "      <td>8283</td>\n",
       "    </tr>\n",
       "  </tbody>\n",
       "</table>\n",
       "</div>"
      ],
      "text/plain": [
       "                             company_name  \\\n",
       "0                           EQUIFAX, INC.   \n",
       "1     Experian Information Solutions Inc.   \n",
       "2  TRANSUNION INTERMEDIATE HOLDINGS, INC.   \n",
       "3                    JPMORGAN CHASE & CO.   \n",
       "4                          CITIBANK, N.A.   \n",
       "5       CAPITAL ONE FINANCIAL CORPORATION   \n",
       "6                 Navient Solutions, LLC.   \n",
       "7                   WELLS FARGO & COMPANY   \n",
       "8   BANK OF AMERICA, NATIONAL ASSOCIATION   \n",
       "9                     SYNCHRONY FINANCIAL   \n",
       "\n",
       "                             company_public_response  total  \n",
       "0                                               None  57724  \n",
       "1  Company has responded to the consumer and the ...  47839  \n",
       "2  Company has responded to the consumer and the ...  45895  \n",
       "3                                               None  16528  \n",
       "4  Company has responded to the consumer and the ...  15093  \n",
       "5                                               None  14310  \n",
       "6                                               None  14256  \n",
       "7  Company has responded to the consumer and the ...  13999  \n",
       "8  Company has responded to the consumer and the ...  13528  \n",
       "9  Company has responded to the consumer and the ...   8283  "
      ]
     },
     "execution_count": 29,
     "metadata": {},
     "output_type": "execute_result"
    }
   ],
   "source": [
    "query = \"\"\"\n",
    "    SELECT \n",
    "        company_name, company_public_response, COUNT(complaint_id) as total\n",
    "    FROM \n",
    "        `bigquery-public-data.cfpb_complaints.complaint_database`\n",
    "    WHERE\n",
    "        consumer_complaint_narrative IS NOT NULL\n",
    "    GROUP BY\n",
    "        company_name, company_public_response\n",
    "    ORDER BY\n",
    "        total DESC\n",
    "\"\"\"\n",
    "query_job = client.query(\n",
    "    query,\n",
    "    # Location must match that of the dataset(s) referenced in the query.\n",
    "    location=\"US\",\n",
    ")  # API request - starts the query\n",
    "\n",
    "response2_df = query_job.to_dataframe()\n",
    "response2_df[:10]"
   ]
  },
  {
   "cell_type": "markdown",
   "metadata": {},
   "source": [
    "Two reponse types seem to be the most common. Also, big companies like Equifax, Chase, and Capital One seem to prefer the \"None\" response. Why is that?"
   ]
  },
  {
   "cell_type": "code",
   "execution_count": 30,
   "metadata": {},
   "outputs": [
    {
     "data": {
      "text/html": [
       "<div>\n",
       "<style scoped>\n",
       "    .dataframe tbody tr th:only-of-type {\n",
       "        vertical-align: middle;\n",
       "    }\n",
       "\n",
       "    .dataframe tbody tr th {\n",
       "        vertical-align: top;\n",
       "    }\n",
       "\n",
       "    .dataframe thead th {\n",
       "        text-align: right;\n",
       "    }\n",
       "</style>\n",
       "<table border=\"1\" class=\"dataframe\">\n",
       "  <thead>\n",
       "    <tr style=\"text-align: right;\">\n",
       "      <th></th>\n",
       "      <th>company_name</th>\n",
       "      <th>company_public_response</th>\n",
       "      <th>total</th>\n",
       "    </tr>\n",
       "  </thead>\n",
       "  <tbody>\n",
       "    <tr>\n",
       "      <th>0</th>\n",
       "      <td>EQUIFAX, INC.</td>\n",
       "      <td>None</td>\n",
       "      <td>57724</td>\n",
       "    </tr>\n",
       "  </tbody>\n",
       "</table>\n",
       "</div>"
      ],
      "text/plain": [
       "    company_name company_public_response  total\n",
       "0  EQUIFAX, INC.                    None  57724"
      ]
     },
     "execution_count": 30,
     "metadata": {},
     "output_type": "execute_result"
    }
   ],
   "source": [
    "response2_df[response2_df['company_name']=='EQUIFAX, INC.']"
   ]
  },
  {
   "cell_type": "code",
   "execution_count": 31,
   "metadata": {},
   "outputs": [
    {
     "data": {
      "text/html": [
       "<div>\n",
       "<style scoped>\n",
       "    .dataframe tbody tr th:only-of-type {\n",
       "        vertical-align: middle;\n",
       "    }\n",
       "\n",
       "    .dataframe tbody tr th {\n",
       "        vertical-align: top;\n",
       "    }\n",
       "\n",
       "    .dataframe thead th {\n",
       "        text-align: right;\n",
       "    }\n",
       "</style>\n",
       "<table border=\"1\" class=\"dataframe\">\n",
       "  <thead>\n",
       "    <tr style=\"text-align: right;\">\n",
       "      <th></th>\n",
       "      <th>company_name</th>\n",
       "      <th>company_public_response</th>\n",
       "      <th>total</th>\n",
       "    </tr>\n",
       "  </thead>\n",
       "  <tbody>\n",
       "    <tr>\n",
       "      <th>3</th>\n",
       "      <td>JPMORGAN CHASE &amp; CO.</td>\n",
       "      <td>None</td>\n",
       "      <td>16528</td>\n",
       "    </tr>\n",
       "    <tr>\n",
       "      <th>5795</th>\n",
       "      <td>JPMORGAN CHASE &amp; CO.</td>\n",
       "      <td>Company has responded to the consumer and the ...</td>\n",
       "      <td>2</td>\n",
       "    </tr>\n",
       "  </tbody>\n",
       "</table>\n",
       "</div>"
      ],
      "text/plain": [
       "              company_name                            company_public_response  \\\n",
       "3     JPMORGAN CHASE & CO.                                               None   \n",
       "5795  JPMORGAN CHASE & CO.  Company has responded to the consumer and the ...   \n",
       "\n",
       "      total  \n",
       "3     16528  \n",
       "5795      2  "
      ]
     },
     "execution_count": 31,
     "metadata": {},
     "output_type": "execute_result"
    }
   ],
   "source": [
    "response2_df[response2_df['company_name']=='JPMORGAN CHASE & CO.']"
   ]
  },
  {
   "cell_type": "markdown",
   "metadata": {},
   "source": [
    "Why does JP Morgan and Equifax mainly have \"None\" as its response?"
   ]
  },
  {
   "cell_type": "code",
   "execution_count": 32,
   "metadata": {},
   "outputs": [
    {
     "data": {
      "text/html": [
       "<div>\n",
       "<style scoped>\n",
       "    .dataframe tbody tr th:only-of-type {\n",
       "        vertical-align: middle;\n",
       "    }\n",
       "\n",
       "    .dataframe tbody tr th {\n",
       "        vertical-align: top;\n",
       "    }\n",
       "\n",
       "    .dataframe thead th {\n",
       "        text-align: right;\n",
       "    }\n",
       "</style>\n",
       "<table border=\"1\" class=\"dataframe\">\n",
       "  <thead>\n",
       "    <tr style=\"text-align: right;\">\n",
       "      <th></th>\n",
       "      <th>company_name</th>\n",
       "      <th>company_public_response</th>\n",
       "      <th>total</th>\n",
       "    </tr>\n",
       "  </thead>\n",
       "  <tbody>\n",
       "    <tr>\n",
       "      <th>27</th>\n",
       "      <td>ERC</td>\n",
       "      <td>Company believes it acted appropriately as aut...</td>\n",
       "      <td>2558</td>\n",
       "    </tr>\n",
       "    <tr>\n",
       "      <th>31</th>\n",
       "      <td>SELECT PORTFOLIO SERVICING, INC.</td>\n",
       "      <td>Company believes it acted appropriately as aut...</td>\n",
       "      <td>2243</td>\n",
       "    </tr>\n",
       "    <tr>\n",
       "      <th>32</th>\n",
       "      <td>UNITED SERVICES AUTOMOBILE ASSOCIATION</td>\n",
       "      <td>Company believes it acted appropriately as aut...</td>\n",
       "      <td>2177</td>\n",
       "    </tr>\n",
       "    <tr>\n",
       "      <th>39</th>\n",
       "      <td>Ditech Financial LLC</td>\n",
       "      <td>Company believes it acted appropriately as aut...</td>\n",
       "      <td>1842</td>\n",
       "    </tr>\n",
       "    <tr>\n",
       "      <th>40</th>\n",
       "      <td>NAVY FEDERAL CREDIT UNION</td>\n",
       "      <td>Company believes it acted appropriately as aut...</td>\n",
       "      <td>1836</td>\n",
       "    </tr>\n",
       "    <tr>\n",
       "      <th>56</th>\n",
       "      <td>Shellpoint Partners, LLC</td>\n",
       "      <td>Company believes it acted appropriately as aut...</td>\n",
       "      <td>1133</td>\n",
       "    </tr>\n",
       "    <tr>\n",
       "      <th>75</th>\n",
       "      <td>GREAT LAKES</td>\n",
       "      <td>Company believes it acted appropriately as aut...</td>\n",
       "      <td>721</td>\n",
       "    </tr>\n",
       "    <tr>\n",
       "      <th>83</th>\n",
       "      <td>SLM CORPORATION</td>\n",
       "      <td>Company believes it acted appropriately as aut...</td>\n",
       "      <td>690</td>\n",
       "    </tr>\n",
       "    <tr>\n",
       "      <th>101</th>\n",
       "      <td>Phoenix Financial Services LLC</td>\n",
       "      <td>Company believes it acted appropriately as aut...</td>\n",
       "      <td>555</td>\n",
       "    </tr>\n",
       "    <tr>\n",
       "      <th>116</th>\n",
       "      <td>I.Q. DATA INTERNATIONAL, INC.</td>\n",
       "      <td>Company believes it acted appropriately as aut...</td>\n",
       "      <td>472</td>\n",
       "    </tr>\n",
       "  </tbody>\n",
       "</table>\n",
       "</div>"
      ],
      "text/plain": [
       "                               company_name  \\\n",
       "27                                      ERC   \n",
       "31         SELECT PORTFOLIO SERVICING, INC.   \n",
       "32   UNITED SERVICES AUTOMOBILE ASSOCIATION   \n",
       "39                     Ditech Financial LLC   \n",
       "40                NAVY FEDERAL CREDIT UNION   \n",
       "56                 Shellpoint Partners, LLC   \n",
       "75                              GREAT LAKES   \n",
       "83                          SLM CORPORATION   \n",
       "101          Phoenix Financial Services LLC   \n",
       "116           I.Q. DATA INTERNATIONAL, INC.   \n",
       "\n",
       "                               company_public_response  total  \n",
       "27   Company believes it acted appropriately as aut...   2558  \n",
       "31   Company believes it acted appropriately as aut...   2243  \n",
       "32   Company believes it acted appropriately as aut...   2177  \n",
       "39   Company believes it acted appropriately as aut...   1842  \n",
       "40   Company believes it acted appropriately as aut...   1836  \n",
       "56   Company believes it acted appropriately as aut...   1133  \n",
       "75   Company believes it acted appropriately as aut...    721  \n",
       "83   Company believes it acted appropriately as aut...    690  \n",
       "101  Company believes it acted appropriately as aut...    555  \n",
       "116  Company believes it acted appropriately as aut...    472  "
      ]
     },
     "execution_count": 32,
     "metadata": {},
     "output_type": "execute_result"
    }
   ],
   "source": [
    "response2_df[response2_df['company_public_response']=='Company believes it acted appropriately as authorized by contract or law'][:10]"
   ]
  },
  {
   "cell_type": "markdown",
   "metadata": {},
   "source": [
    "Looks like many of the \"smaller\" companies believe that they have acted appropriately."
   ]
  },
  {
   "cell_type": "markdown",
   "metadata": {},
   "source": [
    "# Looking at date"
   ]
  },
  {
   "cell_type": "code",
   "execution_count": 33,
   "metadata": {},
   "outputs": [],
   "source": [
    "query = \"\"\"\n",
    "    SELECT \n",
    "        extract(year from date_received) as year, COUNT(complaint_id) as total\n",
    "    FROM \n",
    "        `bigquery-public-data.cfpb_complaints.complaint_database`\n",
    "    WHERE\n",
    "        consumer_complaint_narrative IS NOT NULL\n",
    "    GROUP BY\n",
    "       year\n",
    "    ORDER BY\n",
    "        total DESC\n",
    "\"\"\"\n",
    "query_job = client.query(\n",
    "    query,\n",
    "    # Location must match that of the dataset(s) referenced in the query.\n",
    "    location=\"US\",\n",
    ")  # API request - starts the query\n",
    "\n",
    "year_df = query_job.to_dataframe()"
   ]
  },
  {
   "cell_type": "code",
   "execution_count": 34,
   "metadata": {},
   "outputs": [
    {
     "data": {
      "text/plain": [
       "<matplotlib.axes._subplots.AxesSubplot at 0x7f7920570e80>"
      ]
     },
     "execution_count": 34,
     "metadata": {},
     "output_type": "execute_result"
    },
    {
     "data": {
      "image/png": "[encoded data removed]",
      "text/plain": [
       "<Figure size 432x288 with 1 Axes>"
      ]
     },
     "metadata": {
      "needs_background": "light"
     },
     "output_type": "display_data"
    }
   ],
   "source": [
    "year_df.sort_values(by='year').plot(x='year')"
   ]
  },
  {
   "cell_type": "code",
   "execution_count": 35,
   "metadata": {},
   "outputs": [
    {
     "data": {
      "text/html": [
       "<div>\n",
       "<style scoped>\n",
       "    .dataframe tbody tr th:only-of-type {\n",
       "        vertical-align: middle;\n",
       "    }\n",
       "\n",
       "    .dataframe tbody tr th {\n",
       "        vertical-align: top;\n",
       "    }\n",
       "\n",
       "    .dataframe thead th {\n",
       "        text-align: right;\n",
       "    }\n",
       "</style>\n",
       "<table border=\"1\" class=\"dataframe\">\n",
       "  <thead>\n",
       "    <tr style=\"text-align: right;\">\n",
       "      <th></th>\n",
       "      <th>year</th>\n",
       "      <th>total</th>\n",
       "    </tr>\n",
       "  </thead>\n",
       "  <tbody>\n",
       "    <tr>\n",
       "      <th>4</th>\n",
       "      <td>2015</td>\n",
       "      <td>54753</td>\n",
       "    </tr>\n",
       "    <tr>\n",
       "      <th>3</th>\n",
       "      <td>2016</td>\n",
       "      <td>77819</td>\n",
       "    </tr>\n",
       "    <tr>\n",
       "      <th>2</th>\n",
       "      <td>2017</td>\n",
       "      <td>115176</td>\n",
       "    </tr>\n",
       "    <tr>\n",
       "      <th>1</th>\n",
       "      <td>2018</td>\n",
       "      <td>118485</td>\n",
       "    </tr>\n",
       "    <tr>\n",
       "      <th>0</th>\n",
       "      <td>2019</td>\n",
       "      <td>124914</td>\n",
       "    </tr>\n",
       "    <tr>\n",
       "      <th>5</th>\n",
       "      <td>2020</td>\n",
       "      <td>39201</td>\n",
       "    </tr>\n",
       "  </tbody>\n",
       "</table>\n",
       "</div>"
      ],
      "text/plain": [
       "   year   total\n",
       "4  2015   54753\n",
       "3  2016   77819\n",
       "2  2017  115176\n",
       "1  2018  118485\n",
       "0  2019  124914\n",
       "5  2020   39201"
      ]
     },
     "execution_count": 35,
     "metadata": {},
     "output_type": "execute_result"
    }
   ],
   "source": [
    "year_df.sort_values(by='year')"
   ]
  },
  {
   "cell_type": "markdown",
   "metadata": {},
   "source": [
    "Data all the way from 2011 but only 2015 and on has consumer complaint narratives. 2020 drops due to not being a full year yet."
   ]
  },
  {
   "cell_type": "code",
   "execution_count": 36,
   "metadata": {},
   "outputs": [],
   "source": [
    "query = \"\"\"\n",
    "    SELECT \n",
    "        extract(month from date_received) as month, COUNT(complaint_id) as total\n",
    "    FROM \n",
    "        `bigquery-public-data.cfpb_complaints.complaint_database`\n",
    "    WHERE\n",
    "        consumer_complaint_narrative IS NOT NULL\n",
    "    GROUP BY\n",
    "       month\n",
    "    ORDER BY\n",
    "        total DESC\n",
    "\"\"\"\n",
    "query_job = client.query(\n",
    "    query,\n",
    "    # Location must match that of the dataset(s) referenced in the query.\n",
    "    location=\"US\",\n",
    ")  # API request - starts the query\n",
    "\n",
    "month_df = query_job.to_dataframe()"
   ]
  },
  {
   "cell_type": "code",
   "execution_count": 37,
   "metadata": {},
   "outputs": [
    {
     "data": {
      "text/plain": [
       "<matplotlib.axes._subplots.AxesSubplot at 0x7f79202ff080>"
      ]
     },
     "execution_count": 37,
     "metadata": {},
     "output_type": "execute_result"
    },
    {
     "data": {
      "image/png": "[encoded data removed]",
      "text/plain": [
       "<Figure size 432x288 with 1 Axes>"
      ]
     },
     "metadata": {
      "needs_background": "light"
     },
     "output_type": "display_data"
    }
   ],
   "source": [
    "month_df.sort_values(by='month').plot(kind='bar',x='month')"
   ]
  },
  {
   "cell_type": "code",
   "execution_count": 38,
   "metadata": {},
   "outputs": [],
   "source": [
    "query = \"\"\"\n",
    "    SELECT \n",
    "        date_received, COUNT(complaint_id) as total\n",
    "    FROM \n",
    "        `bigquery-public-data.cfpb_complaints.complaint_database`\n",
    "    WHERE\n",
    "        consumer_complaint_narrative IS NOT NULL\n",
    "    GROUP BY\n",
    "        date_received\n",
    "    ORDER BY\n",
    "        total DESC\n",
    "\"\"\"\n",
    "query_job = client.query(\n",
    "    query,\n",
    "    # Location must match that of the dataset(s) referenced in the query.\n",
    "    location=\"US\",\n",
    ")  # API request - starts the query\n",
    "\n",
    "time_df = query_job.to_dataframe()"
   ]
  },
  {
   "cell_type": "code",
   "execution_count": 39,
   "metadata": {},
   "outputs": [
    {
     "data": {
      "text/html": [
       "<div>\n",
       "<style scoped>\n",
       "    .dataframe tbody tr th:only-of-type {\n",
       "        vertical-align: middle;\n",
       "    }\n",
       "\n",
       "    .dataframe tbody tr th {\n",
       "        vertical-align: top;\n",
       "    }\n",
       "\n",
       "    .dataframe thead th {\n",
       "        text-align: right;\n",
       "    }\n",
       "</style>\n",
       "<table border=\"1\" class=\"dataframe\">\n",
       "  <thead>\n",
       "    <tr style=\"text-align: right;\">\n",
       "      <th></th>\n",
       "      <th>total</th>\n",
       "    </tr>\n",
       "    <tr>\n",
       "      <th>date_received</th>\n",
       "      <th></th>\n",
       "    </tr>\n",
       "  </thead>\n",
       "  <tbody>\n",
       "    <tr>\n",
       "      <th>2017-09-08</th>\n",
       "      <td>1890</td>\n",
       "    </tr>\n",
       "    <tr>\n",
       "      <th>2017-09-09</th>\n",
       "      <td>1369</td>\n",
       "    </tr>\n",
       "    <tr>\n",
       "      <th>2017-01-19</th>\n",
       "      <td>1013</td>\n",
       "    </tr>\n",
       "    <tr>\n",
       "      <th>2017-09-13</th>\n",
       "      <td>904</td>\n",
       "    </tr>\n",
       "    <tr>\n",
       "      <th>2017-01-20</th>\n",
       "      <td>809</td>\n",
       "    </tr>\n",
       "  </tbody>\n",
       "</table>\n",
       "</div>"
      ],
      "text/plain": [
       "               total\n",
       "date_received       \n",
       "2017-09-08      1890\n",
       "2017-09-09      1369\n",
       "2017-01-19      1013\n",
       "2017-09-13       904\n",
       "2017-01-20       809"
      ]
     },
     "execution_count": 39,
     "metadata": {},
     "output_type": "execute_result"
    }
   ],
   "source": [
    "from datetime import datetime\n",
    "time_df['date_received'] = pandas.to_datetime(time_df['date_received'])\n",
    "time_df.set_index('date_received', inplace=True)\n",
    "time_df.head()"
   ]
  },
  {
   "cell_type": "code",
   "execution_count": 40,
   "metadata": {},
   "outputs": [
    {
     "data": {
      "text/plain": [
       "<matplotlib.axes._subplots.AxesSubplot at 0x7f7903c0a9b0>"
      ]
     },
     "execution_count": 40,
     "metadata": {},
     "output_type": "execute_result"
    },
    {
     "data": {
      "image/png": "[encoded data removed]",
      "text/plain": [
       "<Figure size 432x288 with 1 Axes>"
      ]
     },
     "metadata": {
      "needs_background": "light"
     },
     "output_type": "display_data"
    }
   ],
   "source": [
    "time_df['total'].plot()"
   ]
  },
  {
   "cell_type": "code",
   "execution_count": 41,
   "metadata": {},
   "outputs": [
    {
     "name": "stderr",
     "output_type": "stream",
     "text": [
      "/usr/local/lib/python3.5/dist-packages/ipykernel_launcher.py:2: FutureWarning: \n",
      "Passing list-likes to .loc or [] with any missing label will raise\n",
      "KeyError in the future, you can use .reindex() as an alternative.\n",
      "\n",
      "See the documentation here:\n",
      "https://pandas.pydata.org/pandas-docs/stable/user_guide/indexing.html#deprecate-loc-reindex-listlike\n",
      "  \n"
     ]
    },
    {
     "data": {
      "text/plain": [
       "<matplotlib.axes._subplots.AxesSubplot at 0x7f79203445f8>"
      ]
     },
     "execution_count": 41,
     "metadata": {},
     "output_type": "execute_result"
    },
    {
     "data": {
      "image/png": "[encoded data removed]",
      "text/plain": [
       "<Figure size 432x288 with 1 Axes>"
      ]
     },
     "metadata": {
      "needs_background": "light"
     },
     "output_type": "display_data"
    }
   ],
   "source": [
    "dates = pandas.date_range(start='1/1/2017', end='1/1/2018', freq='D')\n",
    "time_df.loc[dates]['total'].plot()"
   ]
  },
  {
   "cell_type": "markdown",
   "metadata": {},
   "source": [
    "Why those spikes?"
   ]
  },
  {
   "cell_type": "code",
   "execution_count": 42,
   "metadata": {},
   "outputs": [
    {
     "data": {
      "text/plain": [
       "<matplotlib.axes._subplots.AxesSubplot at 0x7f7903b94710>"
      ]
     },
     "execution_count": 42,
     "metadata": {},
     "output_type": "execute_result"
    },
    {
     "data": {
      "image/png": "[encoded data removed]",
      "text/plain": [
       "<Figure size 432x288 with 1 Axes>"
      ]
     },
     "metadata": {
      "needs_background": "light"
     },
     "output_type": "display_data"
    }
   ],
   "source": [
    "dates2 = pandas.date_range(start='1/10/2017', end='1/20/2017', freq='D')\n",
    "time_df.loc[dates2]['total'].plot()"
   ]
  },
  {
   "cell_type": "markdown",
   "metadata": {},
   "source": [
    "Low on the weekends, high on Thursday for this week.\n",
    "# Now lets look at the other half of the columns"
   ]
  },
  {
   "cell_type": "markdown",
   "metadata": {},
   "source": [
    "These columns look at zipcode, tags, and other variables that describe how the complaint resolved."
   ]
  },
  {
   "cell_type": "code",
   "execution_count": 43,
   "metadata": {},
   "outputs": [],
   "source": [
    "query = \"\"\"\n",
    "    SELECT \n",
    "        zip_code,\n",
    "        tags,\n",
    "        consumer_consent_provided,\n",
    "        submitted_via,\n",
    "        date_sent_to_company,\n",
    "        company_response_to_consumer,\n",
    "        timely_response,\n",
    "        consumer_disputed,\n",
    "        complaint_id\n",
    "    FROM\n",
    "        `bigquery-public-data.cfpb_complaints.complaint_database`\n",
    "    WHERE\n",
    "        consumer_complaint_narrative IS NOT NULL\n",
    "\"\"\"\n",
    "query_job = client.query(\n",
    "    query,\n",
    "    # Location must match that of the dataset(s) referenced in the query.\n",
    "    location=\"US\",\n",
    ")  # API request - starts the query\n",
    "\n",
    "second_half_df = query_job.to_dataframe()"
   ]
  },
  {
   "cell_type": "code",
   "execution_count": 44,
   "metadata": {},
   "outputs": [
    {
     "data": {
      "text/html": [
       "<div>\n",
       "<style scoped>\n",
       "    .dataframe tbody tr th:only-of-type {\n",
       "        vertical-align: middle;\n",
       "    }\n",
       "\n",
       "    .dataframe tbody tr th {\n",
       "        vertical-align: top;\n",
       "    }\n",
       "\n",
       "    .dataframe thead th {\n",
       "        text-align: right;\n",
       "    }\n",
       "</style>\n",
       "<table border=\"1\" class=\"dataframe\">\n",
       "  <thead>\n",
       "    <tr style=\"text-align: right;\">\n",
       "      <th></th>\n",
       "      <th>zip_code</th>\n",
       "      <th>tags</th>\n",
       "      <th>consumer_consent_provided</th>\n",
       "      <th>submitted_via</th>\n",
       "      <th>date_sent_to_company</th>\n",
       "      <th>company_response_to_consumer</th>\n",
       "      <th>timely_response</th>\n",
       "      <th>consumer_disputed</th>\n",
       "      <th>complaint_id</th>\n",
       "    </tr>\n",
       "  </thead>\n",
       "  <tbody>\n",
       "    <tr>\n",
       "      <th>count</th>\n",
       "      <td>411520</td>\n",
       "      <td>90725</td>\n",
       "      <td>530348</td>\n",
       "      <td>530348</td>\n",
       "      <td>530348</td>\n",
       "      <td>530347</td>\n",
       "      <td>530348</td>\n",
       "      <td>164066</td>\n",
       "      <td>530348</td>\n",
       "    </tr>\n",
       "    <tr>\n",
       "      <th>unique</th>\n",
       "      <td>11197</td>\n",
       "      <td>3</td>\n",
       "      <td>1</td>\n",
       "      <td>1</td>\n",
       "      <td>1877</td>\n",
       "      <td>6</td>\n",
       "      <td>2</td>\n",
       "      <td>2</td>\n",
       "      <td>530348</td>\n",
       "    </tr>\n",
       "    <tr>\n",
       "      <th>top</th>\n",
       "      <td>300XX</td>\n",
       "      <td>Servicemember</td>\n",
       "      <td>Consent provided</td>\n",
       "      <td>Web</td>\n",
       "      <td>2017-09-08</td>\n",
       "      <td>Closed with explanation</td>\n",
       "      <td>True</td>\n",
       "      <td>False</td>\n",
       "      <td>2988114</td>\n",
       "    </tr>\n",
       "    <tr>\n",
       "      <th>freq</th>\n",
       "      <td>9396</td>\n",
       "      <td>54978</td>\n",
       "      <td>530348</td>\n",
       "      <td>530348</td>\n",
       "      <td>1783</td>\n",
       "      <td>429809</td>\n",
       "      <td>516424</td>\n",
       "      <td>128259</td>\n",
       "      <td>1</td>\n",
       "    </tr>\n",
       "  </tbody>\n",
       "</table>\n",
       "</div>"
      ],
      "text/plain": [
       "       zip_code           tags consumer_consent_provided submitted_via  \\\n",
       "count    411520          90725                    530348        530348   \n",
       "unique    11197              3                         1             1   \n",
       "top       300XX  Servicemember          Consent provided           Web   \n",
       "freq       9396          54978                    530348        530348   \n",
       "\n",
       "       date_sent_to_company company_response_to_consumer timely_response  \\\n",
       "count                530348                       530347          530348   \n",
       "unique                 1877                            6               2   \n",
       "top              2017-09-08      Closed with explanation            True   \n",
       "freq                   1783                       429809          516424   \n",
       "\n",
       "       consumer_disputed complaint_id  \n",
       "count             164066       530348  \n",
       "unique                 2       530348  \n",
       "top                False      2988114  \n",
       "freq              128259            1  "
      ]
     },
     "execution_count": 44,
     "metadata": {},
     "output_type": "execute_result"
    }
   ],
   "source": [
    "second_half_df.describe()"
   ]
  },
  {
   "cell_type": "markdown",
   "metadata": {},
   "source": [
    "Looking at null values for the second half of the dataset columns."
   ]
  },
  {
   "cell_type": "code",
   "execution_count": 45,
   "metadata": {},
   "outputs": [
    {
     "data": {
      "text/plain": [
       "tags                            82.893308\n",
       "consumer_disputed               69.064463\n",
       "zip_code                        22.405666\n",
       "company_response_to_consumer     0.000189\n",
       "complaint_id                     0.000000\n",
       "timely_response                  0.000000\n",
       "date_sent_to_company             0.000000\n",
       "submitted_via                    0.000000\n",
       "consumer_consent_provided        0.000000\n",
       "dtype: float64"
      ]
     },
     "execution_count": 45,
     "metadata": {},
     "output_type": "execute_result"
    }
   ],
   "source": [
    "(second_half_df.isnull().sum()/len(second_half_df)*100).sort_values(ascending=False)"
   ]
  },
  {
   "cell_type": "markdown",
   "metadata": {},
   "source": [
    "Tags seems to be missing in a majority of the rows. Same with the consumer_disputed variable."
   ]
  },
  {
   "cell_type": "code",
   "execution_count": 46,
   "metadata": {},
   "outputs": [
    {
     "data": {
      "text/plain": [
       "300XX    9396\n",
       "770XX    6283\n",
       "606XX    5904\n",
       "330XX    5762\n",
       "331XX    5642\n",
       "750XX    5562\n",
       "303XX    4732\n",
       "900XX    4646\n",
       "891XX    4608\n",
       "112XX    4312\n",
       "334XX    4287\n",
       "945XX    4191\n",
       "302XX    4096\n",
       "191XX    3397\n",
       "333XX    3267\n",
       "301XX    3224\n",
       "852XX    3120\n",
       "207XX    3103\n",
       "282XX    3016\n",
       "917XX    2928\n",
       "Name: zip_code, dtype: int64"
      ]
     },
     "execution_count": 46,
     "metadata": {},
     "output_type": "execute_result"
    }
   ],
   "source": [
    "second_half_df['zip_code'].value_counts().head(n=20)"
   ]
  },
  {
   "cell_type": "markdown",
   "metadata": {},
   "source": [
    "Looks like part of the zipcode is hidden."
   ]
  },
  {
   "cell_type": "markdown",
   "metadata": {},
   "source": [
    "Tag seems to be a classifier of some sort."
   ]
  },
  {
   "cell_type": "code",
   "execution_count": 47,
   "metadata": {},
   "outputs": [
    {
     "data": {
      "text/plain": [
       "Servicemember                    54978\n",
       "Older American                   28501\n",
       "Older American, Servicemember     7246\n",
       "Name: tags, dtype: int64"
      ]
     },
     "execution_count": 47,
     "metadata": {},
     "output_type": "execute_result"
    }
   ],
   "source": [
    "second_half_df['tags'].value_counts()"
   ]
  },
  {
   "cell_type": "markdown",
   "metadata": {},
   "source": [
    "Only three groups. What does servicemember mean? What is the age cutoff for older American?"
   ]
  },
  {
   "cell_type": "code",
   "execution_count": 48,
   "metadata": {},
   "outputs": [
    {
     "data": {
      "text/plain": [
       "<matplotlib.axes._subplots.AxesSubplot at 0x7f78f9e9dc18>"
      ]
     },
     "execution_count": 48,
     "metadata": {},
     "output_type": "execute_result"
    },
    {
     "data": {
      "image/png": "[encoded data removed]",
      "text/plain": [
       "<Figure size 432x288 with 1 Axes>"
      ]
     },
     "metadata": {
      "needs_background": "light"
     },
     "output_type": "display_data"
    }
   ],
   "source": [
    "second_half_df['tags'].value_counts().plot(kind='bar')"
   ]
  },
  {
   "cell_type": "markdown",
   "metadata": {},
   "source": [
    "Look at consumer consent"
   ]
  },
  {
   "cell_type": "code",
   "execution_count": 49,
   "metadata": {},
   "outputs": [
    {
     "data": {
      "text/plain": [
       "<matplotlib.axes._subplots.AxesSubplot at 0x7f78f994cba8>"
      ]
     },
     "execution_count": 49,
     "metadata": {},
     "output_type": "execute_result"
    },
    {
     "data": {
      "image/png": "[encoded data removed]",
      "text/plain": [
       "<Figure size 432x288 with 1 Axes>"
      ]
     },
     "metadata": {
      "needs_background": "light"
     },
     "output_type": "display_data"
    }
   ],
   "source": [
    "second_half_df['consumer_consent_provided'].value_counts().plot(kind='bar')"
   ]
  },
  {
   "cell_type": "markdown",
   "metadata": {},
   "source": [
    "Only one label for this variable."
   ]
  },
  {
   "cell_type": "code",
   "execution_count": 50,
   "metadata": {},
   "outputs": [
    {
     "data": {
      "text/plain": [
       "<matplotlib.axes._subplots.AxesSubplot at 0x7f78f9f88c50>"
      ]
     },
     "execution_count": 50,
     "metadata": {},
     "output_type": "execute_result"
    },
    {
     "data": {
      "image/png": "[encoded data removed]",
      "text/plain": [
       "<Figure size 432x288 with 1 Axes>"
      ]
     },
     "metadata": {
      "needs_background": "light"
     },
     "output_type": "display_data"
    }
   ],
   "source": [
    "second_half_df['submitted_via'].value_counts().plot(kind='bar')"
   ]
  },
  {
   "cell_type": "markdown",
   "metadata": {},
   "source": [
    "All complaints sent through the web."
   ]
  },
  {
   "cell_type": "markdown",
   "metadata": {},
   "source": [
    "### Possible company responses"
   ]
  },
  {
   "cell_type": "code",
   "execution_count": 51,
   "metadata": {},
   "outputs": [
    {
     "data": {
      "text/plain": [
       "Closed with explanation            429809\n",
       "Closed with non-monetary relief     65551\n",
       "Closed with monetary relief         27915\n",
       "Closed                               3741\n",
       "Untimely response                    3329\n",
       "In progress                             2\n",
       "Name: company_response_to_consumer, dtype: int64"
      ]
     },
     "execution_count": 51,
     "metadata": {},
     "output_type": "execute_result"
    }
   ],
   "source": [
    "second_half_df['company_response_to_consumer'].value_counts()"
   ]
  },
  {
   "cell_type": "markdown",
   "metadata": {},
   "source": [
    "Probably want to put more emphasis on untimely response and closed with monetary relief. Focusing on these resolutions will save the company money and face-value."
   ]
  },
  {
   "cell_type": "code",
   "execution_count": 52,
   "metadata": {},
   "outputs": [
    {
     "data": {
      "text/plain": [
       "<matplotlib.axes._subplots.AxesSubplot at 0x7f78f8feb6a0>"
      ]
     },
     "execution_count": 52,
     "metadata": {},
     "output_type": "execute_result"
    },
    {
     "data": {
      "image/png": "[encoded data removed]",
      "text/plain": [
       "<Figure size 432x288 with 1 Axes>"
      ]
     },
     "metadata": {
      "needs_background": "light"
     },
     "output_type": "display_data"
    }
   ],
   "source": [
    "second_half_df['timely_response'].value_counts().plot(kind='bar')"
   ]
  },
  {
   "cell_type": "code",
   "execution_count": 53,
   "metadata": {},
   "outputs": [
    {
     "data": {
      "text/plain": [
       "<matplotlib.axes._subplots.AxesSubplot at 0x7f78fa023f60>"
      ]
     },
     "execution_count": 53,
     "metadata": {},
     "output_type": "execute_result"
    },
    {
     "data": {
      "image/png": "[encoded data removed]",
      "text/plain": [
       "<Figure size 432x288 with 1 Axes>"
      ]
     },
     "metadata": {
      "needs_background": "light"
     },
     "output_type": "display_data"
    }
   ],
   "source": [
    "second_half_df['consumer_disputed'].value_counts().plot(kind='bar')"
   ]
  },
  {
   "cell_type": "markdown",
   "metadata": {},
   "source": [
    "Most complaints are resolved in a timely manner and are not disputed."
   ]
  }
 ],
 "metadata": {
  "kernelspec": {
   "display_name": "Python 3",
   "language": "python",
   "name": "python3"
  },
  "language_info": {
   "codemirror_mode": {
    "name": "ipython",
    "version": 3
   },
   "file_extension": ".py",
   "mimetype": "text/x-python",
   "name": "python",
   "nbconvert_exporter": "python",
   "pygments_lexer": "ipython3",
   "version": "3.5.3"
  }
 },
 "nbformat": 4,
 "nbformat_minor": 4
}
