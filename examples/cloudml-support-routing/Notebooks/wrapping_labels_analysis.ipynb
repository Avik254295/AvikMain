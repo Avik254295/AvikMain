{
 "cells": [
  {
   "cell_type": "markdown",
   "metadata": {},
   "source": [
    "### Wrapping Up the labels\n",
    "\n",
    "In this notebook, we are taking a deeper look at the labels within the categorical columns of product, subproduct, issue, and subissue. This is so that we can try to determine if there are any patterns or trends we can use to wrap the labels up to make them more cohesive and explainable. "
   ]
  },
  {
   "cell_type": "code",
   "execution_count": 1,
   "metadata": {},
   "outputs": [],
   "source": [
    "from google.cloud import bigquery\n",
    "import pandas"
   ]
  },
  {
   "cell_type": "code",
   "execution_count": 2,
   "metadata": {},
   "outputs": [
    {
     "name": "stdout",
     "output_type": "stream",
     "text": [
      "Client creating using default project: ut-goog\n"
     ]
    }
   ],
   "source": [
    "client = bigquery.Client(location=\"US\")\n",
    "print(\"Client creating using default project: {}\".format(client.project))"
   ]
  },
  {
   "cell_type": "markdown",
   "metadata": {},
   "source": [
    "### Reading in the data\n",
    "\n",
    "Here we are reading in the above mentioned columns from the dataset. "
   ]
  },
  {
   "cell_type": "code",
   "execution_count": 3,
   "metadata": {},
   "outputs": [
    {
     "data": {
      "text/html": [
       "<div>\n",
       "<style scoped>\n",
       "    .dataframe tbody tr th:only-of-type {\n",
       "        vertical-align: middle;\n",
       "    }\n",
       "\n",
       "    .dataframe tbody tr th {\n",
       "        vertical-align: top;\n",
       "    }\n",
       "\n",
       "    .dataframe thead th {\n",
       "        text-align: right;\n",
       "    }\n",
       "</style>\n",
       "<table border=\"1\" class=\"dataframe\">\n",
       "  <thead>\n",
       "    <tr style=\"text-align: right;\">\n",
       "      <th></th>\n",
       "      <th>date_received</th>\n",
       "      <th>product</th>\n",
       "      <th>subproduct</th>\n",
       "      <th>issue</th>\n",
       "      <th>subissue</th>\n",
       "      <th>consumer_complaint_narrative</th>\n",
       "      <th>company_public_response</th>\n",
       "      <th>company_name</th>\n",
       "      <th>state</th>\n",
       "    </tr>\n",
       "  </thead>\n",
       "  <tbody>\n",
       "    <tr>\n",
       "      <th>0</th>\n",
       "      <td>2016-11-28</td>\n",
       "      <td>Prepaid card</td>\n",
       "      <td>General purpose card</td>\n",
       "      <td>Fees</td>\n",
       "      <td>None</td>\n",
       "      <td>I received a prepaid debit card from Citi bank...</td>\n",
       "      <td>Company has responded to the consumer and the ...</td>\n",
       "      <td>CITIBANK, N.A.</td>\n",
       "      <td>FL</td>\n",
       "    </tr>\n",
       "    <tr>\n",
       "      <th>1</th>\n",
       "      <td>2015-04-19</td>\n",
       "      <td>Prepaid card</td>\n",
       "      <td>ID prepaid card</td>\n",
       "      <td>Fees</td>\n",
       "      <td>None</td>\n",
       "      <td>XXXX/XXXX/15 purchased an American Express Blu...</td>\n",
       "      <td>None</td>\n",
       "      <td>AMERICAN EXPRESS COMPANY</td>\n",
       "      <td>CA</td>\n",
       "    </tr>\n",
       "    <tr>\n",
       "      <th>2</th>\n",
       "      <td>2015-09-25</td>\n",
       "      <td>Prepaid card</td>\n",
       "      <td>General purpose card</td>\n",
       "      <td>Fees</td>\n",
       "      <td>None</td>\n",
       "      <td>I received XXXX ( XXXX ) USBank Cash+ Bonus Re...</td>\n",
       "      <td>Company chooses not to provide a public response</td>\n",
       "      <td>U.S. BANCORP</td>\n",
       "      <td>CA</td>\n",
       "    </tr>\n",
       "    <tr>\n",
       "      <th>3</th>\n",
       "      <td>2015-09-26</td>\n",
       "      <td>Prepaid card</td>\n",
       "      <td>Gift or merchant card</td>\n",
       "      <td>Fees</td>\n",
       "      <td>None</td>\n",
       "      <td>I enrolled in American Express has premier shi...</td>\n",
       "      <td>None</td>\n",
       "      <td>AMERICAN EXPRESS COMPANY</td>\n",
       "      <td>CA</td>\n",
       "    </tr>\n",
       "    <tr>\n",
       "      <th>4</th>\n",
       "      <td>2017-04-01</td>\n",
       "      <td>Prepaid card</td>\n",
       "      <td>Other special purpose card</td>\n",
       "      <td>Fees</td>\n",
       "      <td>None</td>\n",
       "      <td>I received a {$50.00} American Express Prepaid...</td>\n",
       "      <td>None</td>\n",
       "      <td>AMERICAN EXPRESS COMPANY</td>\n",
       "      <td>OH</td>\n",
       "    </tr>\n",
       "  </tbody>\n",
       "</table>\n",
       "</div>"
      ],
      "text/plain": [
       "  date_received       product                  subproduct issue subissue  \\\n",
       "0    2016-11-28  Prepaid card        General purpose card  Fees     None   \n",
       "1    2015-04-19  Prepaid card             ID prepaid card  Fees     None   \n",
       "2    2015-09-25  Prepaid card        General purpose card  Fees     None   \n",
       "3    2015-09-26  Prepaid card       Gift or merchant card  Fees     None   \n",
       "4    2017-04-01  Prepaid card  Other special purpose card  Fees     None   \n",
       "\n",
       "                        consumer_complaint_narrative  \\\n",
       "0  I received a prepaid debit card from Citi bank...   \n",
       "1  XXXX/XXXX/15 purchased an American Express Blu...   \n",
       "2  I received XXXX ( XXXX ) USBank Cash+ Bonus Re...   \n",
       "3  I enrolled in American Express has premier shi...   \n",
       "4  I received a {$50.00} American Express Prepaid...   \n",
       "\n",
       "                             company_public_response  \\\n",
       "0  Company has responded to the consumer and the ...   \n",
       "1                                               None   \n",
       "2   Company chooses not to provide a public response   \n",
       "3                                               None   \n",
       "4                                               None   \n",
       "\n",
       "               company_name state  \n",
       "0            CITIBANK, N.A.    FL  \n",
       "1  AMERICAN EXPRESS COMPANY    CA  \n",
       "2              U.S. BANCORP    CA  \n",
       "3  AMERICAN EXPRESS COMPANY    CA  \n",
       "4  AMERICAN EXPRESS COMPANY    OH  "
      ]
     },
     "execution_count": 3,
     "metadata": {},
     "output_type": "execute_result"
    }
   ],
   "source": [
    "query = \"\"\"\n",
    "    SELECT \n",
    "        date_received,  \n",
    "        product,  \n",
    "        subproduct,   \n",
    "        issue, subissue,   \n",
    "        consumer_complaint_narrative,   \n",
    "        company_public_response,  \n",
    "        company_name, \n",
    "        state \n",
    "    FROM \n",
    "        `bigquery-public-data.cfpb_complaints.complaint_database`\n",
    "    WHERE\n",
    "        consumer_complaint_narrative IS NOT NULL\n",
    "\"\"\"\n",
    "query_job = client.query(\n",
    "    query,\n",
    "    # Location must match that of the dataset(s) referenced in the query.\n",
    "    location=\"US\",\n",
    ")  # API request - starts the query\n",
    "\n",
    "complaints_df = query_job.to_dataframe()\n",
    "complaints_df.head()"
   ]
  },
  {
   "cell_type": "markdown",
   "metadata": {},
   "source": [
    "### Making datetime object"
   ]
  },
  {
   "cell_type": "code",
   "execution_count": 4,
   "metadata": {},
   "outputs": [],
   "source": [
    "from datetime import datetime"
   ]
  },
  {
   "cell_type": "code",
   "execution_count": 5,
   "metadata": {},
   "outputs": [],
   "source": [
    "complaints_df['date_received'] = pandas.to_datetime(complaints_df['date_received'])"
   ]
  },
  {
   "cell_type": "code",
   "execution_count": 6,
   "metadata": {},
   "outputs": [],
   "source": [
    "complaints_df.set_index('date_received',inplace=True)"
   ]
  },
  {
   "cell_type": "code",
   "execution_count": 7,
   "metadata": {},
   "outputs": [
    {
     "data": {
      "text/html": [
       "<div>\n",
       "<style scoped>\n",
       "    .dataframe tbody tr th:only-of-type {\n",
       "        vertical-align: middle;\n",
       "    }\n",
       "\n",
       "    .dataframe tbody tr th {\n",
       "        vertical-align: top;\n",
       "    }\n",
       "\n",
       "    .dataframe thead th {\n",
       "        text-align: right;\n",
       "    }\n",
       "</style>\n",
       "<table border=\"1\" class=\"dataframe\">\n",
       "  <thead>\n",
       "    <tr style=\"text-align: right;\">\n",
       "      <th></th>\n",
       "      <th>product</th>\n",
       "      <th>subproduct</th>\n",
       "      <th>issue</th>\n",
       "      <th>subissue</th>\n",
       "      <th>consumer_complaint_narrative</th>\n",
       "      <th>company_public_response</th>\n",
       "      <th>company_name</th>\n",
       "      <th>state</th>\n",
       "    </tr>\n",
       "    <tr>\n",
       "      <th>date_received</th>\n",
       "      <th></th>\n",
       "      <th></th>\n",
       "      <th></th>\n",
       "      <th></th>\n",
       "      <th></th>\n",
       "      <th></th>\n",
       "      <th></th>\n",
       "      <th></th>\n",
       "    </tr>\n",
       "  </thead>\n",
       "  <tbody>\n",
       "    <tr>\n",
       "      <th>2016-11-28</th>\n",
       "      <td>Prepaid card</td>\n",
       "      <td>General purpose card</td>\n",
       "      <td>Fees</td>\n",
       "      <td>None</td>\n",
       "      <td>I received a prepaid debit card from Citi bank...</td>\n",
       "      <td>Company has responded to the consumer and the ...</td>\n",
       "      <td>CITIBANK, N.A.</td>\n",
       "      <td>FL</td>\n",
       "    </tr>\n",
       "    <tr>\n",
       "      <th>2015-04-19</th>\n",
       "      <td>Prepaid card</td>\n",
       "      <td>ID prepaid card</td>\n",
       "      <td>Fees</td>\n",
       "      <td>None</td>\n",
       "      <td>XXXX/XXXX/15 purchased an American Express Blu...</td>\n",
       "      <td>None</td>\n",
       "      <td>AMERICAN EXPRESS COMPANY</td>\n",
       "      <td>CA</td>\n",
       "    </tr>\n",
       "    <tr>\n",
       "      <th>2015-09-25</th>\n",
       "      <td>Prepaid card</td>\n",
       "      <td>General purpose card</td>\n",
       "      <td>Fees</td>\n",
       "      <td>None</td>\n",
       "      <td>I received XXXX ( XXXX ) USBank Cash+ Bonus Re...</td>\n",
       "      <td>Company chooses not to provide a public response</td>\n",
       "      <td>U.S. BANCORP</td>\n",
       "      <td>CA</td>\n",
       "    </tr>\n",
       "    <tr>\n",
       "      <th>2015-09-26</th>\n",
       "      <td>Prepaid card</td>\n",
       "      <td>Gift or merchant card</td>\n",
       "      <td>Fees</td>\n",
       "      <td>None</td>\n",
       "      <td>I enrolled in American Express has premier shi...</td>\n",
       "      <td>None</td>\n",
       "      <td>AMERICAN EXPRESS COMPANY</td>\n",
       "      <td>CA</td>\n",
       "    </tr>\n",
       "    <tr>\n",
       "      <th>2017-04-01</th>\n",
       "      <td>Prepaid card</td>\n",
       "      <td>Other special purpose card</td>\n",
       "      <td>Fees</td>\n",
       "      <td>None</td>\n",
       "      <td>I received a {$50.00} American Express Prepaid...</td>\n",
       "      <td>None</td>\n",
       "      <td>AMERICAN EXPRESS COMPANY</td>\n",
       "      <td>OH</td>\n",
       "    </tr>\n",
       "  </tbody>\n",
       "</table>\n",
       "</div>"
      ],
      "text/plain": [
       "                    product                  subproduct issue subissue  \\\n",
       "date_received                                                            \n",
       "2016-11-28     Prepaid card        General purpose card  Fees     None   \n",
       "2015-04-19     Prepaid card             ID prepaid card  Fees     None   \n",
       "2015-09-25     Prepaid card        General purpose card  Fees     None   \n",
       "2015-09-26     Prepaid card       Gift or merchant card  Fees     None   \n",
       "2017-04-01     Prepaid card  Other special purpose card  Fees     None   \n",
       "\n",
       "                                    consumer_complaint_narrative  \\\n",
       "date_received                                                      \n",
       "2016-11-28     I received a prepaid debit card from Citi bank...   \n",
       "2015-04-19     XXXX/XXXX/15 purchased an American Express Blu...   \n",
       "2015-09-25     I received XXXX ( XXXX ) USBank Cash+ Bonus Re...   \n",
       "2015-09-26     I enrolled in American Express has premier shi...   \n",
       "2017-04-01     I received a {$50.00} American Express Prepaid...   \n",
       "\n",
       "                                         company_public_response  \\\n",
       "date_received                                                      \n",
       "2016-11-28     Company has responded to the consumer and the ...   \n",
       "2015-04-19                                                  None   \n",
       "2015-09-25      Company chooses not to provide a public response   \n",
       "2015-09-26                                                  None   \n",
       "2017-04-01                                                  None   \n",
       "\n",
       "                           company_name state  \n",
       "date_received                                  \n",
       "2016-11-28               CITIBANK, N.A.    FL  \n",
       "2015-04-19     AMERICAN EXPRESS COMPANY    CA  \n",
       "2015-09-25                 U.S. BANCORP    CA  \n",
       "2015-09-26     AMERICAN EXPRESS COMPANY    CA  \n",
       "2017-04-01     AMERICAN EXPRESS COMPANY    OH  "
      ]
     },
     "execution_count": 7,
     "metadata": {},
     "output_type": "execute_result"
    }
   ],
   "source": [
    "complaints_df.head()"
   ]
  },
  {
   "cell_type": "markdown",
   "metadata": {},
   "source": [
    "### 18 main products, 76 subproducts"
   ]
  },
  {
   "cell_type": "code",
   "execution_count": 8,
   "metadata": {},
   "outputs": [
    {
     "name": "stdout",
     "output_type": "stream",
     "text": [
      "18\n",
      "75\n"
     ]
    }
   ],
   "source": [
    "print(complaints_df['product'].nunique())\n",
    "print(complaints_df['subproduct'].nunique())"
   ]
  },
  {
   "cell_type": "code",
   "execution_count": 9,
   "metadata": {},
   "outputs": [
    {
     "data": {
      "text/plain": [
       "Electronic Benefit Transfer / EBT card      3\n",
       "Student prepaid card                        4\n",
       "Transit card                               19\n",
       "Traveler’s/Cashier’s checks                22\n",
       "Credit repair                              39\n",
       "Pawn loan                                  49\n",
       "Check cashing                              54\n",
       "Other special purpose card                 58\n",
       "Government benefit payment card            80\n",
       "Mobile wallet                              85\n",
       "ID prepaid card                           101\n",
       "Refund anticipation check                 104\n",
       "Foreign currency exchange                 127\n",
       "Cashing a check without an account        134\n",
       "Check cashing service                     150\n",
       "Name: subproduct, dtype: int64"
      ]
     },
     "execution_count": 9,
     "metadata": {},
     "output_type": "execute_result"
    }
   ],
   "source": [
    "complaints_df['subproduct'].value_counts().sort_values()[:15]"
   ]
  },
  {
   "cell_type": "markdown",
   "metadata": {},
   "source": [
    "Some of these subproducts are kinda weird and niche. Probably roll them into blanket subproducts. "
   ]
  },
  {
   "cell_type": "code",
   "execution_count": 10,
   "metadata": {},
   "outputs": [
    {
     "data": {
      "text/plain": [
       "product\n",
       "Credit reporting, credit repair services, or other personal consumer reports    161589\n",
       "Debt collection                                                                 112624\n",
       "Mortgage                                                                         64238\n",
       "Credit card or prepaid card                                                      35622\n",
       "Credit reporting                                                                 31588\n",
       "Student loan                                                                     25914\n",
       "Checking or savings account                                                      20932\n",
       "Credit card                                                                      18838\n",
       "Bank account or service                                                          14885\n",
       "Consumer Loan                                                                     9473\n",
       "Vehicle loan or lease                                                             8878\n",
       "Money transfer, virtual currency, or money service                                8505\n",
       "Payday loan, title loan, or personal loan                                         7008\n",
       "Payday loan                                                                       1746\n",
       "Money transfers                                                                   1497\n",
       "Prepaid card                                                                      1450\n",
       "Other financial service                                                            292\n",
       "Virtual currency                                                                    16\n",
       "Name: issue, dtype: int64"
      ]
     },
     "execution_count": 10,
     "metadata": {},
     "output_type": "execute_result"
    }
   ],
   "source": [
    "complaints_df.groupby([complaints_df['product']])['issue'].count().sort_values(ascending=False)"
   ]
  },
  {
   "cell_type": "code",
   "execution_count": 11,
   "metadata": {},
   "outputs": [],
   "source": [
    "product_types = list(complaints_df['product'].unique())"
   ]
  },
  {
   "cell_type": "markdown",
   "metadata": {},
   "source": [
    "Made a list of the different types of products to iterate through faster."
   ]
  },
  {
   "cell_type": "markdown",
   "metadata": {},
   "source": [
    "### See if products changed over time"
   ]
  },
  {
   "cell_type": "code",
   "execution_count": 12,
   "metadata": {},
   "outputs": [
    {
     "data": {
      "text/plain": [
       "product                      date_received\n",
       "Bank account or service      2015             4559\n",
       "                             2016             7757\n",
       "                             2017             2569\n",
       "Checking or savings account  2017             4743\n",
       "                             2018             6999\n",
       "                                              ... \n",
       "Vehicle loan or lease        2019             2930\n",
       "                             2020              632\n",
       "Virtual currency             2015                7\n",
       "                             2016                6\n",
       "                             2017                3\n",
       "Name: issue, Length: 69, dtype: int64"
      ]
     },
     "execution_count": 12,
     "metadata": {},
     "output_type": "execute_result"
    }
   ],
   "source": [
    "year_grouping = complaints_df.groupby([complaints_df['product'],complaints_df.index.year])['issue'].count()\n",
    "year_grouping"
   ]
  },
  {
   "cell_type": "code",
   "execution_count": 13,
   "metadata": {},
   "outputs": [
    {
     "data": {
      "text/plain": [
       "['Prepaid card',\n",
       " 'Credit card',\n",
       " 'Credit card or prepaid card',\n",
       " 'Other financial service',\n",
       " 'Money transfer, virtual currency, or money service',\n",
       " 'Credit reporting, credit repair services, or other personal consumer reports',\n",
       " 'Money transfers',\n",
       " 'Student loan',\n",
       " 'Payday loan, title loan, or personal loan',\n",
       " 'Checking or savings account',\n",
       " 'Payday loan',\n",
       " 'Consumer Loan',\n",
       " 'Virtual currency',\n",
       " 'Mortgage',\n",
       " 'Debt collection',\n",
       " 'Vehicle loan or lease',\n",
       " 'Bank account or service',\n",
       " 'Credit reporting']"
      ]
     },
     "execution_count": 13,
     "metadata": {},
     "output_type": "execute_result"
    }
   ],
   "source": [
    "product_types"
   ]
  },
  {
   "cell_type": "markdown",
   "metadata": {},
   "source": [
    "### Legend is a little overbearing so there is another plot below without it."
   ]
  },
  {
   "cell_type": "code",
   "execution_count": 14,
   "metadata": {},
   "outputs": [
    {
     "data": {
      "text/plain": [
       "<matplotlib.axes._subplots.AxesSubplot at 0x7f2e1c9fa710>"
      ]
     },
     "execution_count": 14,
     "metadata": {},
     "output_type": "execute_result"
    },
    {
     "data": {
      "image/png": "[encoded data removed]",
      "text/plain": [
       "<Figure size 432x288 with 1 Axes>"
      ]
     },
     "metadata": {
      "needs_background": "light"
     },
     "output_type": "display_data"
    }
   ],
   "source": [
    "year_grouping.unstack(level=0)[product_types].plot()"
   ]
  },
  {
   "cell_type": "code",
   "execution_count": 15,
   "metadata": {},
   "outputs": [
    {
     "name": "stdout",
     "output_type": "stream",
     "text": [
      "Populating the interactive namespace from numpy and matplotlib\n"
     ]
    },
    {
     "name": "stderr",
     "output_type": "stream",
     "text": [
      "/usr/local/lib/python3.5/dist-packages/IPython/core/magics/pylab.py:160: UserWarning: pylab import has clobbered these variables: ['datetime']\n",
      "`%matplotlib` prevents importing * from pylab and numpy\n",
      "  \"\\n`%matplotlib` prevents importing * from pylab and numpy\"\n"
     ]
    }
   ],
   "source": [
    "%pylab inline"
   ]
  },
  {
   "cell_type": "code",
   "execution_count": 16,
   "metadata": {},
   "outputs": [
    {
     "data": {
      "image/png": "[encoded data removed]",
      "text/plain": [
       "<Figure size 432x288 with 1 Axes>"
      ]
     },
     "metadata": {
      "needs_background": "light"
     },
     "output_type": "display_data"
    }
   ],
   "source": [
    "for product in product_types:\n",
    "    plot(year_grouping.unstack(level=0).index, year_grouping.unstack(level=0)[product], marker='None', linestyle='-')"
   ]
  },
  {
   "cell_type": "markdown",
   "metadata": {},
   "source": [
    "### Closer look at different products, note different scales."
   ]
  },
  {
   "cell_type": "code",
   "execution_count": 17,
   "metadata": {},
   "outputs": [
    {
     "data": {
      "image/png": "[encoded data removed]",
      "text/plain": [
       "<Figure size 432x288 with 1 Axes>"
      ]
     },
     "metadata": {
      "needs_background": "light"
     },
     "output_type": "display_data"
    }
   ],
   "source": [
    "for product in product_types[:6]:\n",
    "    plot(year_grouping.unstack(level=0).index, year_grouping.unstack(level=0)[product], marker='None', linestyle='-',label=product)\n",
    "    legend(loc='best')"
   ]
  },
  {
   "cell_type": "markdown",
   "metadata": {},
   "source": [
    "Looks like credit card went to prepaid/credit card"
   ]
  },
  {
   "cell_type": "code",
   "execution_count": 18,
   "metadata": {},
   "outputs": [
    {
     "data": {
      "image/png": "[encoded data removed]",
      "text/plain": [
       "<Figure size 432x288 with 1 Axes>"
      ]
     },
     "metadata": {
      "needs_background": "light"
     },
     "output_type": "display_data"
    }
   ],
   "source": [
    "for product in product_types[6:12]:\n",
    "    plot(year_grouping.unstack(level=0).index, year_grouping.unstack(level=0)[product], marker='None', linestyle='-',label=product)\n",
    "    legend(loc='best')"
   ]
  },
  {
   "cell_type": "code",
   "execution_count": 19,
   "metadata": {},
   "outputs": [
    {
     "data": {
      "image/png": "[encoded data removed]",
      "text/plain": [
       "<Figure size 432x288 with 1 Axes>"
      ]
     },
     "metadata": {
      "needs_background": "light"
     },
     "output_type": "display_data"
    }
   ],
   "source": [
    "for product in product_types[12:]:\n",
    "    plot(year_grouping.unstack(level=0).index, year_grouping.unstack(level=0)[product], marker='None', linestyle='-',label=product)\n",
    "    legend(loc='best')"
   ]
  },
  {
   "cell_type": "markdown",
   "metadata": {},
   "source": [
    "Looks like the product labels changed overtime. For example, Credit Card and Prepaid Card both end in 2017 but Credit Card or Prepaid Card picks up in 2017. This most likely reflects how the online submission form and options has changed from the CFPB's inception in 2011. This gives us a good, logical basis to wrap up the product labels."
   ]
  },
  {
   "cell_type": "markdown",
   "metadata": {},
   "source": [
    "### Looking at issues"
   ]
  },
  {
   "cell_type": "code",
   "execution_count": 20,
   "metadata": {},
   "outputs": [
    {
     "data": {
      "text/plain": [
       "161"
      ]
     },
     "execution_count": 20,
     "metadata": {},
     "output_type": "execute_result"
    }
   ],
   "source": [
    "complaints_df['issue'].nunique()"
   ]
  },
  {
   "cell_type": "code",
   "execution_count": 21,
   "metadata": {},
   "outputs": [
    {
     "data": {
      "text/plain": [
       "Incorrect information on your report                                                90397\n",
       "Problem with a credit reporting company's investigation into an existing problem    43716\n",
       "Attempts to collect debt not owed                                                   31786\n",
       "Improper use of your report                                                         21688\n",
       "Incorrect information on credit report                                              21217\n",
       "Cont'd attempts collect debt not owed                                               17434\n",
       "Trouble during payment process                                                      14836\n",
       "Loan servicing, payments, escrow account                                            14722\n",
       "Communication tactics                                                               14406\n",
       "Written notification about debt                                                     13599\n",
       "Managing an account                                                                 11355\n",
       "False statements or representation                                                  11302\n",
       "Loan modification,collection,foreclosure                                            10789\n",
       "Dealing with your lender or servicer                                                 9823\n",
       "Struggling to pay mortgage                                                           9166\n",
       "Took or threatened to take negative or legal action                                  8478\n",
       "Problem with a purchase shown on your statement                                      8039\n",
       "Dealing with my lender or servicer                                                   7909\n",
       "Managing the loan or lease                                                           7795\n",
       "Disclosure verification of debt                                                      7590\n",
       "Name: issue, dtype: int64"
      ]
     },
     "execution_count": 21,
     "metadata": {},
     "output_type": "execute_result"
    }
   ],
   "source": [
    "complaints_df['issue'].value_counts()[:20]"
   ]
  },
  {
   "cell_type": "code",
   "execution_count": 22,
   "metadata": {},
   "outputs": [
    {
     "data": {
      "text/plain": [
       "96"
      ]
     },
     "execution_count": 22,
     "metadata": {},
     "output_type": "execute_result"
    }
   ],
   "source": [
    "sum(complaints_df['issue'].value_counts() < 1000)"
   ]
  },
  {
   "cell_type": "markdown",
   "metadata": {},
   "source": [
    "A lot of the issue labels have less than a 1000 counts."
   ]
  },
  {
   "cell_type": "code",
   "execution_count": 23,
   "metadata": {},
   "outputs": [
    {
     "data": {
      "text/plain": [
       "Credit line increase/decrease                                                         451\n",
       "Other transaction issues                                                              471\n",
       "Getting a loan                                                                        479\n",
       "Unsolicited issuance of credit card                                                   491\n",
       "Problem with a company's investigation into an existing issue                         499\n",
       "Other fee                                                                             502\n",
       "Credit determination                                                                  506\n",
       "Trouble using the card                                                                507\n",
       "Payoff process                                                                        513\n",
       "Managing, opening, or closing your mobile wallet account                              525\n",
       "Unauthorized transactions/trans. issues                                               543\n",
       "Billing statement                                                                     620\n",
       "Struggling to pay your bill                                                           630\n",
       "Unauthorized transactions or other transaction problem                                639\n",
       "Shopping for a loan or lease                                                          662\n",
       "Transaction issue                                                                     681\n",
       "Problem with the payoff process at the end of the loan                                686\n",
       "Credit card protection / Debt protection                                              712\n",
       "Late fee                                                                              771\n",
       "Problem with a purchase or transfer                                                   778\n",
       "APR or interest rate                                                                  785\n",
       "Unexpected or other fees                                                              822\n",
       "Advertising and marketing                                                             830\n",
       "Delinquent account                                                                    834\n",
       "Charged fees or interest I didn't expect                                              852\n",
       "Rewards                                                                               900\n",
       "Credit monitoring or identity protection                                              936\n",
       "Customer service / Customer relations                                                 973\n",
       "Getting a loan or lease                                                              1029\n",
       "Credit decision / Underwriting                                                       1289\n",
       "Making/receiving payments, sending money                                             1432\n",
       "Closing/Cancelling account                                                           1440\n",
       "Trouble using your card                                                              1500\n",
       "Improper use of my credit report                                                     1520\n",
       "Taking out the loan or lease                                                         1560\n",
       "Using a debit or ATM card                                                            1597\n",
       "Other transaction problem                                                            1604\n",
       "Problems at the end of the loan or lease                                             1685\n",
       "Money was not available when promised                                                1695\n",
       "Identity theft / Fraud / Embezzlement                                                1723\n",
       "Problem caused by your funds being low                                               1902\n",
       "Other                                                                                1940\n",
       "Charged fees or interest you didn't expect                                           1971\n",
       "Problems caused by my funds being low                                                2084\n",
       "Threatened to contact someone or share information improperly                        2186\n",
       "Settlement process and costs                                                         2250\n",
       "Unable to get credit report/credit score                                             2252\n",
       "Problem with a lender or other company charging your account                         2396\n",
       "Credit monitoring or identity theft protection services                              2421\n",
       "Problems when you are unable to pay                                                  2456\n",
       "Opening an account                                                                   2464\n",
       "Closing an account                                                                   2676\n",
       "Advertising and marketing, including promotional offers                              2705\n",
       "Closing your account                                                                 2740\n",
       "Struggling to pay your loan                                                          2859\n",
       "Getting a credit card                                                                2889\n",
       "Improper contact or sharing of info                                                  2911\n",
       "Closing on a mortgage                                                                2921\n",
       "Taking/threatening an illegal action                                                 2932\n",
       "Can't repay my loan                                                                  3057\n",
       "Billing disputes                                                                     3102\n",
       "Applying for a mortgage or refinancing an existing mortgage                          3403\n",
       "Deposits and withdrawals                                                             3425\n",
       "Unable to get your credit report or credit score                                     3523\n",
       "Problem with fraud alerts or security freezes                                        3630\n",
       "Struggling to repay your loan                                                        3711\n",
       "Application, originator, mortgage broker                                             3746\n",
       "Fraud or scam                                                                        3885\n",
       "Problem when making payments                                                         4343\n",
       "Fees or interest                                                                     4646\n",
       "Other features, terms, or problems                                                   4969\n",
       "Credit reporting company's investigation                                             5663\n",
       "Account opening, closing, or management                                              6347\n",
       "Disclosure verification of debt                                                      7590\n",
       "Managing the loan or lease                                                           7795\n",
       "Dealing with my lender or servicer                                                   7909\n",
       "Problem with a purchase shown on your statement                                      8039\n",
       "Took or threatened to take negative or legal action                                  8478\n",
       "Struggling to pay mortgage                                                           9166\n",
       "Dealing with your lender or servicer                                                 9823\n",
       "Loan modification,collection,foreclosure                                            10789\n",
       "False statements or representation                                                  11302\n",
       "Managing an account                                                                 11355\n",
       "Written notification about debt                                                     13599\n",
       "Communication tactics                                                               14406\n",
       "Loan servicing, payments, escrow account                                            14722\n",
       "Trouble during payment process                                                      14836\n",
       "Cont'd attempts collect debt not owed                                               17434\n",
       "Incorrect information on credit report                                              21217\n",
       "Improper use of your report                                                         21688\n",
       "Attempts to collect debt not owed                                                   31786\n",
       "Problem with a credit reporting company's investigation into an existing problem    43716\n",
       "Incorrect information on your report                                                90397\n",
       "Name: issue, dtype: int64"
      ]
     },
     "execution_count": 23,
     "metadata": {},
     "output_type": "execute_result"
    }
   ],
   "source": [
    "pandas.options.display.max_rows\n",
    "pandas.set_option('display.max_rows', None)\n",
    "complaints_df['issue'].value_counts().sort_values()[68:]"
   ]
  },
  {
   "cell_type": "markdown",
   "metadata": {},
   "source": [
    "### Lets look at it from a percentage perspective."
   ]
  },
  {
   "cell_type": "code",
   "execution_count": 24,
   "metadata": {},
   "outputs": [],
   "source": [
    "issue_list = complaints_df['issue'].value_counts()/len(complaints_df)"
   ]
  },
  {
   "cell_type": "code",
   "execution_count": 25,
   "metadata": {},
   "outputs": [
    {
     "data": {
      "text/plain": [
       "Lender damaged or destroyed property                                                0.000002\n",
       "Property was damaged or destroyed property                                          0.000004\n",
       "Problem with an overdraft                                                           0.000004\n",
       "Lender damaged or destroyed vehicle                                                 0.000004\n",
       "Lender sold the property                                                            0.000006\n",
       "Property was sold                                                                   0.000008\n",
       "Shopping for a line of credit                                                       0.000019\n",
       "Disclosures                                                                         0.000025\n",
       "Overdraft, savings, or rewards features                                             0.000029\n",
       "Problem with overdraft                                                              0.000030\n",
       "Managing the line of credit                                                         0.000030\n",
       "Account terms and changes                                                           0.000032\n",
       "Overdraft, savings or rewards features                                              0.000032\n",
       "Was approved for a loan, but didn't receive money                                   0.000036\n",
       "Unexpected/Other fees                                                               0.000042\n",
       "Advertising, marketing or disclosures                                               0.000048\n",
       "Incorrect exchange rate                                                             0.000051\n",
       "Problem with cash advance                                                           0.000057\n",
       "Overlimit fee                                                                       0.000059\n",
       "Lender repossessed or sold the vehicle                                              0.000059\n",
       "Credit limit changed                                                                0.000067\n",
       "Convenience checks                                                                  0.000070\n",
       "Vehicle was damaged or destroyed the vehicle                                        0.000076\n",
       "Cash advance fee                                                                    0.000078\n",
       "Cash advance                                                                        0.000084\n",
       "Balance transfer fee                                                                0.000097\n",
       "Customer service/Customer relations                                                 0.000105\n",
       "Incorrect/missing disclosures or info                                               0.000110\n",
       "Lost or stolen money order                                                          0.000114\n",
       "Lost or stolen check                                                                0.000130\n",
       "Was approved for a loan, but didn't receive the money                               0.000147\n",
       "Fees                                                                                0.000147\n",
       "Arbitration                                                                         0.000158\n",
       "Applied for loan/did not receive money                                              0.000162\n",
       "Advertising                                                                         0.000162\n",
       "Forbearance / Workout plans                                                         0.000162\n",
       "Problem adding money                                                                0.000164\n",
       "Excessive fees                                                                      0.000171\n",
       "Adding money                                                                        0.000175\n",
       "Bankruptcy                                                                          0.000183\n",
       "Sale of account                                                                     0.000187\n",
       "Money was taken from your bank account on the wrong day or for the wrong amount     0.000194\n",
       "Privacy                                                                             0.000200\n",
       "Charged bank acct wrong day or amt                                                  0.000202\n",
       "Application processing delay                                                        0.000204\n",
       "Vehicle was repossessed or sold the vehicle                                         0.000204\n",
       "Other service issues                                                                0.000263\n",
       "Loan payment wasn't credited to your account                                        0.000274\n",
       "Payment to acct not credited                                                        0.000288\n",
       "Can't stop withdrawals from your bank account                                       0.000312\n",
       "Can't stop charges to bank account                                                  0.000316\n",
       "Received a loan you didn't apply for                                                0.000326\n",
       "Can't contact lender or servicer                                                    0.000373\n",
       "Problem with additional add-on products or services                                 0.000394\n",
       "Applying for a mortgage                                                             0.000398\n",
       "Received a loan I didn't apply for                                                  0.000400\n",
       "Getting a line of credit                                                            0.000408\n",
       "Confusing or misleading advertising or marketing                                    0.000432\n",
       "Wrong amount charged or received                                                    0.000505\n",
       "Identity theft protection or other monitoring services                              0.000556\n",
       "Balance transfer                                                                    0.000568\n",
       "Problem getting a card or closing an account                                        0.000627\n",
       "Confusing or missing disclosures                                                    0.000661\n",
       "Problem with customer service                                                       0.000684\n",
       "Can't contact lender                                                                0.000708\n",
       "Managing, opening, or closing account                                               0.000735\n",
       "Other service problem                                                               0.000806\n",
       "Getting the loan                                                                    0.000819\n",
       "Credit line increase/decrease                                                       0.000859\n",
       "Other transaction issues                                                            0.000897\n",
       "Getting a loan                                                                      0.000912\n",
       "Unsolicited issuance of credit card                                                 0.000935\n",
       "Problem with a company's investigation into an existing issue                       0.000950\n",
       "Other fee                                                                           0.000956\n",
       "Credit determination                                                                0.000964\n",
       "Trouble using the card                                                              0.000966\n",
       "Payoff process                                                                      0.000977\n",
       "Managing, opening, or closing your mobile wallet account                            0.001000\n",
       "Unauthorized transactions/trans. issues                                             0.001034\n",
       "Billing statement                                                                   0.001181\n",
       "Struggling to pay your bill                                                         0.001200\n",
       "Unauthorized transactions or other transaction problem                              0.001217\n",
       "Shopping for a loan or lease                                                        0.001261\n",
       "Transaction issue                                                                   0.001297\n",
       "Problem with the payoff process at the end of the loan                              0.001306\n",
       "Credit card protection / Debt protection                                            0.001356\n",
       "Late fee                                                                            0.001468\n",
       "Problem with a purchase or transfer                                                 0.001482\n",
       "APR or interest rate                                                                0.001495\n",
       "Unexpected or other fees                                                            0.001565\n",
       "Advertising and marketing                                                           0.001581\n",
       "Delinquent account                                                                  0.001588\n",
       "Charged fees or interest I didn't expect                                            0.001623\n",
       "Rewards                                                                             0.001714\n",
       "Credit monitoring or identity protection                                            0.001783\n",
       "Customer service / Customer relations                                               0.001853\n",
       "Getting a loan or lease                                                             0.001960\n",
       "Credit decision / Underwriting                                                      0.002455\n",
       "Making/receiving payments, sending money                                            0.002727\n",
       "Closing/Cancelling account                                                          0.002742\n",
       "Trouble using your card                                                             0.002857\n",
       "Improper use of my credit report                                                    0.002895\n",
       "Taking out the loan or lease                                                        0.002971\n",
       "Using a debit or ATM card                                                           0.003041\n",
       "Other transaction problem                                                           0.003055\n",
       "Problems at the end of the loan or lease                                            0.003209\n",
       "Money was not available when promised                                               0.003228\n",
       "Identity theft / Fraud / Embezzlement                                               0.003281\n",
       "Problem caused by your funds being low                                              0.003622\n",
       "Other                                                                               0.003695\n",
       "Charged fees or interest you didn't expect                                          0.003754\n",
       "Problems caused by my funds being low                                               0.003969\n",
       "Threatened to contact someone or share information improperly                       0.004163\n",
       "Settlement process and costs                                                        0.004285\n",
       "Unable to get credit report/credit score                                            0.004289\n",
       "Problem with a lender or other company charging your account                        0.004563\n",
       "Credit monitoring or identity theft protection services                             0.004611\n",
       "Problems when you are unable to pay                                                 0.004677\n",
       "Opening an account                                                                  0.004692\n",
       "Closing an account                                                                  0.005096\n",
       "Advertising and marketing, including promotional offers                             0.005151\n",
       "Closing your account                                                                0.005218\n",
       "Struggling to pay your loan                                                         0.005445\n",
       "Getting a credit card                                                               0.005502\n",
       "Improper contact or sharing of info                                                 0.005544\n",
       "Closing on a mortgage                                                               0.005563\n",
       "Taking/threatening an illegal action                                                0.005584\n",
       "Can't repay my loan                                                                 0.005822\n",
       "Billing disputes                                                                    0.005908\n",
       "Applying for a mortgage or refinancing an existing mortgage                         0.006481\n",
       "Deposits and withdrawals                                                            0.006523\n",
       "Unable to get your credit report or credit score                                    0.006709\n",
       "Problem with fraud alerts or security freezes                                       0.006913\n",
       "Struggling to repay your loan                                                       0.007067\n",
       "Application, originator, mortgage broker                                            0.007134\n",
       "Fraud or scam                                                                       0.007399\n",
       "Problem when making payments                                                        0.008271\n",
       "Fees or interest                                                                    0.008848\n",
       "Other features, terms, or problems                                                  0.009463\n",
       "Credit reporting company's investigation                                            0.010785\n",
       "Account opening, closing, or management                                             0.012087\n",
       "Disclosure verification of debt                                                     0.014455\n",
       "Managing the loan or lease                                                          0.014845\n",
       "Dealing with my lender or servicer                                                  0.015062\n",
       "Problem with a purchase shown on your statement                                     0.015310\n",
       "Took or threatened to take negative or legal action                                 0.016146\n",
       "Struggling to pay mortgage                                                          0.017456\n",
       "Dealing with your lender or servicer                                                0.018707\n",
       "Loan modification,collection,foreclosure                                            0.020547\n",
       "False statements or representation                                                  0.021524\n",
       "Managing an account                                                                 0.021625\n",
       "Written notification about debt                                                     0.025898\n",
       "Communication tactics                                                               0.027435\n",
       "Loan servicing, payments, escrow account                                            0.028037\n",
       "Trouble during payment process                                                      0.028254\n",
       "Cont'd attempts collect debt not owed                                               0.033202\n",
       "Incorrect information on credit report                                              0.040406\n",
       "Improper use of your report                                                         0.041303\n",
       "Attempts to collect debt not owed                                                   0.060534\n",
       "Problem with a credit reporting company's investigation into an existing problem    0.083254\n",
       "Incorrect information on your report                                                0.172154\n",
       "Name: issue, dtype: float64"
      ]
     },
     "execution_count": 25,
     "metadata": {},
     "output_type": "execute_result"
    }
   ],
   "source": [
    "issue_list.sort_values()"
   ]
  },
  {
   "cell_type": "markdown",
   "metadata": {},
   "source": [
    "Note the Dealing with my lender or servicer is mentioned twice (should merge all of those together).\n",
    "\n",
    "Check how many are less than 1 percent."
   ]
  },
  {
   "cell_type": "code",
   "execution_count": 26,
   "metadata": {},
   "outputs": [
    {
     "data": {
      "text/plain": [
       "139"
      ]
     },
     "execution_count": 26,
     "metadata": {},
     "output_type": "execute_result"
    }
   ],
   "source": [
    "sum(issue_list < 0.01)"
   ]
  },
  {
   "cell_type": "markdown",
   "metadata": {},
   "source": [
    "139 are less than 1 percent. I have a few noted that can be wrapped into bigger categories, but for the rest they should be wrapped up together as an \"other\" label."
   ]
  },
  {
   "cell_type": "markdown",
   "metadata": {},
   "source": [
    "### Looking at subproducts and subissues"
   ]
  },
  {
   "cell_type": "code",
   "execution_count": 27,
   "metadata": {},
   "outputs": [
    {
     "data": {
      "text/plain": [
       "75"
      ]
     },
     "execution_count": 27,
     "metadata": {},
     "output_type": "execute_result"
    }
   ],
   "source": [
    "complaints_df['subproduct'].nunique()"
   ]
  },
  {
   "cell_type": "code",
   "execution_count": 28,
   "metadata": {},
   "outputs": [
    {
     "data": {
      "text/plain": [
       "Electronic Benefit Transfer / EBT card             3\n",
       "Student prepaid card                               4\n",
       "Transit card                                      19\n",
       "Traveler’s/Cashier’s checks                       22\n",
       "Credit repair                                     39\n",
       "Pawn loan                                         49\n",
       "Check cashing                                     54\n",
       "Other special purpose card                        58\n",
       "Government benefit payment card                   80\n",
       "Mobile wallet                                     85\n",
       "ID prepaid card                                  101\n",
       "Refund anticipation check                        104\n",
       "Foreign currency exchange                        127\n",
       "Cashing a check without an account               134\n",
       "Check cashing service                            150\n",
       "Gift or merchant card                            154\n",
       "Gift card                                        161\n",
       "Traveler's check or cashier's check              165\n",
       "Money order                                      184\n",
       "Debt settlement                                  227\n",
       "(CD) Certificate of deposit                      274\n",
       "Payroll card                                     363\n",
       "CD (Certificate of Deposit)                      381\n",
       "Government benefit card                          422\n",
       "Federal student loan                             549\n",
       "Reverse mortgage                                 703\n",
       "General purpose card                             730\n",
       "Credit repair services                           807\n",
       "Mortgage                                         907\n",
       "Title loan                                       925\n",
       "Vehicle lease                                    962\n",
       "Auto                                            1064\n",
       "Private student loan debt                       1169\n",
       "Federal student loan debt                       1228\n",
       "Personal line of credit                         1275\n",
       "General-purpose prepaid card                    1466\n",
       "Lease                                           1604\n",
       "Mortgage debt                                   1617\n",
       "Other banking product or service                1647\n",
       "Virtual currency                                1712\n",
       "Home equity loan or line of credit (HELOC)      1824\n",
       "International money transfer                    1831\n",
       "Home equity loan or line of credit              2103\n",
       "Other type of mortgage                          2181\n",
       "Mobile or digital wallet                        2278\n",
       "Savings account                                 2393\n",
       "Auto debt                                       2602\n",
       "Payday loan debt                                2712\n",
       "Other personal consumer report                  2721\n",
       "Other mortgage                                  3236\n",
       "Domestic (US) money transfer                    3417\n",
       "Other bank product/service                      3477\n",
       "VA mortgage                                     3707\n",
       "Payday loan                                     4247\n",
       "Conventional adjustable mortgage (ARM)          4975\n",
       "Vehicle loan                                    5141\n",
       "Private student loan                            5186\n",
       "Installment loan                                5969\n",
       "Store credit card                               6249\n",
       "Non-federal student loan                        6437\n",
       "Medical                                         6990\n",
       "Loan                                            7264\n",
       "Credit card                                     7520\n",
       "FHA mortgage                                   11972\n",
       "Medical debt                                   12378\n",
       "Other (i.e. phone, health club, etc.)          12389\n",
       "Conventional fixed mortgage                    14562\n",
       "Federal student loan servicing                 14975\n",
       "Credit card debt                               16098\n",
       "Conventional home mortgage                     18976\n",
       "Other debt                                     20527\n",
       "I do not know                                  22127\n",
       "General-purpose credit card or charge card     27177\n",
       "Checking account                               27497\n",
       "Credit reporting                              158060\n",
       "Name: subproduct, dtype: int64"
      ]
     },
     "execution_count": 28,
     "metadata": {},
     "output_type": "execute_result"
    }
   ],
   "source": [
    "complaints_df['subproduct'].value_counts().sort_values()"
   ]
  },
  {
   "cell_type": "markdown",
   "metadata": {},
   "source": [
    "### Percentage Perspective"
   ]
  },
  {
   "cell_type": "code",
   "execution_count": 29,
   "metadata": {},
   "outputs": [],
   "source": [
    "subproduct_list = complaints_df['subproduct'].value_counts()/len(complaints_df)"
   ]
  },
  {
   "cell_type": "code",
   "execution_count": 30,
   "metadata": {},
   "outputs": [
    {
     "data": {
      "text/plain": [
       "Electronic Benefit Transfer / EBT card        0.000006\n",
       "Student prepaid card                          0.000008\n",
       "Transit card                                  0.000036\n",
       "Traveler’s/Cashier’s checks                   0.000042\n",
       "Credit repair                                 0.000074\n",
       "Pawn loan                                     0.000093\n",
       "Check cashing                                 0.000103\n",
       "Other special purpose card                    0.000110\n",
       "Government benefit payment card               0.000152\n",
       "Mobile wallet                                 0.000162\n",
       "ID prepaid card                               0.000192\n",
       "Refund anticipation check                     0.000198\n",
       "Foreign currency exchange                     0.000242\n",
       "Cashing a check without an account            0.000255\n",
       "Check cashing service                         0.000286\n",
       "Gift or merchant card                         0.000293\n",
       "Gift card                                     0.000307\n",
       "Traveler's check or cashier's check           0.000314\n",
       "Money order                                   0.000350\n",
       "Debt settlement                               0.000432\n",
       "(CD) Certificate of deposit                   0.000522\n",
       "Payroll card                                  0.000691\n",
       "CD (Certificate of Deposit)                   0.000726\n",
       "Government benefit card                       0.000804\n",
       "Federal student loan                          0.001046\n",
       "Reverse mortgage                              0.001339\n",
       "General purpose card                          0.001390\n",
       "Credit repair services                        0.001537\n",
       "Mortgage                                      0.001727\n",
       "Title loan                                    0.001762\n",
       "Vehicle lease                                 0.001832\n",
       "Auto                                          0.002026\n",
       "Private student loan debt                     0.002226\n",
       "Federal student loan debt                     0.002339\n",
       "Personal line of credit                       0.002428\n",
       "General-purpose prepaid card                  0.002792\n",
       "Lease                                         0.003055\n",
       "Mortgage debt                                 0.003079\n",
       "Other banking product or service              0.003137\n",
       "Virtual currency                              0.003260\n",
       "Home equity loan or line of credit (HELOC)    0.003474\n",
       "International money transfer                  0.003487\n",
       "Home equity loan or line of credit            0.004005\n",
       "Other type of mortgage                        0.004154\n",
       "Mobile or digital wallet                      0.004338\n",
       "Savings account                               0.004557\n",
       "Auto debt                                     0.004955\n",
       "Payday loan debt                              0.005165\n",
       "Other personal consumer report                0.005182\n",
       "Other mortgage                                0.006163\n",
       "Domestic (US) money transfer                  0.006507\n",
       "Other bank product/service                    0.006622\n",
       "VA mortgage                                   0.007060\n",
       "Payday loan                                   0.008088\n",
       "Conventional adjustable mortgage (ARM)        0.009474\n",
       "Vehicle loan                                  0.009791\n",
       "Private student loan                          0.009876\n",
       "Installment loan                              0.011367\n",
       "Store credit card                             0.011901\n",
       "Non-federal student loan                      0.012259\n",
       "Medical                                       0.013312\n",
       "Loan                                          0.013834\n",
       "Credit card                                   0.014321\n",
       "FHA mortgage                                  0.022800\n",
       "Medical debt                                  0.023573\n",
       "Other (i.e. phone, health club, etc.)         0.023594\n",
       "Conventional fixed mortgage                   0.027732\n",
       "Federal student loan servicing                0.028519\n",
       "Credit card debt                              0.030657\n",
       "Conventional home mortgage                    0.036138\n",
       "Other debt                                    0.039092\n",
       "I do not know                                 0.042139\n",
       "General-purpose credit card or charge card    0.051756\n",
       "Checking account                              0.052366\n",
       "Credit reporting                              0.301012\n",
       "Name: subproduct, dtype: float64"
      ]
     },
     "execution_count": 30,
     "metadata": {},
     "output_type": "execute_result"
    }
   ],
   "source": [
    "subproduct_list.sort_values()"
   ]
  },
  {
   "cell_type": "markdown",
   "metadata": {},
   "source": [
    "How many below 1 percent again."
   ]
  },
  {
   "cell_type": "code",
   "execution_count": 31,
   "metadata": {},
   "outputs": [
    {
     "data": {
      "text/plain": [
       "57"
      ]
     },
     "execution_count": 31,
     "metadata": {},
     "output_type": "execute_result"
    }
   ],
   "source": [
    "sum(subproduct_list < 0.01)"
   ]
  },
  {
   "cell_type": "markdown",
   "metadata": {},
   "source": [
    "Should follow the same recommendation as the products branch and merge the obvious labels like Gift Card and Gift and Merchant Card, while the rest get wrapped up into an \"Other\" label."
   ]
  },
  {
   "cell_type": "markdown",
   "metadata": {},
   "source": [
    "# Subissue"
   ]
  },
  {
   "cell_type": "code",
   "execution_count": 32,
   "metadata": {},
   "outputs": [
    {
     "data": {
      "text/plain": [
       "216"
      ]
     },
     "execution_count": 32,
     "metadata": {},
     "output_type": "execute_result"
    }
   ],
   "source": [
    "complaints_df['subissue'].nunique()"
   ]
  },
  {
   "cell_type": "code",
   "execution_count": 33,
   "metadata": {},
   "outputs": [
    {
     "data": {
      "text/plain": [
       "Was signed up for overdraft on card, but don't want to be                                    3\n",
       "Trouble using the card to send money to another person                                       3\n",
       "Problem with a check written from your prepaid card account                                  7\n",
       "Qualified for a better loan than the one offered                                             8\n",
       "Threatened to turn you in to immigration or deport you                                       9\n",
       "Don't want a card provided by your employer or the government                               13\n",
       "Overcharged for a purchase or transfer you did make with the card                           15\n",
       "Overdraft charges                                                                           15\n",
       "Changes in terms from what was offered or advertised                                        19\n",
       "Problem with renewal                                                                        19\n",
       "Problem with fees or penalties                                                              20\n",
       "Problem extending the lease                                                                 21\n",
       "Account sold or transferred to another company                                              21\n",
       "Problem with convenience check                                                              22\n",
       "Problem adding money                                                                        22\n",
       "Problem with a trade-in                                                                     24\n",
       "Trouble using the card to pay a bill                                                        28\n",
       "Filed for bankruptcy                                                                        30\n",
       "Problem with additional add-on products or services purchased with the loan                 31\n",
       "Contacted you instead of your attorney                                                      33\n",
       "Denied loan                                                                                 34\n",
       "Problem with signing the paperwork                                                          40\n",
       "Problem with cash advances                                                                  45\n",
       "Problem with direct deposit                                                                 50\n",
       "Received marketing offer after opted out                                                    52\n",
       "Problem when attempting to purchase vehicle at the end of the lease                         52\n",
       "Receiving unwanted marketing/advertising                                                    53\n",
       "Report shared with employer w/o consent                                                     53\n",
       "Qualify for a better loan than offered                                                      56\n",
       "Credit card company forcing arbitration                                                     57\n",
       "High-pressure sales tactics                                                                 57\n",
       "Problem after you declared or threatened to declare bankruptcy                              59\n",
       "Problem using the card to withdraw money from an ATM                                        61\n",
       "Information that should be on the report is missing                                         63\n",
       "Trouble getting a working replacement card                                                  65\n",
       "Deposits or withdrawals                                                                     65\n",
       "Confusing or misleading advertising about the card                                          66\n",
       "Contacted me instead of my attorney                                                         67\n",
       "Trouble getting information about the card                                                  74\n",
       "Late or other fees                                                                          86\n",
       "Confusing or misleading advertising                                                         94\n",
       "Trouble getting, activating, or registering a card                                         103\n",
       "Problem related to refinancing                                                             113\n",
       "Bounced checks or returned payments                                                        123\n",
       "Can't qualify for a loan                                                                   127\n",
       "Indicated shouldn't respond to lawsuit                                                     141\n",
       "Credit denial                                                                              145\n",
       "Changes in terms mid-deal or after closing                                                 146\n",
       "Confusing or missing disclosures                                                           147\n",
       "Sued where didn't live/sign for debt                                                       147\n",
       "Problem cancelling or closing account                                                      148\n",
       "Trouble closing card                                                                       148\n",
       "Problem getting a working replacement card                                                 153\n",
       "Termination fees or other problem when ending the lease early                              154\n",
       "Confusing or misleading advertising or marketing                                           154\n",
       "Received unwanted marketing or advertising                                                 160\n",
       "Account terms and changes                                                                  165\n",
       "Loan sold or transferred to another company                                                170\n",
       "Sued you in a state where you do not live or did not sign for the debt                     179\n",
       "Problem while selling or giving up the vehicle                                             181\n",
       "Told you not to respond to a lawsuit they filed against you                                182\n",
       "Add-on products and services                                                               206\n",
       "Report provided to employer without your written authorization                             214\n",
       "Fees charged for closing account                                                           220\n",
       "Can't stop withdrawals from your account                                                   229\n",
       "Received unsolicited financial product or insurance offers after opting out                232\n",
       "Called outside of 8am-9pm                                                                  235\n",
       "Excess mileage, damage, or wear fees, or other problem after the lease is finish           237\n",
       "Privacy issues                                                                             239\n",
       "Overcharged for something you did purchase with the card                                   250\n",
       "Attempted to/Collected exempt funds                                                        251\n",
       "Delay in processing application                                                            254\n",
       "Trouble using the card to spend money in a store or online                                 262\n",
       "Money was taken from your account on the wrong day or for the wrong amount                 276\n",
       "Billing dispute                                                                            278\n",
       "Charged for a purchase or transfer you did not make with the card                          284\n",
       "Problem with fraud alerts                                                                  292\n",
       "Problem with balance transfer                                                              305\n",
       "Information is incorrect                                                                   328\n",
       "Cashing a check                                                                            350\n",
       "Sent card you never applied for                                                            353\n",
       "Problem with the interest rate                                                             365\n",
       "Contacted you after you asked them to stop                                                 369\n",
       "Called before 8am or after 9pm                                                             372\n",
       "Problem with additional products or services purchased with the loan                       383\n",
       "Indicated committed crime not paying                                                       384\n",
       "Keep getting calls about your loan                                                         391\n",
       "Collected or attempted to collect exempt funds                                             392\n",
       "Indicated you were committing crime by not paying debt                                     398\n",
       "Account opened as a result of fraud                                                        410\n",
       "Seized/Attempted to seize property                                                         426\n",
       "Problem with paying off the loan                                                           427\n",
       "Unexpected increase in interest rate                                                       429\n",
       "Problem with product or service terms changing                                             430\n",
       "Impersonated an attorney or official                                                       437\n",
       "Non-sufficient funds and associated fees                                                   440\n",
       "Called after sent written cease of comm                                                    448\n",
       "Need information about my balance/terms                                                    466\n",
       "Sued w/o proper notification of suit                                                       468\n",
       "Notification didn't disclose it was an attempt to collect a debt                           470\n",
       "Didn't receive services that were advertised                                               477\n",
       "Card company isn't resolving a dispute about a purchase or transfer                        479\n",
       "Can't temporarily delay making payments                                                    494\n",
       "Lender trying to repossess or disable the vehicle                                          495\n",
       "Keep getting calls about my loan                                                           496\n",
       "Unable to receive car title or other problem after the loan is paid off                    500\n",
       "Can't temporarily postpone payments                                                        501\n",
       "Credit card company won't increase or decrease your credit limit                           520\n",
       "Denied request to lower payments                                                           554\n",
       "Credit card company won't work with you while you're going through financial hardship      561\n",
       "Fraudulent loan                                                                            562\n",
       "Need information about your loan balance or loan terms                                     577\n",
       "Problem with fees charged                                                                  579\n",
       "Loan balance remaining after the vehicle is repossessed and sold                           583\n",
       "Problem canceling credit monitoring or identify theft protection service                   593\n",
       "Used obscene/profane/abusive language                                                      594\n",
       "Contacted employer after asked not to                                                      601\n",
       "Inadequate help over the phone                                                             603\n",
       "Not disclosed as an attempt to collect                                                     604\n",
       "Contacted your employer                                                                    633\n",
       "Debt was discharged in bankruptcy                                                          662\n",
       "Funds not received from closed account                                                     671\n",
       "Problem making or receiving payments                                                       676\n",
       "Contacted me after I asked not to                                                          694\n",
       "Threatened arrest/jail if do not pay                                                       711\n",
       "Threatened to arrest you or take you to jail if you do not pay                             713\n",
       "Unable to open an account                                                                  724\n",
       "Seized or attempted to seize your property                                                 773\n",
       "Problem accessing account                                                                  889\n",
       "Application denied                                                                         893\n",
       "Sued you without properly notifying you of lawsuit                                         900\n",
       "Threatened to sue on too old debt                                                          929\n",
       "Can't use card to make purchases                                                           959\n",
       "Investigation took too long                                                                962\n",
       "Used obscene, profane, or other abusive language                                           999\n",
       "Can't get flexible payment options                                                         999\n",
       "Don't agree with the fees charged                                                         1011\n",
       "Billing dispute for services                                                              1028\n",
       "Impersonated attorney, law enforcement, or government official                            1036\n",
       "Problem getting report or credit score                                                    1038\n",
       "You never received your bill or did not know a payment was due                            1063\n",
       "Confusing or misleading advertising about the credit card                                 1071\n",
       "Talked to a third-party about your debt                                                   1151\n",
       "Charged too much interest                                                                 1176\n",
       "Didn't receive terms that were advertised                                                 1183\n",
       "Having problems with customer service                                                     1193\n",
       "Problem getting my free annual report                                                     1214\n",
       "Card opened as result of identity theft or fraud                                          1236\n",
       "Overdrafts and overdraft fees                                                             1253\n",
       "Threatened to take legal action                                                           1265\n",
       "Don't agree with fees charged                                                             1292\n",
       "Problem with rewards from credit card                                                     1295\n",
       "Problem lowering your monthly payments                                                    1300\n",
       "Fee problem                                                                               1318\n",
       "Funds not handled or disbursed as instructed                                              1348\n",
       "Can't close your account                                                                  1359\n",
       "Problem getting your free annual credit report                                            1396\n",
       "Report improperly shared by CRC                                                           1415\n",
       "Problem with customer service                                                             1467\n",
       "Personal information                                                                      1528\n",
       "Banking errors                                                                            1539\n",
       "Talked to a third party about my debt                                                     1549\n",
       "Can't decrease my monthly payments                                                        1557\n",
       "Debt was already discharged in bankruptcy and is no longer owed                           1586\n",
       "Didn't receive advertised or promotional terms                                            1634\n",
       "Problem with statement of dispute                                                         1697\n",
       "Threatened to sue you for very old debt                                                   1795\n",
       "Billing problem                                                                           1809\n",
       "Transaction was not authorized                                                            1891\n",
       "Received bad information about my loan                                                    1898\n",
       "Information is missing that should be on the report                                       1907\n",
       "Problem using a debit or ATM card                                                         1955\n",
       "Can't get other flexible options for repaying your loan                                   1956\n",
       "Debt resulted from identity theft                                                         1983\n",
       "Reinserted previously deleted info                                                        2028\n",
       "Other problem getting your report or credit score                                         2106\n",
       "Other problem                                                                             2213\n",
       "No notice of investigation status/result                                                  2401\n",
       "Card was charged for something you did not purchase with the card                         2471\n",
       "Problem during payment process                                                            2490\n",
       "Right to dispute notice not received                                                      2552\n",
       "Trouble with how payments are handled                                                     2564\n",
       "You told them to stop contacting you, but they keep trying                                2594\n",
       "Problem with personal statement of dispute                                                2658\n",
       "Public record                                                                             2682\n",
       "Account terms                                                                             2738\n",
       "Problem with fees                                                                         3041\n",
       "Company closed your account                                                               3166\n",
       "Deposits and withdrawals                                                                  3176\n",
       "Was not notified of investigation status or results                                       3184\n",
       "Difficulty submitting a dispute or getting information about a dispute over the phone     3384\n",
       "Trouble with how payments are being handled                                               3416\n",
       "Received bad information about your loan                                                  3548\n",
       "Investigation took more than 30 days                                                      3611\n",
       "Threatened or suggested your credit would be damaged                                      3717\n",
       "Public record information inaccurate                                                      4233\n",
       "Not given enough info to verify debt                                                      4434\n",
       "Personal information incorrect                                                            4618\n",
       "Didn't receive notice of right to dispute                                                 4710\n",
       "Old information reappears or never goes away                                              4718\n",
       "Account status                                                                            5139\n",
       "Credit card company isn't resolving a dispute about a purchase on your statement          5318\n",
       "Debt was result of identity theft                                                         6893\n",
       "Reporting company used your report improperly                                             7038\n",
       "Information is not mine                                                                   7102\n",
       "Frequent or repeated calls                                                                7899\n",
       "Didn't receive enough information to verify debt                                          8419\n",
       "Attempted to collect wrong amount                                                         8724\n",
       "Debt is not mine                                                                         10105\n",
       "Debt was paid                                                                            11759\n",
       "Credit inquiries on your report that you don't recognize                                 14150\n",
       "Debt is not yours                                                                        16232\n",
       "Account information incorrect                                                            16684\n",
       "Account status incorrect                                                                 17469\n",
       "Their investigation did not fix an error on your report                                  31147\n",
       "Information belongs to someone else                                                      39803\n",
       "Name: subissue, dtype: int64"
      ]
     },
     "execution_count": 33,
     "metadata": {},
     "output_type": "execute_result"
    }
   ],
   "source": [
    "complaints_df['subissue'].value_counts().sort_values()"
   ]
  },
  {
   "cell_type": "code",
   "execution_count": 34,
   "metadata": {},
   "outputs": [],
   "source": [
    "subissue_list = complaints_df['subissue'].value_counts()/len(complaints_df)"
   ]
  },
  {
   "cell_type": "code",
   "execution_count": 35,
   "metadata": {},
   "outputs": [
    {
     "data": {
      "text/plain": [
       "Was signed up for overdraft on card, but don't want to be                                0.000006\n",
       "Trouble using the card to send money to another person                                   0.000006\n",
       "Problem with a check written from your prepaid card account                              0.000013\n",
       "Qualified for a better loan than the one offered                                         0.000015\n",
       "Threatened to turn you in to immigration or deport you                                   0.000017\n",
       "Don't want a card provided by your employer or the government                            0.000025\n",
       "Overcharged for a purchase or transfer you did make with the card                        0.000029\n",
       "Overdraft charges                                                                        0.000029\n",
       "Changes in terms from what was offered or advertised                                     0.000036\n",
       "Problem with renewal                                                                     0.000036\n",
       "Problem with fees or penalties                                                           0.000038\n",
       "Problem extending the lease                                                              0.000040\n",
       "Account sold or transferred to another company                                           0.000040\n",
       "Problem with convenience check                                                           0.000042\n",
       "Problem adding money                                                                     0.000042\n",
       "Problem with a trade-in                                                                  0.000046\n",
       "Trouble using the card to pay a bill                                                     0.000053\n",
       "Filed for bankruptcy                                                                     0.000057\n",
       "Problem with additional add-on products or services purchased with the loan              0.000059\n",
       "Contacted you instead of your attorney                                                   0.000063\n",
       "Denied loan                                                                              0.000065\n",
       "Problem with signing the paperwork                                                       0.000076\n",
       "Problem with cash advances                                                               0.000086\n",
       "Problem with direct deposit                                                              0.000095\n",
       "Received marketing offer after opted out                                                 0.000099\n",
       "Problem when attempting to purchase vehicle at the end of the lease                      0.000099\n",
       "Receiving unwanted marketing/advertising                                                 0.000101\n",
       "Report shared with employer w/o consent                                                  0.000101\n",
       "Qualify for a better loan than offered                                                   0.000107\n",
       "Credit card company forcing arbitration                                                  0.000109\n",
       "High-pressure sales tactics                                                              0.000109\n",
       "Problem after you declared or threatened to declare bankruptcy                           0.000112\n",
       "Problem using the card to withdraw money from an ATM                                     0.000116\n",
       "Information that should be on the report is missing                                      0.000120\n",
       "Trouble getting a working replacement card                                               0.000124\n",
       "Deposits or withdrawals                                                                  0.000124\n",
       "Confusing or misleading advertising about the card                                       0.000126\n",
       "Contacted me instead of my attorney                                                      0.000128\n",
       "Trouble getting information about the card                                               0.000141\n",
       "Late or other fees                                                                       0.000164\n",
       "Confusing or misleading advertising                                                      0.000179\n",
       "Trouble getting, activating, or registering a card                                       0.000196\n",
       "Problem related to refinancing                                                           0.000215\n",
       "Bounced checks or returned payments                                                      0.000234\n",
       "Can't qualify for a loan                                                                 0.000242\n",
       "Indicated shouldn't respond to lawsuit                                                   0.000269\n",
       "Credit denial                                                                            0.000276\n",
       "Changes in terms mid-deal or after closing                                               0.000278\n",
       "Confusing or missing disclosures                                                         0.000280\n",
       "Sued where didn't live/sign for debt                                                     0.000280\n",
       "Problem cancelling or closing account                                                    0.000282\n",
       "Trouble closing card                                                                     0.000282\n",
       "Problem getting a working replacement card                                               0.000291\n",
       "Termination fees or other problem when ending the lease early                            0.000293\n",
       "Confusing or misleading advertising or marketing                                         0.000293\n",
       "Received unwanted marketing or advertising                                               0.000305\n",
       "Account terms and changes                                                                0.000314\n",
       "Loan sold or transferred to another company                                              0.000324\n",
       "Sued you in a state where you do not live or did not sign for the debt                   0.000341\n",
       "Problem while selling or giving up the vehicle                                           0.000345\n",
       "Told you not to respond to a lawsuit they filed against you                              0.000347\n",
       "Add-on products and services                                                             0.000392\n",
       "Report provided to employer without your written authorization                           0.000408\n",
       "Fees charged for closing account                                                         0.000419\n",
       "Can't stop withdrawals from your account                                                 0.000436\n",
       "Received unsolicited financial product or insurance offers after opting out              0.000442\n",
       "Called outside of 8am-9pm                                                                0.000448\n",
       "Excess mileage, damage, or wear fees, or other problem after the lease is finish         0.000451\n",
       "Privacy issues                                                                           0.000455\n",
       "Overcharged for something you did purchase with the card                                 0.000476\n",
       "Attempted to/Collected exempt funds                                                      0.000478\n",
       "Delay in processing application                                                          0.000484\n",
       "Trouble using the card to spend money in a store or online                               0.000499\n",
       "Money was taken from your account on the wrong day or for the wrong amount               0.000526\n",
       "Billing dispute                                                                          0.000529\n",
       "Charged for a purchase or transfer you did not make with the card                        0.000541\n",
       "Problem with fraud alerts                                                                0.000556\n",
       "Problem with balance transfer                                                            0.000581\n",
       "Information is incorrect                                                                 0.000625\n",
       "Cashing a check                                                                          0.000667\n",
       "Sent card you never applied for                                                          0.000672\n",
       "Problem with the interest rate                                                           0.000695\n",
       "Contacted you after you asked them to stop                                               0.000703\n",
       "Called before 8am or after 9pm                                                           0.000708\n",
       "Problem with additional products or services purchased with the loan                     0.000729\n",
       "Indicated committed crime not paying                                                     0.000731\n",
       "Keep getting calls about your loan                                                       0.000745\n",
       "Collected or attempted to collect exempt funds                                           0.000747\n",
       "Indicated you were committing crime by not paying debt                                   0.000758\n",
       "Account opened as a result of fraud                                                      0.000781\n",
       "Seized/Attempted to seize property                                                       0.000811\n",
       "Problem with paying off the loan                                                         0.000813\n",
       "Unexpected increase in interest rate                                                     0.000817\n",
       "Problem with product or service terms changing                                           0.000819\n",
       "Impersonated an attorney or official                                                     0.000832\n",
       "Non-sufficient funds and associated fees                                                 0.000838\n",
       "Called after sent written cease of comm                                                  0.000853\n",
       "Need information about my balance/terms                                                  0.000887\n",
       "Sued w/o proper notification of suit                                                     0.000891\n",
       "Notification didn't disclose it was an attempt to collect a debt                         0.000895\n",
       "Didn't receive services that were advertised                                             0.000908\n",
       "Card company isn't resolving a dispute about a purchase or transfer                      0.000912\n",
       "Can't temporarily delay making payments                                                  0.000941\n",
       "Lender trying to repossess or disable the vehicle                                        0.000943\n",
       "Keep getting calls about my loan                                                         0.000945\n",
       "Unable to receive car title or other problem after the loan is paid off                  0.000952\n",
       "Can't temporarily postpone payments                                                      0.000954\n",
       "Credit card company won't increase or decrease your credit limit                         0.000990\n",
       "Denied request to lower payments                                                         0.001055\n",
       "Credit card company won't work with you while you're going through financial hardship    0.001068\n",
       "Fraudulent loan                                                                          0.001070\n",
       "Need information about your loan balance or loan terms                                   0.001099\n",
       "Problem with fees charged                                                                0.001103\n",
       "Loan balance remaining after the vehicle is repossessed and sold                         0.001110\n",
       "Problem canceling credit monitoring or identify theft protection service                 0.001129\n",
       "Used obscene/profane/abusive language                                                    0.001131\n",
       "Contacted employer after asked not to                                                    0.001145\n",
       "Inadequate help over the phone                                                           0.001148\n",
       "Not disclosed as an attempt to collect                                                   0.001150\n",
       "Contacted your employer                                                                  0.001205\n",
       "Debt was discharged in bankruptcy                                                        0.001261\n",
       "Funds not received from closed account                                                   0.001278\n",
       "Problem making or receiving payments                                                     0.001287\n",
       "Contacted me after I asked not to                                                        0.001322\n",
       "Threatened arrest/jail if do not pay                                                     0.001354\n",
       "Threatened to arrest you or take you to jail if you do not pay                           0.001358\n",
       "Unable to open an account                                                                0.001379\n",
       "Seized or attempted to seize your property                                               0.001472\n",
       "Problem accessing account                                                                0.001693\n",
       "Application denied                                                                       0.001701\n",
       "Sued you without properly notifying you of lawsuit                                       0.001714\n",
       "Threatened to sue on too old debt                                                        0.001769\n",
       "Can't use card to make purchases                                                         0.001826\n",
       "Investigation took too long                                                              0.001832\n",
       "Used obscene, profane, or other abusive language                                         0.001903\n",
       "Can't get flexible payment options                                                       0.001903\n",
       "Don't agree with the fees charged                                                        0.001925\n",
       "Billing dispute for services                                                             0.001958\n",
       "Impersonated attorney, law enforcement, or government official                           0.001973\n",
       "Problem getting report or credit score                                                   0.001977\n",
       "You never received your bill or did not know a payment was due                           0.002024\n",
       "Confusing or misleading advertising about the credit card                                0.002040\n",
       "Talked to a third-party about your debt                                                  0.002192\n",
       "Charged too much interest                                                                0.002240\n",
       "Didn't receive terms that were advertised                                                0.002253\n",
       "Having problems with customer service                                                    0.002272\n",
       "Problem getting my free annual report                                                    0.002312\n",
       "Card opened as result of identity theft or fraud                                         0.002354\n",
       "Overdrafts and overdraft fees                                                            0.002386\n",
       "Threatened to take legal action                                                          0.002409\n",
       "Don't agree with fees charged                                                            0.002461\n",
       "Problem with rewards from credit card                                                    0.002466\n",
       "Problem lowering your monthly payments                                                   0.002476\n",
       "Fee problem                                                                              0.002510\n",
       "Funds not handled or disbursed as instructed                                             0.002567\n",
       "Can't close your account                                                                 0.002588\n",
       "Problem getting your free annual credit report                                           0.002659\n",
       "Report improperly shared by CRC                                                          0.002695\n",
       "Problem with customer service                                                            0.002794\n",
       "Personal information                                                                     0.002910\n",
       "Banking errors                                                                           0.002931\n",
       "Talked to a third party about my debt                                                    0.002950\n",
       "Can't decrease my monthly payments                                                       0.002965\n",
       "Debt was already discharged in bankruptcy and is no longer owed                          0.003020\n",
       "Didn't receive advertised or promotional terms                                           0.003112\n",
       "Problem with statement of dispute                                                        0.003232\n",
       "Threatened to sue you for very old debt                                                  0.003418\n",
       "Billing problem                                                                          0.003445\n",
       "Transaction was not authorized                                                           0.003601\n",
       "Received bad information about my loan                                                   0.003615\n",
       "Information is missing that should be on the report                                      0.003632\n",
       "Problem using a debit or ATM card                                                        0.003723\n",
       "Can't get other flexible options for repaying your loan                                  0.003725\n",
       "Debt resulted from identity theft                                                        0.003776\n",
       "Reinserted previously deleted info                                                       0.003862\n",
       "Other problem getting your report or credit score                                        0.004011\n",
       "Other problem                                                                            0.004214\n",
       "No notice of investigation status/result                                                 0.004573\n",
       "Card was charged for something you did not purchase with the card                        0.004706\n",
       "Problem during payment process                                                           0.004742\n",
       "Right to dispute notice not received                                                     0.004860\n",
       "Trouble with how payments are handled                                                    0.004883\n",
       "You told them to stop contacting you, but they keep trying                               0.004940\n",
       "Problem with personal statement of dispute                                               0.005062\n",
       "Public record                                                                            0.005108\n",
       "Account terms                                                                            0.005214\n",
       "Problem with fees                                                                        0.005791\n",
       "Company closed your account                                                              0.006029\n",
       "Deposits and withdrawals                                                                 0.006048\n",
       "Was not notified of investigation status or results                                      0.006064\n",
       "Difficulty submitting a dispute or getting information about a dispute over the phone    0.006445\n",
       "Trouble with how payments are being handled                                              0.006505\n",
       "Received bad information about your loan                                                 0.006757\n",
       "Investigation took more than 30 days                                                     0.006877\n",
       "Threatened or suggested your credit would be damaged                                     0.007079\n",
       "Public record information inaccurate                                                     0.008061\n",
       "Not given enough info to verify debt                                                     0.008444\n",
       "Personal information incorrect                                                           0.008795\n",
       "Didn't receive notice of right to dispute                                                0.008970\n",
       "Old information reappears or never goes away                                             0.008985\n",
       "Account status                                                                           0.009787\n",
       "Credit card company isn't resolving a dispute about a purchase on your statement         0.010128\n",
       "Debt was result of identity theft                                                        0.013127\n",
       "Reporting company used your report improperly                                            0.013403\n",
       "Information is not mine                                                                  0.013525\n",
       "Frequent or repeated calls                                                               0.015043\n",
       "Didn't receive enough information to verify debt                                         0.016033\n",
       "Attempted to collect wrong amount                                                        0.016614\n",
       "Debt is not mine                                                                         0.019244\n",
       "Debt was paid                                                                            0.022394\n",
       "Credit inquiries on your report that you don't recognize                                 0.026948\n",
       "Debt is not yours                                                                        0.030913\n",
       "Account information incorrect                                                            0.031773\n",
       "Account status incorrect                                                                 0.033268\n",
       "Their investigation did not fix an error on your report                                  0.059317\n",
       "Information belongs to someone else                                                      0.075802\n",
       "Name: subissue, dtype: float64"
      ]
     },
     "execution_count": 35,
     "metadata": {},
     "output_type": "execute_result"
    }
   ],
   "source": [
    "subissue_list.sort_values()"
   ]
  },
  {
   "cell_type": "code",
   "execution_count": 36,
   "metadata": {},
   "outputs": [
    {
     "data": {
      "text/plain": [
       "201"
      ]
     },
     "execution_count": 36,
     "metadata": {},
     "output_type": "execute_result"
    }
   ],
   "source": [
    "sum(subissue_list < 0.01)"
   ]
  },
  {
   "cell_type": "markdown",
   "metadata": {},
   "source": [
    "Subissues should follow the same logic as subproducts and issues. That is, we should wrap up labels that are less than 1 percent into an other category, while wrapping up obvious labels like Account status and Account status incorrect. "
   ]
  }
 ],
 "metadata": {
  "kernelspec": {
   "display_name": "Python 3",
   "language": "python",
   "name": "python3"
  },
  "language_info": {
   "codemirror_mode": {
    "name": "ipython",
    "version": 3
   },
   "file_extension": ".py",
   "mimetype": "text/x-python",
   "name": "python",
   "nbconvert_exporter": "python",
   "pygments_lexer": "ipython3",
   "version": "3.5.3"
  }
 },
 "nbformat": 4,
 "nbformat_minor": 4
}
